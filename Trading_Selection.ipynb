{
  "nbformat": 4,
  "nbformat_minor": 0,
  "metadata": {
    "colab": {
      "name": "Trading_Selection.ipynb",
      "provenance": [],
      "collapsed_sections": [],
      "include_colab_link": true
    },
    "kernelspec": {
      "name": "python3",
      "display_name": "Python 3"
    }
  },
  "cells": [
    {
      "cell_type": "markdown",
      "metadata": {
        "id": "view-in-github",
        "colab_type": "text"
      },
      "source": [
        "<a href=\"https://colab.research.google.com/github/isaacpy-cloud/TraderWolfs/blob/main/Trading_Selection.ipynb\" target=\"_parent\"><img src=\"https://colab.research.google.com/assets/colab-badge.svg\" alt=\"Open In Colab\"/></a>"
      ]
    },
    {
      "cell_type": "code",
      "metadata": {
        "colab": {
          "base_uri": "https://localhost:8080/"
        },
        "id": "GK_SsKFm59gv",
        "outputId": "410b503c-87dd-4e24-94da-9bc5f42f1ad5"
      },
      "source": [
        "!pip install python-binance\r\n",
        "!pip install catboost\r\n",
        "!pip install mpl_finance\r\n",
        "!pip install tradingview-ta\r\n",
        "!pip install websocket-client\r\n",
        "!pip install finta\r\n",
        "!pip install pandas_ta"
      ],
      "execution_count": 1,
      "outputs": [
        {
          "output_type": "stream",
          "text": [
            "Requirement already satisfied: python-binance in /usr/local/lib/python3.7/dist-packages (0.7.9)\n",
            "Requirement already satisfied: six in /usr/local/lib/python3.7/dist-packages (from python-binance) (1.15.0)\n",
            "Requirement already satisfied: certifi in /usr/local/lib/python3.7/dist-packages (from python-binance) (2020.12.5)\n",
            "Requirement already satisfied: cryptography in /usr/local/lib/python3.7/dist-packages (from python-binance) (3.4.6)\n",
            "Requirement already satisfied: pyOpenSSL in /usr/local/lib/python3.7/dist-packages (from python-binance) (20.0.1)\n",
            "Requirement already satisfied: autobahn in /usr/local/lib/python3.7/dist-packages (from python-binance) (21.3.1)\n",
            "Requirement already satisfied: Twisted in /usr/local/lib/python3.7/dist-packages (from python-binance) (21.2.0)\n",
            "Requirement already satisfied: ujson in /usr/local/lib/python3.7/dist-packages (from python-binance) (4.0.2)\n",
            "Requirement already satisfied: service-identity in /usr/local/lib/python3.7/dist-packages (from python-binance) (18.1.0)\n",
            "Requirement already satisfied: requests in /usr/local/lib/python3.7/dist-packages (from python-binance) (2.23.0)\n",
            "Requirement already satisfied: urllib3 in /usr/local/lib/python3.7/dist-packages (from python-binance) (1.24.3)\n",
            "Requirement already satisfied: dateparser in /usr/local/lib/python3.7/dist-packages (from python-binance) (1.0.0)\n",
            "Requirement already satisfied: cffi>=1.12 in /usr/local/lib/python3.7/dist-packages (from cryptography->python-binance) (1.14.5)\n",
            "Requirement already satisfied: hyperlink>=21.0.0 in /usr/local/lib/python3.7/dist-packages (from autobahn->python-binance) (21.0.0)\n",
            "Requirement already satisfied: txaio>=21.2.1 in /usr/local/lib/python3.7/dist-packages (from autobahn->python-binance) (21.2.1)\n",
            "Requirement already satisfied: zope.interface>=4.4.2 in /usr/local/lib/python3.7/dist-packages (from Twisted->python-binance) (5.2.0)\n",
            "Requirement already satisfied: Automat>=0.8.0 in /usr/local/lib/python3.7/dist-packages (from Twisted->python-binance) (20.2.0)\n",
            "Requirement already satisfied: incremental>=16.10.1 in /usr/local/lib/python3.7/dist-packages (from Twisted->python-binance) (21.3.0)\n",
            "Requirement already satisfied: constantly>=15.1 in /usr/local/lib/python3.7/dist-packages (from Twisted->python-binance) (15.1.0)\n",
            "Requirement already satisfied: attrs>=19.2.0 in /usr/local/lib/python3.7/dist-packages (from Twisted->python-binance) (20.3.0)\n",
            "Requirement already satisfied: pyasn1-modules in /usr/local/lib/python3.7/dist-packages (from service-identity->python-binance) (0.2.8)\n",
            "Requirement already satisfied: pyasn1 in /usr/local/lib/python3.7/dist-packages (from service-identity->python-binance) (0.4.8)\n",
            "Requirement already satisfied: chardet<4,>=3.0.2 in /usr/local/lib/python3.7/dist-packages (from requests->python-binance) (3.0.4)\n",
            "Requirement already satisfied: idna<3,>=2.5 in /usr/local/lib/python3.7/dist-packages (from requests->python-binance) (2.10)\n",
            "Requirement already satisfied: regex!=2019.02.19 in /usr/local/lib/python3.7/dist-packages (from dateparser->python-binance) (2019.12.20)\n",
            "Requirement already satisfied: tzlocal in /usr/local/lib/python3.7/dist-packages (from dateparser->python-binance) (1.5.1)\n",
            "Requirement already satisfied: python-dateutil in /usr/local/lib/python3.7/dist-packages (from dateparser->python-binance) (2.8.1)\n",
            "Requirement already satisfied: pytz in /usr/local/lib/python3.7/dist-packages (from dateparser->python-binance) (2018.9)\n",
            "Requirement already satisfied: pycparser in /usr/local/lib/python3.7/dist-packages (from cffi>=1.12->cryptography->python-binance) (2.20)\n",
            "Requirement already satisfied: setuptools in /usr/local/lib/python3.7/dist-packages (from zope.interface>=4.4.2->Twisted->python-binance) (54.0.0)\n",
            "Requirement already satisfied: catboost in /usr/local/lib/python3.7/dist-packages (0.24.4)\n",
            "Requirement already satisfied: pandas>=0.24.0 in /usr/local/lib/python3.7/dist-packages (from catboost) (1.1.5)\n",
            "Requirement already satisfied: scipy in /usr/local/lib/python3.7/dist-packages (from catboost) (1.4.1)\n",
            "Requirement already satisfied: six in /usr/local/lib/python3.7/dist-packages (from catboost) (1.15.0)\n",
            "Requirement already satisfied: plotly in /usr/local/lib/python3.7/dist-packages (from catboost) (4.4.1)\n",
            "Requirement already satisfied: graphviz in /usr/local/lib/python3.7/dist-packages (from catboost) (0.10.1)\n",
            "Requirement already satisfied: numpy>=1.16.0 in /usr/local/lib/python3.7/dist-packages (from catboost) (1.19.5)\n",
            "Requirement already satisfied: matplotlib in /usr/local/lib/python3.7/dist-packages (from catboost) (3.2.2)\n",
            "Requirement already satisfied: python-dateutil>=2.7.3 in /usr/local/lib/python3.7/dist-packages (from pandas>=0.24.0->catboost) (2.8.1)\n",
            "Requirement already satisfied: pytz>=2017.2 in /usr/local/lib/python3.7/dist-packages (from pandas>=0.24.0->catboost) (2018.9)\n",
            "Requirement already satisfied: retrying>=1.3.3 in /usr/local/lib/python3.7/dist-packages (from plotly->catboost) (1.3.3)\n",
            "Requirement already satisfied: kiwisolver>=1.0.1 in /usr/local/lib/python3.7/dist-packages (from matplotlib->catboost) (1.3.1)\n",
            "Requirement already satisfied: cycler>=0.10 in /usr/local/lib/python3.7/dist-packages (from matplotlib->catboost) (0.10.0)\n",
            "Requirement already satisfied: pyparsing!=2.0.4,!=2.1.2,!=2.1.6,>=2.0.1 in /usr/local/lib/python3.7/dist-packages (from matplotlib->catboost) (2.4.7)\n",
            "Requirement already satisfied: mpl_finance in /usr/local/lib/python3.7/dist-packages (0.10.1)\n",
            "Requirement already satisfied: matplotlib in /usr/local/lib/python3.7/dist-packages (from mpl_finance) (3.2.2)\n",
            "Requirement already satisfied: pyparsing!=2.0.4,!=2.1.2,!=2.1.6,>=2.0.1 in /usr/local/lib/python3.7/dist-packages (from matplotlib->mpl_finance) (2.4.7)\n",
            "Requirement already satisfied: kiwisolver>=1.0.1 in /usr/local/lib/python3.7/dist-packages (from matplotlib->mpl_finance) (1.3.1)\n",
            "Requirement already satisfied: cycler>=0.10 in /usr/local/lib/python3.7/dist-packages (from matplotlib->mpl_finance) (0.10.0)\n",
            "Requirement already satisfied: numpy>=1.11 in /usr/local/lib/python3.7/dist-packages (from matplotlib->mpl_finance) (1.19.5)\n",
            "Requirement already satisfied: python-dateutil>=2.1 in /usr/local/lib/python3.7/dist-packages (from matplotlib->mpl_finance) (2.8.1)\n",
            "Requirement already satisfied: six in /usr/local/lib/python3.7/dist-packages (from cycler>=0.10->matplotlib->mpl_finance) (1.15.0)\n",
            "Requirement already satisfied: tradingview-ta in /usr/local/lib/python3.7/dist-packages (3.2.2)\n",
            "Requirement already satisfied: requests in /usr/local/lib/python3.7/dist-packages (from tradingview-ta) (2.23.0)\n",
            "Requirement already satisfied: certifi>=2017.4.17 in /usr/local/lib/python3.7/dist-packages (from requests->tradingview-ta) (2020.12.5)\n",
            "Requirement already satisfied: idna<3,>=2.5 in /usr/local/lib/python3.7/dist-packages (from requests->tradingview-ta) (2.10)\n",
            "Requirement already satisfied: urllib3!=1.25.0,!=1.25.1,<1.26,>=1.21.1 in /usr/local/lib/python3.7/dist-packages (from requests->tradingview-ta) (1.24.3)\n",
            "Requirement already satisfied: chardet<4,>=3.0.2 in /usr/local/lib/python3.7/dist-packages (from requests->tradingview-ta) (3.0.4)\n",
            "Requirement already satisfied: websocket-client in /usr/local/lib/python3.7/dist-packages (0.58.0)\n",
            "Requirement already satisfied: six in /usr/local/lib/python3.7/dist-packages (from websocket-client) (1.15.0)\n",
            "Requirement already satisfied: finta in /usr/local/lib/python3.7/dist-packages (1.2)\n",
            "Requirement already satisfied: pandas in /usr/local/lib/python3.7/dist-packages (from finta) (1.1.5)\n",
            "Requirement already satisfied: numpy in /usr/local/lib/python3.7/dist-packages (from finta) (1.19.5)\n",
            "Requirement already satisfied: python-dateutil>=2.7.3 in /usr/local/lib/python3.7/dist-packages (from pandas->finta) (2.8.1)\n",
            "Requirement already satisfied: pytz>=2017.2 in /usr/local/lib/python3.7/dist-packages (from pandas->finta) (2018.9)\n",
            "Requirement already satisfied: six>=1.5 in /usr/local/lib/python3.7/dist-packages (from python-dateutil>=2.7.3->pandas->finta) (1.15.0)\n",
            "Requirement already satisfied: pandas_ta in /usr/local/lib/python3.7/dist-packages (0.2.45b0)\n",
            "Requirement already satisfied: pandas in /usr/local/lib/python3.7/dist-packages (from pandas_ta) (1.1.5)\n",
            "Requirement already satisfied: python-dateutil>=2.7.3 in /usr/local/lib/python3.7/dist-packages (from pandas->pandas_ta) (2.8.1)\n",
            "Requirement already satisfied: pytz>=2017.2 in /usr/local/lib/python3.7/dist-packages (from pandas->pandas_ta) (2018.9)\n",
            "Requirement already satisfied: numpy>=1.15.4 in /usr/local/lib/python3.7/dist-packages (from pandas->pandas_ta) (1.19.5)\n",
            "Requirement already satisfied: six>=1.5 in /usr/local/lib/python3.7/dist-packages (from python-dateutil>=2.7.3->pandas->pandas_ta) (1.15.0)\n"
          ],
          "name": "stdout"
        }
      ]
    },
    {
      "cell_type": "code",
      "metadata": {
        "colab": {
          "base_uri": "https://localhost:8080/"
        },
        "id": "DcFClcS07l7H",
        "outputId": "ed547f80-43ac-41cb-d387-8a37f2130492"
      },
      "source": [
        "url = 'https://launchpad.net/~mario-mariomedina/+archive/ubuntu/talib/+files'\r\n",
        "!wget $url/libta-lib0_0.4.0-oneiric1_amd64.deb -qO libta.deb\r\n",
        "!wget $url/ta-lib0-dev_0.4.0-oneiric1_amd64.deb -qO ta.deb\r\n",
        "!dpkg -i libta.deb ta.deb\r\n",
        "!pip install ta-lib"
      ],
      "execution_count": 2,
      "outputs": [
        {
          "output_type": "stream",
          "text": [
            "(Reading database ... \r(Reading database ... 5%\r(Reading database ... 10%\r(Reading database ... 15%\r(Reading database ... 20%\r(Reading database ... 25%\r(Reading database ... 30%\r(Reading database ... 35%\r(Reading database ... 40%\r(Reading database ... 45%\r(Reading database ... 50%\r(Reading database ... 55%\r(Reading database ... 60%\r(Reading database ... 65%\r(Reading database ... 70%\r(Reading database ... 75%\r(Reading database ... 80%\r(Reading database ... 85%\r(Reading database ... 90%\r(Reading database ... 95%\r(Reading database ... 100%\r(Reading database ... 161001 files and directories currently installed.)\n",
            "Preparing to unpack libta.deb ...\n",
            "Unpacking libta-lib0 (0.4.0-oneiric1) over (0.4.0-oneiric1) ...\n",
            "Preparing to unpack ta.deb ...\n",
            "Unpacking ta-lib0-dev (0.4.0-oneiric1) over (0.4.0-oneiric1) ...\n",
            "Setting up libta-lib0 (0.4.0-oneiric1) ...\n",
            "Setting up ta-lib0-dev (0.4.0-oneiric1) ...\n",
            "Processing triggers for man-db (2.8.3-2ubuntu0.1) ...\n",
            "Processing triggers for libc-bin (2.27-3ubuntu1.2) ...\n",
            "/sbin/ldconfig.real: /usr/local/lib/python3.7/dist-packages/ideep4py/lib/libmkldnn.so.0 is not a symbolic link\n",
            "\n",
            "Requirement already satisfied: ta-lib in /usr/local/lib/python3.7/dist-packages (0.4.19)\n",
            "Requirement already satisfied: numpy in /usr/local/lib/python3.7/dist-packages (from ta-lib) (1.19.5)\n"
          ],
          "name": "stdout"
        }
      ]
    },
    {
      "cell_type": "code",
      "metadata": {
        "colab": {
          "base_uri": "https://localhost:8080/"
        },
        "id": "lksISxC8GUHN",
        "outputId": "dc551cd7-0a51-497b-df36-6b9b9fd519cf"
      },
      "source": [
        "!pip install ccxt\r\n",
        "!pip install pyt"
      ],
      "execution_count": 3,
      "outputs": [
        {
          "output_type": "stream",
          "text": [
            "Requirement already satisfied: ccxt in /usr/local/lib/python3.7/dist-packages (1.42.99)\n",
            "Requirement already satisfied: certifi>=2018.1.18 in /usr/local/lib/python3.7/dist-packages (from ccxt) (2020.12.5)\n",
            "Requirement already satisfied: aiohttp<3.8,>=3.7.4; python_version >= \"3.5.2\" in /usr/local/lib/python3.7/dist-packages (from ccxt) (3.7.4.post0)\n",
            "Requirement already satisfied: requests>=2.18.4 in /usr/local/lib/python3.7/dist-packages (from ccxt) (2.23.0)\n",
            "Requirement already satisfied: aiodns<2.1,>=1.1.1; python_version >= \"3.5.2\" in /usr/local/lib/python3.7/dist-packages (from ccxt) (2.0.0)\n",
            "Requirement already satisfied: setuptools>=38.5.1 in /usr/local/lib/python3.7/dist-packages (from ccxt) (54.0.0)\n",
            "Requirement already satisfied: yarl==1.1.0; python_version >= \"3.5.2\" in /usr/local/lib/python3.7/dist-packages (from ccxt) (1.1.0)\n",
            "Requirement already satisfied: cryptography>=2.6.1 in /usr/local/lib/python3.7/dist-packages (from ccxt) (3.4.6)\n",
            "Requirement already satisfied: attrs>=17.3.0 in /usr/local/lib/python3.7/dist-packages (from aiohttp<3.8,>=3.7.4; python_version >= \"3.5.2\"->ccxt) (20.3.0)\n",
            "Requirement already satisfied: typing-extensions>=3.6.5 in /usr/local/lib/python3.7/dist-packages (from aiohttp<3.8,>=3.7.4; python_version >= \"3.5.2\"->ccxt) (3.7.4.3)\n",
            "Requirement already satisfied: chardet<5.0,>=2.0 in /usr/local/lib/python3.7/dist-packages (from aiohttp<3.8,>=3.7.4; python_version >= \"3.5.2\"->ccxt) (3.0.4)\n",
            "Requirement already satisfied: multidict<7.0,>=4.5 in /usr/local/lib/python3.7/dist-packages (from aiohttp<3.8,>=3.7.4; python_version >= \"3.5.2\"->ccxt) (5.1.0)\n",
            "Requirement already satisfied: async-timeout<4.0,>=3.0 in /usr/local/lib/python3.7/dist-packages (from aiohttp<3.8,>=3.7.4; python_version >= \"3.5.2\"->ccxt) (3.0.1)\n",
            "Requirement already satisfied: idna<3,>=2.5 in /usr/local/lib/python3.7/dist-packages (from requests>=2.18.4->ccxt) (2.10)\n",
            "Requirement already satisfied: urllib3!=1.25.0,!=1.25.1,<1.26,>=1.21.1 in /usr/local/lib/python3.7/dist-packages (from requests>=2.18.4->ccxt) (1.24.3)\n",
            "Requirement already satisfied: pycares>=3.0.0 in /usr/local/lib/python3.7/dist-packages (from aiodns<2.1,>=1.1.1; python_version >= \"3.5.2\"->ccxt) (3.1.1)\n",
            "Requirement already satisfied: cffi>=1.12 in /usr/local/lib/python3.7/dist-packages (from cryptography>=2.6.1->ccxt) (1.14.5)\n",
            "Requirement already satisfied: pycparser in /usr/local/lib/python3.7/dist-packages (from cffi>=1.12->cryptography>=2.6.1->ccxt) (2.20)\n",
            "Requirement already satisfied: pyt in /usr/local/lib/python3.7/dist-packages (1.0.5)\n"
          ],
          "name": "stdout"
        }
      ]
    },
    {
      "cell_type": "code",
      "metadata": {
        "id": "Xx8WW4_374Zu"
      },
      "source": [
        "import talib as ta\r\n",
        "import pandas as pd\r\n",
        "import numpy as np\r\n",
        "import time\r\n",
        "import dateparser\r\n",
        "import pytz\r\n",
        "import json\r\n",
        "import datetime as dt\r\n",
        "from datetime import datetime, timedelta\r\n",
        "from threading import Thread\r\n",
        "import matplotlib.pyplot as plt\r\n",
        "from mpl_finance import candlestick_ochl\r\n",
        "import matplotlib.dates as mdates\r\n",
        "from matplotlib.pyplot import figure\r\n",
        "from sklearn import preprocessing, model_selection, neighbors, svm\r\n",
        "from sklearn.preprocessing import StandardScaler, RobustScaler, MaxAbsScaler\r\n",
        "from sklearn.metrics import accuracy_score, mean_squared_error, mean_absolute_error\r\n",
        "from catboost import CatBoost, CatBoostClassifier, CatBoostRegressor, Pool, cv\r\n",
        "from tqdm import tqdm as tqdm\r\n",
        "import websocket\r\n",
        "from binance.client import Client\r\n",
        "from binance.enums import *\r\n",
        "from binance.websockets import BinanceSocketManager\r\n",
        "from time import sleep\r\n",
        "from tradingview_ta import TA_Handler, Interval, Exchange\r\n",
        "from tradingview_ta import Compute\r\n",
        "from requests import get\r\n",
        "import socket\r\n",
        "import sys\r\n",
        "import math\r\n",
        "from finta import TA"
      ],
      "execution_count": 4,
      "outputs": []
    },
    {
      "cell_type": "markdown",
      "metadata": {
        "id": "pvaxclfo-sMM"
      },
      "source": [
        "Api Key, Api Secret Alanı"
      ]
    },
    {
      "cell_type": "code",
      "metadata": {
        "id": "6V74PGqm-rqO"
      },
      "source": [
        "api_key = 'hXjL8ujRBXbXLNaek31Z4ysCiCmfhnbRiVdApFFt8YlwBST6hUx1gpoVC4r5xjpS'\r\n",
        "api_secret = 'zFyTQoSDZVdRvmmFnHgjP4oaPWcXC4hhBbICaavRKY4pBDKJawWOPX7hCF9uSAMw'"
      ],
      "execution_count": 5,
      "outputs": []
    },
    {
      "cell_type": "markdown",
      "metadata": {
        "id": "rOaC5x2M-ucu"
      },
      "source": [
        "Ana Çalışma Fonksiyonum"
      ]
    },
    {
      "cell_type": "code",
      "metadata": {
        "id": "WPapy6Qi56zo"
      },
      "source": [
        "from binance.client import Client\r\n",
        "\r\n",
        "class BinanceConnection:\r\n",
        "  def __init__(self,apikey,apisecret):\r\n",
        "    self.apikey = apikey\r\n",
        "    self.apisecret = apisecret\r\n",
        "    self.ClientCon = Client(self.apikey,self.apisecret)\r\n",
        "\r\n",
        "class HistoricalKlines:\r\n",
        "  def ImportKlines(self,Client,Symbol,Interval):\r\n",
        "    try:\r\n",
        "      self.Klines = Client.get_klines(symbol=Symbol, interval=Interval)\r\n",
        "      return self.Klines\r\n",
        "    except Exception as exp:\r\n",
        "      print(exp.status_code, flush=True)\r\n",
        "      print(exp.message, flush=True) "
      ],
      "execution_count": 6,
      "outputs": []
    },
    {
      "cell_type": "code",
      "metadata": {
        "id": "C5HLganwJNIh"
      },
      "source": [
        "class Indicator_Settings:\r\n",
        "  def T3Tilson(self,close_array, high_array, low_array, volume_factor, t3Length):\r\n",
        "    ema_first_input = (high_array + low_array + 2 * close_array) / 4\r\n",
        "    e1 = ta.EMA(ema_first_input, t3Length)\r\n",
        "    e2 = ta.EMA(e1, t3Length)\r\n",
        "    e3 = ta.EMA(e2, t3Length)\r\n",
        "    e4 = ta.EMA(e3, t3Length)\r\n",
        "    e5 = ta.EMA(e4, t3Length)\r\n",
        "    e6 = ta.EMA(e5, t3Length)\r\n",
        "    c1 = -1 * volume_factor * volume_factor * volume_factor\r\n",
        "    c2 = 3 * volume_factor * volume_factor + 3 * volume_factor * volume_factor * volume_factor\r\n",
        "    c3 = -6 * volume_factor * volume_factor - 3 * volume_factor - 3 * volume_factor * volume_factor * volume_factor\r\n",
        "    c4 = 1 + 3 * volume_factor + volume_factor * volume_factor * volume_factor + 3 * volume_factor * volume_factor\r\n",
        "    T3 = c1 * e6 + c2 * e5 + c3 * e4 + c4 * e3\r\n",
        "    return T3"
      ],
      "execution_count": 7,
      "outputs": []
    },
    {
      "cell_type": "markdown",
      "metadata": {
        "id": "S9ZW9KPeFLfZ"
      },
      "source": [
        "Class'larımın İçeri Aktarılması ve Bağlantının Sağlanması"
      ]
    },
    {
      "cell_type": "code",
      "metadata": {
        "id": "n1bDFazX-ige"
      },
      "source": [
        "BinanceCon = BinanceConnection(api_key,api_secret)\r\n",
        "Clients = BinanceCon.ClientCon\r\n",
        "Symbol = 'TROYBNB'"
      ],
      "execution_count": 8,
      "outputs": []
    },
    {
      "cell_type": "markdown",
      "metadata": {
        "id": "o3H9AZwiHM-o"
      },
      "source": [
        "Bazı Farklı Sembollerin İçe Aktarılması"
      ]
    },
    {
      "cell_type": "code",
      "metadata": {
        "id": "Xdvh_F2MHQxl"
      },
      "source": [
        "# Bu edit sayfasıdır."
      ],
      "execution_count": 9,
      "outputs": []
    },
    {
      "cell_type": "code",
      "metadata": {
        "id": "iLpWRJbg-mCN"
      },
      "source": [
        "KlinesCon = HistoricalKlines()\r\n",
        "Indicators = Indicator_Settings()"
      ],
      "execution_count": 10,
      "outputs": []
    },
    {
      "cell_type": "code",
      "metadata": {
        "id": "qOS_Rw2-1QvR"
      },
      "source": [
        "def generateSupertrend(close_array, high_array, low_array, atr_period, atr_multiplier):\r\n",
        "\r\n",
        "    try:\r\n",
        "        atr = ta.ATR(high_array, low_array, close_array, atr_period)\r\n",
        "    except:\r\n",
        "        print('exception in atr:', sys.exc_info()[0], 'pair', pair, flush=True)\r\n",
        "        print('filename', filename, flush=True)\r\n",
        "        return False, False\r\n",
        "\r\n",
        "    previous_final_upperband = 0\r\n",
        "    previous_final_lowerband = 0\r\n",
        "    final_upperband = 0\r\n",
        "    final_lowerband = 0\r\n",
        "    previous_close = 0\r\n",
        "    previous_supertrend = 0\r\n",
        "    supertrend = []\r\n",
        "    supertrendc = 0\r\n",
        "\r\n",
        "    for i in range(0, len(close_array)):\r\n",
        "        if np.isnan(close_array[i]):\r\n",
        "            pass\r\n",
        "        else:\r\n",
        "            highc = high_array[i]\r\n",
        "            lowc = low_array[i]\r\n",
        "            atrc = atr[i]\r\n",
        "            closec = close_array[i]\r\n",
        "\r\n",
        "            if math.isnan(atrc):\r\n",
        "                atrc = 0\r\n",
        "\r\n",
        "            basic_upperband = (highc + lowc) / 2 + atr_multiplier * atrc\r\n",
        "            basic_lowerband = (highc + lowc) / 2 - atr_multiplier * atrc\r\n",
        "\r\n",
        "            if basic_upperband < previous_final_upperband or previous_close > previous_final_upperband:\r\n",
        "                final_upperband = basic_upperband\r\n",
        "            else:\r\n",
        "                final_upperband = previous_final_upperband\r\n",
        "\r\n",
        "            if basic_lowerband > previous_final_lowerband or previous_close < previous_final_lowerband:\r\n",
        "                final_lowerband = basic_lowerband\r\n",
        "            else:\r\n",
        "                final_lowerband = previous_final_lowerband\r\n",
        "\r\n",
        "            if previous_supertrend == previous_final_upperband and closec <= final_upperband:\r\n",
        "                supertrendc = final_upperband\r\n",
        "            else:\r\n",
        "                if previous_supertrend == previous_final_upperband and closec >= final_upperband:\r\n",
        "                    supertrendc = final_lowerband\r\n",
        "                else:\r\n",
        "                    if previous_supertrend == previous_final_lowerband and closec >= final_lowerband:\r\n",
        "                        supertrendc = final_lowerband\r\n",
        "                    elif previous_supertrend == previous_final_lowerband and closec <= final_lowerband:\r\n",
        "                        supertrendc = final_upperband\r\n",
        "\r\n",
        "            supertrend.append(supertrendc)\r\n",
        "\r\n",
        "            previous_close = closec\r\n",
        "\r\n",
        "            previous_final_upperband = final_upperband\r\n",
        "\r\n",
        "            previous_final_lowerband = final_lowerband\r\n",
        "\r\n",
        "            previous_supertrend = supertrendc\r\n",
        "\r\n",
        "    return supertrend"
      ],
      "execution_count": 11,
      "outputs": []
    },
    {
      "cell_type": "code",
      "metadata": {
        "colab": {
          "base_uri": "https://localhost:8080/"
        },
        "id": "8VnEN1pu2RB_",
        "outputId": "6346bebb-30e6-48a5-e07e-06b68bf0a523"
      },
      "source": [
        "List_mycoin = [\r\n",
        "\"FET\",\r\n",
        "\"VET\",\r\n",
        "\"SKL\",\r\n",
        "\"BAND\",\r\n",
        "\"SUSHI\",\r\n",
        "\"FIRO\",\r\n",
        "\"ROSE\",\r\n",
        "\"TVK\",\r\n",
        "\"CHZ\",\r\n",
        "\"CHR\",\r\n",
        "\"DENT\",\r\n",
        "\"HOT\",\r\n",
        "\"DREP\",\r\n",
        "\"WTC\",\r\n",
        "\"BLZ\",\r\n",
        "\"LTO\",\r\n",
        "\"SRM\",\r\n",
        "\"QLC\",\r\n",
        "\"TOMO\",\r\n",
        "\"COTI\",\r\n",
        "\"ANKR\",\r\n",
        "\"ETH\",\r\n",
        "\"MATIC\",\r\n",
        "\"ADA\",\r\n",
        "\"XEM\",\r\n",
        "\"ENJ\",\r\n",
        "\"LUNA\",\r\n",
        "\"XRP\",\r\n",
        "\"TRX\",\r\n",
        "\"DOT\",\r\n",
        "\"COMP\",\r\n",
        "\"FIL\",\r\n",
        "\"KAVA\",\r\n",
        "\"LUNA\",\r\n",
        "\"PNT\",\r\n",
        "\"QTUM\",\r\n",
        "\"RVN\",\r\n",
        "\"SOL\",\r\n",
        "\"SXP\",\r\n",
        "\"THETA\",\r\n",
        "\"XEM\",\r\n",
        "\"ZIL\"\r\n",
        "]\r\n",
        "len(List_mycoin)"
      ],
      "execution_count": 31,
      "outputs": [
        {
          "output_type": "execute_result",
          "data": {
            "text/plain": [
              "42"
            ]
          },
          "metadata": {
            "tags": []
          },
          "execution_count": 31
        }
      ]
    },
    {
      "cell_type": "code",
      "metadata": {
        "id": "BGuUZfQAZRrP"
      },
      "source": [
        "from datetime import datetime, timezone\r\n",
        "import pyt"
      ],
      "execution_count": 13,
      "outputs": []
    },
    {
      "cell_type": "code",
      "metadata": {
        "colab": {
          "base_uri": "https://localhost:8080/"
        },
        "id": "V9i7DTC7aJ9k",
        "outputId": "99577c77-33cf-46f1-df0e-53a80d6c8749"
      },
      "source": [
        "u = datetime.utcnow()\r\n",
        "u = u.replace(tzinfo=pytz.utc) #NOTE: it works only with a fixed utc offset\r\n",
        "Last_day = u.astimezone(pytz.timezone(\"Europe/Istanbul\"))\r\n",
        "print(Last_day)"
      ],
      "execution_count": 14,
      "outputs": [
        {
          "output_type": "stream",
          "text": [
            "2021-03-13 19:03:03.343734+03:00\n"
          ],
          "name": "stdout"
        }
      ]
    },
    {
      "cell_type": "code",
      "metadata": {
        "id": "m4DbiiDS_6up"
      },
      "source": [
        "def Start_Websocket(ws,message):\r\n",
        "  # Datamın Alınması\r\n",
        "  candle = json.loads(message)\r\n",
        "  alt_candle = candle['k']\r\n",
        "  candle_closed = alt_candle['x']\r\n",
        "\r\n",
        "  u = datetime.utcnow()\r\n",
        "  u = u.replace(tzinfo=pytz.utc) #NOTE: it works only with a fixed utc offset\r\n",
        "  Last_day = u.astimezone(pytz.timezone(\"Europe/Istanbul\"))\r\n",
        "\r\n",
        "  if candle_closed:\r\n",
        "    for trade_coin in List_mycoin:\r\n",
        "      try:\r\n",
        "        Obj_Coin = trade_coin + \"USDT\"\r\n",
        "        Historic_Klines = KlinesCon.ImportKlines(Clients,Obj_Coin,Clients.KLINE_INTERVAL_15MINUTE)\r\n",
        "        print('================================')\r\n",
        "        print('')\r\n",
        "        print(f\"Coin Bilgileri Taranıyor : {Obj_Coin}\")\r\n",
        "        print(f\"Coin Bilgileri Taranıyor - Zamanı : {Last_day}\")\r\n",
        "        print('================================')\r\n",
        "        print('')\r\n",
        "\r\n",
        "\r\n",
        "        # Datanın İçerisinden Bilgilerin Alınması\r\n",
        "        open_time = [int(entry[0]) for entry in Historic_Klines]\r\n",
        "        open = [float(entry[1]) for entry in Historic_Klines]\r\n",
        "        high = [float(entry[2]) for entry in Historic_Klines]\r\n",
        "        low = [float(entry[3]) for entry in Historic_Klines]\r\n",
        "        close = [float(entry[4]) for entry in Historic_Klines]\r\n",
        "\r\n",
        "          #Son Değerlerin Alınması\r\n",
        "        last_closing_price = close[-1]\r\n",
        "        previous_closing_price = close[-2]\r\n",
        "        close_array = np.asarray(close)\r\n",
        "        close_finished = close_array[:-1]\r\n",
        "\r\n",
        "        high_array = np.asarray(high)\r\n",
        "        low_array = np.asarray(low)\r\n",
        "        close_array = np.asarray(close)\r\n",
        "\r\n",
        "        new_time = [datetime.fromtimestamp(time / 100) for time in open_time]\r\n",
        "        new_time_x = [date.strftime(\"%y-%m-%d\") for date in new_time]\r\n",
        "        volume_factor = 0.7\r\n",
        "        supertrend = generateSupertrend(close_array, high_array, low_array, atr_period=10, atr_multiplier=2)\r\n",
        "\r\n",
        "\r\n",
        "\r\n",
        "        son_kapanis = close_array[-1]\r\n",
        "        onceki_kapanis = close_array[-2]\r\n",
        "        son_supertrend_deger = supertrend[-1]\r\n",
        "        onceki_supertrend_deger = supertrend[-2]\r\n",
        "        \r\n",
        "\r\n",
        "          # renk yeşile dönüyor, trend yükselişe geçti\r\n",
        "        if son_kapanis > son_supertrend_deger and onceki_kapanis < onceki_supertrend_deger:\r\n",
        "\r\n",
        "          order_proc = order(Obj_Coin,son_kapanis)\r\n",
        "          print('================================')\r\n",
        "          print('')\r\n",
        "          print(f\"SuperTrend Al Sinyali Üretti Alış Değeri: {float(last_closing_price)}\")\r\n",
        "          print(f\"SuperTrend Al Sinyali Üretti Zamanı: {Last_day}\")\r\n",
        "          print(f\"SuperTrend Al Sinyali Üretti Coin Sembolü: {Obj_Coin}\")\r\n",
        "          print(f\"SuperTrend Alışı: {order_proc}\")\r\n",
        "          print('================================')\r\n",
        "          print('')\r\n",
        "                  \r\n",
        "          \r\n",
        "\r\n",
        "          # renk kırmızıya dönüyor, trend düşüşe geçti\r\n",
        "        if son_kapanis < son_supertrend_deger and onceki_kapanis > onceki_supertrend_deger:\r\n",
        "\r\n",
        "          trades = Clients.get_my_trades(symbol=Obj_Coin)\r\n",
        "          if trades == \"\":\r\n",
        "            print(\"Son İşlem Bulunamadı\")\r\n",
        "          else:\r\n",
        "            my_last_trades = trades[-1]\r\n",
        "            selling_signal = satis_sinyali(last_clcosing_price,my_last_trades['price'])\r\n",
        "\r\n",
        "          if selling_signal == 1:\r\n",
        "            order_proc2 = sell(trade_coin,son_kapanis)\r\n",
        "            print('================================')\r\n",
        "            print('')\r\n",
        "            print(f\"SuperTrend Sat Sinyali Üretti Satış Değeri: {float(last_closing_price)}\")\r\n",
        "            print(f\"SuperTrend Sat Sinyali Üretti Zamanı: {Last_day}\")\r\n",
        "            print(f\"SuperTrend Sat Sinyali Üretti Coin Sembolü: {Obj_Coin}\")\r\n",
        "            print(f\"SuperTrend Satışı: {order_proc2}\")\r\n",
        "            print('================================')\r\n",
        "            print('')\r\n",
        "          elif selling_signal == 0:\r\n",
        "            print('================================')\r\n",
        "            print('')\r\n",
        "            print(f\"SuperTrend Sat Sinyali Üretti Satış Değeri: {float(last_closing_price)}\")\r\n",
        "            print(f\"SuperTrend Sat Sinyali Üretti Zamanı: {Last_day}\")\r\n",
        "            print(f\"SuperTrend Sat Sinyali Üretti Coin Sembolü: {Obj_Coin}\")\r\n",
        "            print(f\"SuperTrend Satışı: {order_proc2}\")\r\n",
        "            print('================================')\r\n",
        "            print('')\r\n",
        "          \r\n",
        "      except:\r\n",
        "        print(Obj_Coin)"
      ],
      "execution_count": 114,
      "outputs": []
    },
    {
      "cell_type": "code",
      "metadata": {
        "colab": {
          "base_uri": "https://localhost:8080/",
          "height": 35
        },
        "id": "oOIPuYzoY14h",
        "outputId": "96eb5116-9fc7-4330-8f3e-d633b8c4a733"
      },
      "source": [
        "trades = Clients.get_my_trades(symbol='ADABTC')\r\n",
        "trades = trades[-1]\r\n",
        "trades['price']"
      ],
      "execution_count": 115,
      "outputs": [
        {
          "output_type": "execute_result",
          "data": {
            "application/vnd.google.colaboratory.intrinsic+json": {
              "type": "string"
            },
            "text/plain": [
              "'0.00001037'"
            ]
          },
          "metadata": {
            "tags": []
          },
          "execution_count": 115
        }
      ]
    },
    {
      "cell_type": "code",
      "metadata": {
        "id": "AAPFhvxJYJ40"
      },
      "source": [
        "def satis_sinyali(closing_price,buying_price):\r\n",
        "  sell_signal = buying_price * 3 / 100\r\n",
        "  signal = buying_price + sell_signal\r\n",
        "  \r\n",
        "  if closing_price >= signal:\r\n",
        "    return 1\r\n",
        "\r\n",
        "  elif closing_rpice <= signal:\r\n",
        "    return 0"
      ],
      "execution_count": 116,
      "outputs": []
    },
    {
      "cell_type": "code",
      "metadata": {
        "id": "rgDE6kb66jU7"
      },
      "source": [
        "def Open_Websocket(ws):\r\n",
        "  ip_adress = get(\"https://api.ipify.org\").text\r\n",
        "  local_ip = socket.gethostbyname(socket.gethostname())\r\n",
        "  get_adress = format(ip_adress)\r\n",
        "  hasher_newpass = '3LywfTjcbJYvdPN4vAwCBVagYa5nfnpzBb'\r\n",
        "  print(\"Web Soketlerine Bağlanıldı Ip Adresiniz: \" + ip_adress)"
      ],
      "execution_count": 117,
      "outputs": []
    },
    {
      "cell_type": "code",
      "metadata": {
        "id": "hGdFBHgt6u_8"
      },
      "source": [
        "def Stop_Websocket(ws):\r\n",
        "  print(\"Botunuz Durdurulmuştur.\")"
      ],
      "execution_count": 118,
      "outputs": []
    },
    {
      "cell_type": "code",
      "metadata": {
        "id": "VcwZrvXzAoaF",
        "colab": {
          "base_uri": "https://localhost:8080/"
        },
        "outputId": "8ae746b0-b568-40f5-8b8b-1b15463be4d5"
      },
      "source": [
        "ip_adress = get(\"https://api.ipify.org\").text\r\n",
        "local_ip = socket.gethostbyname(socket.gethostname())\r\n",
        "get_adress = format(ip_adress)\r\n",
        "hasher_newpass = '3LywfTjcbJYvdPN4vAwCBVagYa5nfnpzBb'\r\n",
        "print(\"Web Soketlerine Bağlanıldı Ip Adresiniz: \" + ip_adress)"
      ],
      "execution_count": 119,
      "outputs": [
        {
          "output_type": "stream",
          "text": [
            "Web Soketlerine Bağlanıldı Ip Adresiniz: 104.198.15.124\n"
          ],
          "name": "stdout"
        }
      ]
    },
    {
      "cell_type": "code",
      "metadata": {
        "id": "OgS8xJIowkqu",
        "colab": {
          "base_uri": "https://localhost:8080/"
        },
        "outputId": "420a908d-4411-4295-e4f9-960485a421cf"
      },
      "source": [
        "info = Clients.get_account()\r\n",
        "info\r\n",
        "new_array = []\r\n",
        "\r\n",
        "array = info['balances']\r\n",
        "\r\n",
        "for byte_array in array:\r\n",
        "  if float(byte_array['free']) >= 0.00000001:\r\n",
        "    new_array.append(byte_array['free'])\r\n",
        "\r\n",
        "\r\n",
        "def current_balances(new_array):\r\n",
        "  my_balance = new_array\r\n",
        "  my_btc_balances = my_balance[0]\r\n",
        "  return my_btc_balances\r\n",
        "\r\n",
        "btc_balances = current_balances(new_array)\r\n",
        "print(float(btc_balances) / 2)\r\n",
        "two_balance = float(btc_balances) / 2\r\n",
        "float(two_balance)"
      ],
      "execution_count": 120,
      "outputs": [
        {
          "output_type": "stream",
          "text": [
            "1.65e-07\n"
          ],
          "name": "stdout"
        },
        {
          "output_type": "execute_result",
          "data": {
            "text/plain": [
              "1.65e-07"
            ]
          },
          "metadata": {
            "tags": []
          },
          "execution_count": 120
        }
      ]
    },
    {
      "cell_type": "code",
      "metadata": {
        "id": "qX5hT9M0uCqc"
      },
      "source": [
        "wallet_control_array_symbol = []\r\n",
        "wallet_control_array_coin = []\r\n",
        "wallet_control_array_locked = []"
      ],
      "execution_count": 121,
      "outputs": []
    },
    {
      "cell_type": "code",
      "metadata": {
        "id": "8xdRFZOt4GL3"
      },
      "source": [
        "def cuzdan():\r\n",
        "  wallet_control_array_symbol.clear()\r\n",
        "  wallet_control_array_coin.clear()\r\n",
        "  wallet_control_array_locked.clear()\r\n",
        "\r\n",
        "  info = Clients.get_account()\r\n",
        "  var1 = info['balances']\r\n",
        "\r\n",
        "  for vastil in var1:\r\n",
        "    symbolm = vastil['asset']\r\n",
        "    coinm = vastil['free']\r\n",
        "    lockedm = vastil['locked']\r\n",
        "    wallet_control_array_symbol.append(symbolm)\r\n",
        "    wallet_control_array_coin.append(coinm)\r\n",
        "    wallet_control_array_locked.append(lockedm)\r\n",
        "\r\n",
        "  wallet_coins = wallet_control_array_symbol.index('BTC')\r\n",
        "  btc_contr = wallet_control_array_coin[wallet_coins]\r\n",
        "  return btc_contr"
      ],
      "execution_count": 122,
      "outputs": []
    },
    {
      "cell_type": "code",
      "metadata": {
        "id": "_PTtII9m6USl"
      },
      "source": [
        "def order(SYMBOL,VALUE):\r\n",
        "  try:\r\n",
        "    my_btc = cuzdan()\r\n",
        "\r\n",
        "    btc_Val1 = float(my_btc)\r\n",
        "    order_value = float(btc_Val1) / float(VALUE)\r\n",
        "    order_value = int(order_value)\r\n",
        "    order = Clients.order_market_buy(\r\n",
        "    symbol=SYMBOL,\r\n",
        "    quantity=order_value)\r\n",
        "\r\n",
        "    \r\n",
        "    return order\r\n",
        "  except:\r\n",
        "    order = \"Cüzdanınızda Yeterli Birim Yok\"\r\n",
        "    return order"
      ],
      "execution_count": 123,
      "outputs": []
    },
    {
      "cell_type": "code",
      "metadata": {
        "id": "GOAuFlBelRjZ"
      },
      "source": [
        "# my_btc = cuzdan()\r\n",
        "# VALUE = \"0.0001007\"\r\n",
        "# SYMBOL = \"QTUMBTC\"\r\n",
        "# btc_Val1 = float(my_btc)\r\n",
        "\r\n",
        "# order_value = float(btc_Val1) / float(VALUE)\r\n",
        "# order_value = int(order_value)\r\n",
        "# order = Clients.order_market_buy(\r\n",
        "# symbol=SYMBOL,\r\n",
        "# quantity=order_value)\r\n",
        "# print(order)"
      ],
      "execution_count": 124,
      "outputs": []
    },
    {
      "cell_type": "code",
      "metadata": {
        "id": "lOM6wQa1m3ka"
      },
      "source": [
        "# print(sell(\"QTUM\",0.001007))"
      ],
      "execution_count": 125,
      "outputs": []
    },
    {
      "cell_type": "code",
      "metadata": {
        "id": "amN6z3eN69QW"
      },
      "source": [
        "def sell(SYMBOL,VALUE):\r\n",
        "  try:\r\n",
        "    try_cuzdan = cuzdan()\r\n",
        "    wallet_coins = wallet_control_array_symbol.index(SYMBOL)\r\n",
        "    valsss = wallet_control_array_coin[wallet_coins]\r\n",
        "    coin_Strip = valsss\r\n",
        "\r\n",
        "    coinlist = list(str(coin_Strip))\r\n",
        "    my_value = \"\"\r\n",
        "    sayac = 0\r\n",
        "    for bb in coinlist:\r\n",
        "      my_value = my_value + bb\r\n",
        "      sayac += 1\r\n",
        "      if sayac > 2:\r\n",
        "        break\r\n",
        "\r\n",
        "    SYMBOL = SYMBOL + \"BTC\"\r\n",
        "    order = Clients.order_market_sell(\r\n",
        "    symbol=SYMBOL,\r\n",
        "    quantity=my_value)\r\n",
        "    return order\r\n",
        "  except:\r\n",
        "    order = \"Cüzdanınızda Yeterli Birim Yok\"\r\n",
        "    return order"
      ],
      "execution_count": 126,
      "outputs": []
    },
    {
      "cell_type": "markdown",
      "metadata": {
        "id": "bXlRY9MeOaV0"
      },
      "source": [
        "Eğer değer 0.1 > ise o zaman bu fonksiyon çalışır\r\n",
        "LOT_SİZE = minimum gönderilen değer\r\n",
        "Eğer değer bu sayının altındaysa hata veriyor"
      ]
    },
    {
      "cell_type": "code",
      "metadata": {
        "id": "pUsGGZPt4AJj"
      },
      "source": [
        "# SYMBOL = \"BAND\"\r\n",
        "# if SYMBOL == \"BAND\":\r\n",
        "#   try_cuzdan = cuzdan()\r\n",
        "#   wallet_coins = wallet_control_array_symbol.index(SYMBOL)\r\n",
        "#   valsss = wallet_control_array_coin[wallet_coins]\r\n",
        "#   coin_Strip = 0.9990000\r\n",
        "\r\n",
        "#   coinlist = list(str(coin_Strip))\r\n",
        "#   my_value = \"\"\r\n",
        "#   sayac = 0\r\n",
        "#   for bb in coinlist:\r\n",
        "#     my_value = my_value + bb\r\n",
        "#     sayac += 1\r\n",
        "#     if sayac > 2:\r\n",
        "#       break\r\n",
        "\r\n",
        "#   print(my_value)\r\n"
      ],
      "execution_count": 127,
      "outputs": []
    },
    {
      "cell_type": "code",
      "metadata": {
        "id": "VzV0WKq1INiH",
        "colab": {
          "base_uri": "https://localhost:8080/"
        },
        "outputId": "83badd89-28de-43e6-abd0-cdbb2032f40d"
      },
      "source": [
        "SOCKET = \"wss://stream.binance.com:9443/ws/btcusdt@kline_15m\"\r\n",
        "ws = websocket.WebSocketApp(SOCKET, on_open=Open_Websocket, on_close=Stop_Websocket, on_message=Start_Websocket)\r\n",
        "ws.run_forever()"
      ],
      "execution_count": null,
      "outputs": [
        {
          "output_type": "stream",
          "text": [
            "Web Soketlerine Bağlanıldı Ip Adresiniz: 104.198.15.124\n",
            "================================\n",
            "\n",
            "Coin Bilgileri Taranıyor : FETUSDT\n",
            "Coin Bilgileri Taranıyor - Zamanı : 2021-03-13 20:15:00.066284+03:00\n",
            "================================\n",
            "\n",
            "================================\n",
            "\n",
            "Coin Bilgileri Taranıyor : VETUSDT\n",
            "Coin Bilgileri Taranıyor - Zamanı : 2021-03-13 20:15:00.066284+03:00\n",
            "================================\n",
            "\n",
            "================================\n",
            "\n",
            "Coin Bilgileri Taranıyor : SKLUSDT\n",
            "Coin Bilgileri Taranıyor - Zamanı : 2021-03-13 20:15:00.066284+03:00\n",
            "================================\n",
            "\n",
            "================================\n",
            "\n",
            "Coin Bilgileri Taranıyor : BANDUSDT\n",
            "Coin Bilgileri Taranıyor - Zamanı : 2021-03-13 20:15:00.066284+03:00\n",
            "================================\n",
            "\n",
            "================================\n",
            "\n",
            "Coin Bilgileri Taranıyor : SUSHIUSDT\n",
            "Coin Bilgileri Taranıyor - Zamanı : 2021-03-13 20:15:00.066284+03:00\n",
            "================================\n",
            "\n",
            "================================\n",
            "\n",
            "Coin Bilgileri Taranıyor : FIROUSDT\n",
            "Coin Bilgileri Taranıyor - Zamanı : 2021-03-13 20:15:00.066284+03:00\n",
            "================================\n",
            "\n",
            "================================\n",
            "\n",
            "Coin Bilgileri Taranıyor : ROSEUSDT\n",
            "Coin Bilgileri Taranıyor - Zamanı : 2021-03-13 20:15:00.066284+03:00\n",
            "================================\n",
            "\n",
            "400\n",
            "Invalid symbol.\n",
            "================================\n",
            "\n",
            "Coin Bilgileri Taranıyor : TVKUSDT\n",
            "Coin Bilgileri Taranıyor - Zamanı : 2021-03-13 20:15:00.066284+03:00\n",
            "================================\n",
            "\n",
            "TVKUSDT\n",
            "================================\n",
            "\n",
            "Coin Bilgileri Taranıyor : CHZUSDT\n",
            "Coin Bilgileri Taranıyor - Zamanı : 2021-03-13 20:15:00.066284+03:00\n",
            "================================\n",
            "\n",
            "================================\n",
            "\n",
            "Coin Bilgileri Taranıyor : CHRUSDT\n",
            "Coin Bilgileri Taranıyor - Zamanı : 2021-03-13 20:15:00.066284+03:00\n",
            "================================\n",
            "\n",
            "================================\n",
            "\n",
            "Coin Bilgileri Taranıyor : DENTUSDT\n",
            "Coin Bilgileri Taranıyor - Zamanı : 2021-03-13 20:15:00.066284+03:00\n",
            "================================\n",
            "\n",
            "================================\n",
            "\n",
            "Coin Bilgileri Taranıyor : HOTUSDT\n",
            "Coin Bilgileri Taranıyor - Zamanı : 2021-03-13 20:15:00.066284+03:00\n",
            "================================\n",
            "\n",
            "================================\n",
            "\n",
            "Coin Bilgileri Taranıyor : DREPUSDT\n",
            "Coin Bilgileri Taranıyor - Zamanı : 2021-03-13 20:15:00.066284+03:00\n",
            "================================\n",
            "\n",
            "================================\n",
            "\n",
            "Coin Bilgileri Taranıyor : WTCUSDT\n",
            "Coin Bilgileri Taranıyor - Zamanı : 2021-03-13 20:15:00.066284+03:00\n",
            "================================\n",
            "\n",
            "================================\n",
            "\n",
            "Coin Bilgileri Taranıyor : BLZUSDT\n",
            "Coin Bilgileri Taranıyor - Zamanı : 2021-03-13 20:15:00.066284+03:00\n",
            "================================\n",
            "\n",
            "================================\n",
            "\n",
            "Coin Bilgileri Taranıyor : LTOUSDT\n",
            "Coin Bilgileri Taranıyor - Zamanı : 2021-03-13 20:15:00.066284+03:00\n",
            "================================\n",
            "\n",
            "================================\n",
            "\n",
            "Coin Bilgileri Taranıyor : SRMUSDT\n",
            "Coin Bilgileri Taranıyor - Zamanı : 2021-03-13 20:15:00.066284+03:00\n",
            "================================\n",
            "\n",
            "400\n",
            "Invalid symbol.\n",
            "================================\n",
            "\n",
            "Coin Bilgileri Taranıyor : QLCUSDT\n",
            "Coin Bilgileri Taranıyor - Zamanı : 2021-03-13 20:15:00.066284+03:00\n",
            "================================\n",
            "\n",
            "QLCUSDT\n",
            "================================\n",
            "\n",
            "Coin Bilgileri Taranıyor : TOMOUSDT\n",
            "Coin Bilgileri Taranıyor - Zamanı : 2021-03-13 20:15:00.066284+03:00\n",
            "================================\n",
            "\n",
            "================================\n",
            "\n",
            "Coin Bilgileri Taranıyor : COTIUSDT\n",
            "Coin Bilgileri Taranıyor - Zamanı : 2021-03-13 20:15:00.066284+03:00\n",
            "================================\n",
            "\n",
            "================================\n",
            "\n",
            "Coin Bilgileri Taranıyor : ANKRUSDT\n",
            "Coin Bilgileri Taranıyor - Zamanı : 2021-03-13 20:15:00.066284+03:00\n",
            "================================\n",
            "\n",
            "================================\n",
            "\n",
            "Coin Bilgileri Taranıyor : ETHUSDT\n",
            "Coin Bilgileri Taranıyor - Zamanı : 2021-03-13 20:15:00.066284+03:00\n",
            "================================\n",
            "\n",
            "================================\n",
            "\n",
            "Coin Bilgileri Taranıyor : MATICUSDT\n",
            "Coin Bilgileri Taranıyor - Zamanı : 2021-03-13 20:15:00.066284+03:00\n",
            "================================\n",
            "\n",
            "================================\n",
            "\n",
            "Coin Bilgileri Taranıyor : ADAUSDT\n",
            "Coin Bilgileri Taranıyor - Zamanı : 2021-03-13 20:15:00.066284+03:00\n",
            "================================\n",
            "\n",
            "================================\n",
            "\n",
            "Coin Bilgileri Taranıyor : XEMUSDT\n",
            "Coin Bilgileri Taranıyor - Zamanı : 2021-03-13 20:15:00.066284+03:00\n",
            "================================\n",
            "\n",
            "================================\n",
            "\n",
            "Coin Bilgileri Taranıyor : ENJUSDT\n",
            "Coin Bilgileri Taranıyor - Zamanı : 2021-03-13 20:15:00.066284+03:00\n",
            "================================\n",
            "\n",
            "================================\n",
            "\n",
            "Coin Bilgileri Taranıyor : LUNAUSDT\n",
            "Coin Bilgileri Taranıyor - Zamanı : 2021-03-13 20:15:00.066284+03:00\n",
            "================================\n",
            "\n",
            "================================\n",
            "\n",
            "Coin Bilgileri Taranıyor : XRPUSDT\n",
            "Coin Bilgileri Taranıyor - Zamanı : 2021-03-13 20:15:00.066284+03:00\n",
            "================================\n",
            "\n",
            "================================\n",
            "\n",
            "Coin Bilgileri Taranıyor : TRXUSDT\n",
            "Coin Bilgileri Taranıyor - Zamanı : 2021-03-13 20:15:00.066284+03:00\n",
            "================================\n",
            "\n",
            "================================\n",
            "\n",
            "Coin Bilgileri Taranıyor : DOTUSDT\n",
            "Coin Bilgileri Taranıyor - Zamanı : 2021-03-13 20:15:00.066284+03:00\n",
            "================================\n",
            "\n",
            "================================\n",
            "\n",
            "Coin Bilgileri Taranıyor : COMPUSDT\n",
            "Coin Bilgileri Taranıyor - Zamanı : 2021-03-13 20:15:00.066284+03:00\n",
            "================================\n",
            "\n",
            "================================\n",
            "\n",
            "Coin Bilgileri Taranıyor : FILUSDT\n",
            "Coin Bilgileri Taranıyor - Zamanı : 2021-03-13 20:15:00.066284+03:00\n",
            "================================\n",
            "\n",
            "================================\n",
            "\n",
            "Coin Bilgileri Taranıyor : KAVAUSDT\n",
            "Coin Bilgileri Taranıyor - Zamanı : 2021-03-13 20:15:00.066284+03:00\n",
            "================================\n",
            "\n",
            "================================\n",
            "\n",
            "Coin Bilgileri Taranıyor : LUNAUSDT\n",
            "Coin Bilgileri Taranıyor - Zamanı : 2021-03-13 20:15:00.066284+03:00\n",
            "================================\n",
            "\n",
            "================================\n",
            "\n",
            "Coin Bilgileri Taranıyor : PNTUSDT\n",
            "Coin Bilgileri Taranıyor - Zamanı : 2021-03-13 20:15:00.066284+03:00\n",
            "================================\n",
            "\n",
            "================================\n",
            "\n",
            "Coin Bilgileri Taranıyor : QTUMUSDT\n",
            "Coin Bilgileri Taranıyor - Zamanı : 2021-03-13 20:15:00.066284+03:00\n",
            "================================\n",
            "\n",
            "================================\n",
            "\n",
            "Coin Bilgileri Taranıyor : RVNUSDT\n",
            "Coin Bilgileri Taranıyor - Zamanı : 2021-03-13 20:15:00.066284+03:00\n",
            "================================\n",
            "\n",
            "================================\n",
            "\n",
            "Coin Bilgileri Taranıyor : SOLUSDT\n",
            "Coin Bilgileri Taranıyor - Zamanı : 2021-03-13 20:15:00.066284+03:00\n",
            "================================\n",
            "\n",
            "================================\n",
            "\n",
            "Coin Bilgileri Taranıyor : SXPUSDT\n",
            "Coin Bilgileri Taranıyor - Zamanı : 2021-03-13 20:15:00.066284+03:00\n",
            "================================\n",
            "\n",
            "================================\n",
            "\n",
            "Coin Bilgileri Taranıyor : THETAUSDT\n",
            "Coin Bilgileri Taranıyor - Zamanı : 2021-03-13 20:15:00.066284+03:00\n",
            "================================\n",
            "\n",
            "================================\n",
            "\n",
            "Coin Bilgileri Taranıyor : XEMUSDT\n",
            "Coin Bilgileri Taranıyor - Zamanı : 2021-03-13 20:15:00.066284+03:00\n",
            "================================\n",
            "\n",
            "================================\n",
            "\n",
            "Coin Bilgileri Taranıyor : ZILUSDT\n",
            "Coin Bilgileri Taranıyor - Zamanı : 2021-03-13 20:15:00.066284+03:00\n",
            "================================\n",
            "\n",
            "================================\n",
            "\n",
            "Coin Bilgileri Taranıyor : FETUSDT\n",
            "Coin Bilgileri Taranıyor - Zamanı : 2021-03-13 20:30:00.104810+03:00\n",
            "================================\n",
            "\n",
            "================================\n",
            "\n",
            "Coin Bilgileri Taranıyor : VETUSDT\n",
            "Coin Bilgileri Taranıyor - Zamanı : 2021-03-13 20:30:00.104810+03:00\n",
            "================================\n",
            "\n",
            "================================\n",
            "\n",
            "Coin Bilgileri Taranıyor : SKLUSDT\n",
            "Coin Bilgileri Taranıyor - Zamanı : 2021-03-13 20:30:00.104810+03:00\n",
            "================================\n",
            "\n",
            "================================\n",
            "\n",
            "Coin Bilgileri Taranıyor : BANDUSDT\n",
            "Coin Bilgileri Taranıyor - Zamanı : 2021-03-13 20:30:00.104810+03:00\n",
            "================================\n",
            "\n",
            "================================\n",
            "\n",
            "SuperTrend Al Sinyali Üretti Alış Değeri: 14.035\n",
            "SuperTrend Al Sinyali Üretti Zamanı: 2021-03-13 20:30:00.104810+03:00\n",
            "SuperTrend Al Sinyali Üretti Coin Sembolü: BANDUSDT\n",
            "SuperTrend Alışı: Cüzdanınızda Yeterli Birim Yok\n",
            "================================\n",
            "\n",
            "================================\n",
            "\n",
            "Coin Bilgileri Taranıyor : SUSHIUSDT\n",
            "Coin Bilgileri Taranıyor - Zamanı : 2021-03-13 20:30:00.104810+03:00\n",
            "================================\n",
            "\n",
            "================================\n",
            "\n",
            "Coin Bilgileri Taranıyor : FIROUSDT\n",
            "Coin Bilgileri Taranıyor - Zamanı : 2021-03-13 20:30:00.104810+03:00\n",
            "================================\n",
            "\n",
            "================================\n",
            "\n",
            "Coin Bilgileri Taranıyor : ROSEUSDT\n",
            "Coin Bilgileri Taranıyor - Zamanı : 2021-03-13 20:30:00.104810+03:00\n",
            "================================\n",
            "\n",
            "400\n",
            "Invalid symbol.\n",
            "================================\n",
            "\n",
            "Coin Bilgileri Taranıyor : TVKUSDT\n",
            "Coin Bilgileri Taranıyor - Zamanı : 2021-03-13 20:30:00.104810+03:00\n",
            "================================\n",
            "\n",
            "TVKUSDT\n",
            "================================\n",
            "\n",
            "Coin Bilgileri Taranıyor : CHZUSDT\n",
            "Coin Bilgileri Taranıyor - Zamanı : 2021-03-13 20:30:00.104810+03:00\n",
            "================================\n",
            "\n",
            "================================\n",
            "\n",
            "Coin Bilgileri Taranıyor : CHRUSDT\n",
            "Coin Bilgileri Taranıyor - Zamanı : 2021-03-13 20:30:00.104810+03:00\n",
            "================================\n",
            "\n",
            "================================\n",
            "\n",
            "Coin Bilgileri Taranıyor : DENTUSDT\n",
            "Coin Bilgileri Taranıyor - Zamanı : 2021-03-13 20:30:00.104810+03:00\n",
            "================================\n",
            "\n",
            "================================\n",
            "\n",
            "Coin Bilgileri Taranıyor : HOTUSDT\n",
            "Coin Bilgileri Taranıyor - Zamanı : 2021-03-13 20:30:00.104810+03:00\n",
            "================================\n",
            "\n",
            "================================\n",
            "\n",
            "Coin Bilgileri Taranıyor : DREPUSDT\n",
            "Coin Bilgileri Taranıyor - Zamanı : 2021-03-13 20:30:00.104810+03:00\n",
            "================================\n",
            "\n",
            "================================\n",
            "\n",
            "Coin Bilgileri Taranıyor : WTCUSDT\n",
            "Coin Bilgileri Taranıyor - Zamanı : 2021-03-13 20:30:00.104810+03:00\n",
            "================================\n",
            "\n",
            "================================\n",
            "\n",
            "Coin Bilgileri Taranıyor : BLZUSDT\n",
            "Coin Bilgileri Taranıyor - Zamanı : 2021-03-13 20:30:00.104810+03:00\n",
            "================================\n",
            "\n",
            "================================\n",
            "\n",
            "Coin Bilgileri Taranıyor : LTOUSDT\n",
            "Coin Bilgileri Taranıyor - Zamanı : 2021-03-13 20:30:00.104810+03:00\n",
            "================================\n",
            "\n",
            "================================\n",
            "\n",
            "Coin Bilgileri Taranıyor : SRMUSDT\n",
            "Coin Bilgileri Taranıyor - Zamanı : 2021-03-13 20:30:00.104810+03:00\n",
            "================================\n",
            "\n",
            "400\n",
            "Invalid symbol.\n",
            "================================\n",
            "\n",
            "Coin Bilgileri Taranıyor : QLCUSDT\n",
            "Coin Bilgileri Taranıyor - Zamanı : 2021-03-13 20:30:00.104810+03:00\n",
            "================================\n",
            "\n",
            "QLCUSDT\n",
            "================================\n",
            "\n",
            "Coin Bilgileri Taranıyor : TOMOUSDT\n",
            "Coin Bilgileri Taranıyor - Zamanı : 2021-03-13 20:30:00.104810+03:00\n",
            "================================\n",
            "\n",
            "================================\n",
            "\n",
            "Coin Bilgileri Taranıyor : COTIUSDT\n",
            "Coin Bilgileri Taranıyor - Zamanı : 2021-03-13 20:30:00.104810+03:00\n",
            "================================\n",
            "\n",
            "================================\n",
            "\n",
            "Coin Bilgileri Taranıyor : ANKRUSDT\n",
            "Coin Bilgileri Taranıyor - Zamanı : 2021-03-13 20:30:00.104810+03:00\n",
            "================================\n",
            "\n",
            "================================\n",
            "\n",
            "Coin Bilgileri Taranıyor : ETHUSDT\n",
            "Coin Bilgileri Taranıyor - Zamanı : 2021-03-13 20:30:00.104810+03:00\n",
            "================================\n",
            "\n",
            "================================\n",
            "\n",
            "Coin Bilgileri Taranıyor : MATICUSDT\n",
            "Coin Bilgileri Taranıyor - Zamanı : 2021-03-13 20:30:00.104810+03:00\n",
            "================================\n",
            "\n",
            "================================\n",
            "\n",
            "Coin Bilgileri Taranıyor : ADAUSDT\n",
            "Coin Bilgileri Taranıyor - Zamanı : 2021-03-13 20:30:00.104810+03:00\n",
            "================================\n",
            "\n",
            "================================\n",
            "\n",
            "Coin Bilgileri Taranıyor : XEMUSDT\n",
            "Coin Bilgileri Taranıyor - Zamanı : 2021-03-13 20:30:00.104810+03:00\n",
            "================================\n",
            "\n",
            "================================\n",
            "\n",
            "Coin Bilgileri Taranıyor : ENJUSDT\n",
            "Coin Bilgileri Taranıyor - Zamanı : 2021-03-13 20:30:00.104810+03:00\n",
            "================================\n",
            "\n",
            "================================\n",
            "\n",
            "Coin Bilgileri Taranıyor : LUNAUSDT\n",
            "Coin Bilgileri Taranıyor - Zamanı : 2021-03-13 20:30:00.104810+03:00\n",
            "================================\n",
            "\n",
            "================================\n",
            "\n",
            "Coin Bilgileri Taranıyor : XRPUSDT\n",
            "Coin Bilgileri Taranıyor - Zamanı : 2021-03-13 20:30:00.104810+03:00\n",
            "================================\n",
            "\n",
            "================================\n",
            "\n",
            "Coin Bilgileri Taranıyor : TRXUSDT\n",
            "Coin Bilgileri Taranıyor - Zamanı : 2021-03-13 20:30:00.104810+03:00\n",
            "================================\n",
            "\n",
            "================================\n",
            "\n",
            "Coin Bilgileri Taranıyor : DOTUSDT\n",
            "Coin Bilgileri Taranıyor - Zamanı : 2021-03-13 20:30:00.104810+03:00\n",
            "================================\n",
            "\n",
            "================================\n",
            "\n",
            "Coin Bilgileri Taranıyor : COMPUSDT\n",
            "Coin Bilgileri Taranıyor - Zamanı : 2021-03-13 20:30:00.104810+03:00\n",
            "================================\n",
            "\n",
            "================================\n",
            "\n",
            "Coin Bilgileri Taranıyor : FILUSDT\n",
            "Coin Bilgileri Taranıyor - Zamanı : 2021-03-13 20:30:00.104810+03:00\n",
            "================================\n",
            "\n",
            "================================\n",
            "\n",
            "Coin Bilgileri Taranıyor : KAVAUSDT\n",
            "Coin Bilgileri Taranıyor - Zamanı : 2021-03-13 20:30:00.104810+03:00\n",
            "================================\n",
            "\n",
            "================================\n",
            "\n",
            "Coin Bilgileri Taranıyor : LUNAUSDT\n",
            "Coin Bilgileri Taranıyor - Zamanı : 2021-03-13 20:30:00.104810+03:00\n",
            "================================\n",
            "\n",
            "================================\n",
            "\n",
            "Coin Bilgileri Taranıyor : PNTUSDT\n",
            "Coin Bilgileri Taranıyor - Zamanı : 2021-03-13 20:30:00.104810+03:00\n",
            "================================\n",
            "\n",
            "================================\n",
            "\n",
            "Coin Bilgileri Taranıyor : QTUMUSDT\n",
            "Coin Bilgileri Taranıyor - Zamanı : 2021-03-13 20:30:00.104810+03:00\n",
            "================================\n",
            "\n",
            "================================\n",
            "\n",
            "Coin Bilgileri Taranıyor : RVNUSDT\n",
            "Coin Bilgileri Taranıyor - Zamanı : 2021-03-13 20:30:00.104810+03:00\n",
            "================================\n",
            "\n",
            "================================\n",
            "\n",
            "Coin Bilgileri Taranıyor : SOLUSDT\n",
            "Coin Bilgileri Taranıyor - Zamanı : 2021-03-13 20:30:00.104810+03:00\n",
            "================================\n",
            "\n",
            "================================\n",
            "\n",
            "Coin Bilgileri Taranıyor : SXPUSDT\n",
            "Coin Bilgileri Taranıyor - Zamanı : 2021-03-13 20:30:00.104810+03:00\n",
            "================================\n",
            "\n",
            "================================\n",
            "\n",
            "Coin Bilgileri Taranıyor : THETAUSDT\n",
            "Coin Bilgileri Taranıyor - Zamanı : 2021-03-13 20:30:00.104810+03:00\n",
            "================================\n",
            "\n",
            "================================\n",
            "\n",
            "Coin Bilgileri Taranıyor : XEMUSDT\n",
            "Coin Bilgileri Taranıyor - Zamanı : 2021-03-13 20:30:00.104810+03:00\n",
            "================================\n",
            "\n",
            "================================\n",
            "\n",
            "Coin Bilgileri Taranıyor : ZILUSDT\n",
            "Coin Bilgileri Taranıyor - Zamanı : 2021-03-13 20:30:00.104810+03:00\n",
            "================================\n",
            "\n"
          ],
          "name": "stdout"
        }
      ]
    },
    {
      "cell_type": "markdown",
      "metadata": {
        "id": "aiOYQYuVtXds"
      },
      "source": [
        ""
      ]
    }
  ]
}