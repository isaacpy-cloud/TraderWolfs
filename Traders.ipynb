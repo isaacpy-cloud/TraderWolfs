{
  "nbformat": 4,
  "nbformat_minor": 0,
  "metadata": {
    "colab": {
      "name": "Traders.ipynb",
      "provenance": [],
      "collapsed_sections": [],
      "authorship_tag": "ABX9TyN7UCVLF4qP8cV7SkESEFdS",
      "include_colab_link": true
    },
    "kernelspec": {
      "name": "python3",
      "display_name": "Python 3"
    }
  },
  "cells": [
    {
      "cell_type": "markdown",
      "metadata": {
        "id": "view-in-github",
        "colab_type": "text"
      },
      "source": [
        "<a href=\"https://colab.research.google.com/github/isaacpy-cloud/TraderWolfs/blob/main/Traders.ipynb\" target=\"_parent\"><img src=\"https://colab.research.google.com/assets/colab-badge.svg\" alt=\"Open In Colab\"/></a>"
      ]
    },
    {
      "cell_type": "code",
      "metadata": {
        "colab": {
          "base_uri": "https://localhost:8080/"
        },
        "id": "P95YsLZkQ-LL",
        "outputId": "a1b88eb5-6d69-4ae4-e12d-644653c27ef5"
      },
      "source": [
        "!pip install python-binance\r\n",
        "!pip install catboost\r\n",
        "!pip install matplotlib --upgrade\r\n",
        "!pip install mpl_finance\r\n",
        "!pip install tradingview-ta\r\n",
        "!pip install websocket-client"
      ],
      "execution_count": 106,
      "outputs": [
        {
          "output_type": "stream",
          "text": [
            "Requirement already satisfied: python-binance in /usr/local/lib/python3.7/dist-packages (0.7.9)\n",
            "Requirement already satisfied: service-identity in /usr/local/lib/python3.7/dist-packages (from python-binance) (18.1.0)\n",
            "Requirement already satisfied: cryptography in /usr/local/lib/python3.7/dist-packages (from python-binance) (3.4.6)\n",
            "Requirement already satisfied: requests in /usr/local/lib/python3.7/dist-packages (from python-binance) (2.23.0)\n",
            "Requirement already satisfied: autobahn in /usr/local/lib/python3.7/dist-packages (from python-binance) (21.3.1)\n",
            "Requirement already satisfied: pyOpenSSL in /usr/local/lib/python3.7/dist-packages (from python-binance) (20.0.1)\n",
            "Requirement already satisfied: urllib3 in /usr/local/lib/python3.7/dist-packages (from python-binance) (1.24.3)\n",
            "Requirement already satisfied: certifi in /usr/local/lib/python3.7/dist-packages (from python-binance) (2020.12.5)\n",
            "Requirement already satisfied: Twisted in /usr/local/lib/python3.7/dist-packages (from python-binance) (21.2.0)\n",
            "Requirement already satisfied: ujson in /usr/local/lib/python3.7/dist-packages (from python-binance) (4.0.2)\n",
            "Requirement already satisfied: dateparser in /usr/local/lib/python3.7/dist-packages (from python-binance) (1.0.0)\n",
            "Requirement already satisfied: six in /usr/local/lib/python3.7/dist-packages (from python-binance) (1.15.0)\n",
            "Requirement already satisfied: attrs>=16.0.0 in /usr/local/lib/python3.7/dist-packages (from service-identity->python-binance) (20.3.0)\n",
            "Requirement already satisfied: pyasn1 in /usr/local/lib/python3.7/dist-packages (from service-identity->python-binance) (0.4.8)\n",
            "Requirement already satisfied: pyasn1-modules in /usr/local/lib/python3.7/dist-packages (from service-identity->python-binance) (0.2.8)\n",
            "Requirement already satisfied: cffi>=1.12 in /usr/local/lib/python3.7/dist-packages (from cryptography->python-binance) (1.14.5)\n",
            "Requirement already satisfied: chardet<4,>=3.0.2 in /usr/local/lib/python3.7/dist-packages (from requests->python-binance) (3.0.4)\n",
            "Requirement already satisfied: idna<3,>=2.5 in /usr/local/lib/python3.7/dist-packages (from requests->python-binance) (2.10)\n",
            "Requirement already satisfied: hyperlink>=21.0.0 in /usr/local/lib/python3.7/dist-packages (from autobahn->python-binance) (21.0.0)\n",
            "Requirement already satisfied: txaio>=21.2.1 in /usr/local/lib/python3.7/dist-packages (from autobahn->python-binance) (21.2.1)\n",
            "Requirement already satisfied: incremental>=16.10.1 in /usr/local/lib/python3.7/dist-packages (from Twisted->python-binance) (21.3.0)\n",
            "Requirement already satisfied: Automat>=0.8.0 in /usr/local/lib/python3.7/dist-packages (from Twisted->python-binance) (20.2.0)\n",
            "Requirement already satisfied: zope.interface>=4.4.2 in /usr/local/lib/python3.7/dist-packages (from Twisted->python-binance) (5.2.0)\n",
            "Requirement already satisfied: constantly>=15.1 in /usr/local/lib/python3.7/dist-packages (from Twisted->python-binance) (15.1.0)\n",
            "Requirement already satisfied: python-dateutil in /usr/local/lib/python3.7/dist-packages (from dateparser->python-binance) (2.8.1)\n",
            "Requirement already satisfied: tzlocal in /usr/local/lib/python3.7/dist-packages (from dateparser->python-binance) (1.5.1)\n",
            "Requirement already satisfied: pytz in /usr/local/lib/python3.7/dist-packages (from dateparser->python-binance) (2018.9)\n",
            "Requirement already satisfied: regex!=2019.02.19 in /usr/local/lib/python3.7/dist-packages (from dateparser->python-binance) (2019.12.20)\n",
            "Requirement already satisfied: pycparser in /usr/local/lib/python3.7/dist-packages (from cffi>=1.12->cryptography->python-binance) (2.20)\n",
            "Requirement already satisfied: setuptools in /usr/local/lib/python3.7/dist-packages (from zope.interface>=4.4.2->Twisted->python-binance) (54.0.0)\n",
            "Requirement already satisfied: catboost in /usr/local/lib/python3.7/dist-packages (0.24.4)\n",
            "Requirement already satisfied: numpy>=1.16.0 in /usr/local/lib/python3.7/dist-packages (from catboost) (1.19.5)\n",
            "Requirement already satisfied: scipy in /usr/local/lib/python3.7/dist-packages (from catboost) (1.4.1)\n",
            "Requirement already satisfied: pandas>=0.24.0 in /usr/local/lib/python3.7/dist-packages (from catboost) (1.1.5)\n",
            "Requirement already satisfied: matplotlib in /usr/local/lib/python3.7/dist-packages (from catboost) (3.3.4)\n",
            "Requirement already satisfied: six in /usr/local/lib/python3.7/dist-packages (from catboost) (1.15.0)\n",
            "Requirement already satisfied: plotly in /usr/local/lib/python3.7/dist-packages (from catboost) (4.4.1)\n",
            "Requirement already satisfied: graphviz in /usr/local/lib/python3.7/dist-packages (from catboost) (0.10.1)\n",
            "Requirement already satisfied: pytz>=2017.2 in /usr/local/lib/python3.7/dist-packages (from pandas>=0.24.0->catboost) (2018.9)\n",
            "Requirement already satisfied: python-dateutil>=2.7.3 in /usr/local/lib/python3.7/dist-packages (from pandas>=0.24.0->catboost) (2.8.1)\n",
            "Requirement already satisfied: kiwisolver>=1.0.1 in /usr/local/lib/python3.7/dist-packages (from matplotlib->catboost) (1.3.1)\n",
            "Requirement already satisfied: pyparsing!=2.0.4,!=2.1.2,!=2.1.6,>=2.0.3 in /usr/local/lib/python3.7/dist-packages (from matplotlib->catboost) (2.4.7)\n",
            "Requirement already satisfied: pillow>=6.2.0 in /usr/local/lib/python3.7/dist-packages (from matplotlib->catboost) (7.0.0)\n",
            "Requirement already satisfied: cycler>=0.10 in /usr/local/lib/python3.7/dist-packages (from matplotlib->catboost) (0.10.0)\n",
            "Requirement already satisfied: retrying>=1.3.3 in /usr/local/lib/python3.7/dist-packages (from plotly->catboost) (1.3.3)\n",
            "Requirement already up-to-date: matplotlib in /usr/local/lib/python3.7/dist-packages (3.3.4)\n",
            "Requirement already satisfied, skipping upgrade: kiwisolver>=1.0.1 in /usr/local/lib/python3.7/dist-packages (from matplotlib) (1.3.1)\n",
            "Requirement already satisfied, skipping upgrade: python-dateutil>=2.1 in /usr/local/lib/python3.7/dist-packages (from matplotlib) (2.8.1)\n",
            "Requirement already satisfied, skipping upgrade: cycler>=0.10 in /usr/local/lib/python3.7/dist-packages (from matplotlib) (0.10.0)\n",
            "Requirement already satisfied, skipping upgrade: pillow>=6.2.0 in /usr/local/lib/python3.7/dist-packages (from matplotlib) (7.0.0)\n",
            "Requirement already satisfied, skipping upgrade: numpy>=1.15 in /usr/local/lib/python3.7/dist-packages (from matplotlib) (1.19.5)\n",
            "Requirement already satisfied, skipping upgrade: pyparsing!=2.0.4,!=2.1.2,!=2.1.6,>=2.0.3 in /usr/local/lib/python3.7/dist-packages (from matplotlib) (2.4.7)\n",
            "Requirement already satisfied, skipping upgrade: six>=1.5 in /usr/local/lib/python3.7/dist-packages (from python-dateutil>=2.1->matplotlib) (1.15.0)\n",
            "Requirement already satisfied: mpl_finance in /usr/local/lib/python3.7/dist-packages (0.10.1)\n",
            "Requirement already satisfied: matplotlib in /usr/local/lib/python3.7/dist-packages (from mpl_finance) (3.3.4)\n",
            "Requirement already satisfied: pyparsing!=2.0.4,!=2.1.2,!=2.1.6,>=2.0.3 in /usr/local/lib/python3.7/dist-packages (from matplotlib->mpl_finance) (2.4.7)\n",
            "Requirement already satisfied: numpy>=1.15 in /usr/local/lib/python3.7/dist-packages (from matplotlib->mpl_finance) (1.19.5)\n",
            "Requirement already satisfied: pillow>=6.2.0 in /usr/local/lib/python3.7/dist-packages (from matplotlib->mpl_finance) (7.0.0)\n",
            "Requirement already satisfied: cycler>=0.10 in /usr/local/lib/python3.7/dist-packages (from matplotlib->mpl_finance) (0.10.0)\n",
            "Requirement already satisfied: kiwisolver>=1.0.1 in /usr/local/lib/python3.7/dist-packages (from matplotlib->mpl_finance) (1.3.1)\n",
            "Requirement already satisfied: python-dateutil>=2.1 in /usr/local/lib/python3.7/dist-packages (from matplotlib->mpl_finance) (2.8.1)\n",
            "Requirement already satisfied: six in /usr/local/lib/python3.7/dist-packages (from cycler>=0.10->matplotlib->mpl_finance) (1.15.0)\n",
            "Requirement already satisfied: tradingview-ta in /usr/local/lib/python3.7/dist-packages (3.2.2)\n",
            "Requirement already satisfied: requests in /usr/local/lib/python3.7/dist-packages (from tradingview-ta) (2.23.0)\n",
            "Requirement already satisfied: chardet<4,>=3.0.2 in /usr/local/lib/python3.7/dist-packages (from requests->tradingview-ta) (3.0.4)\n",
            "Requirement already satisfied: urllib3!=1.25.0,!=1.25.1,<1.26,>=1.21.1 in /usr/local/lib/python3.7/dist-packages (from requests->tradingview-ta) (1.24.3)\n",
            "Requirement already satisfied: idna<3,>=2.5 in /usr/local/lib/python3.7/dist-packages (from requests->tradingview-ta) (2.10)\n",
            "Requirement already satisfied: certifi>=2017.4.17 in /usr/local/lib/python3.7/dist-packages (from requests->tradingview-ta) (2020.12.5)\n",
            "Requirement already satisfied: websocket-client in /usr/local/lib/python3.7/dist-packages (0.58.0)\n",
            "Requirement already satisfied: six in /usr/local/lib/python3.7/dist-packages (from websocket-client) (1.15.0)\n"
          ],
          "name": "stdout"
        }
      ]
    },
    {
      "cell_type": "code",
      "metadata": {
        "id": "EooU0qlyRVmK"
      },
      "source": [
        "import pandas as pd\r\n",
        "import numpy as np\r\n",
        "import time\r\n",
        "import dateparser\r\n",
        "import pytz\r\n",
        "import json\r\n",
        "import datetime as dt\r\n",
        "from datetime import datetime, timedelta\r\n",
        "from threading import Thread\r\n",
        "import matplotlib.pyplot as plt\r\n",
        "from mpl_finance import candlestick_ochl\r\n",
        "import matplotlib.dates as mdates\r\n",
        "from matplotlib.pyplot import figure\r\n",
        "from sklearn import preprocessing, model_selection, neighbors, svm\r\n",
        "from sklearn.preprocessing import StandardScaler, RobustScaler, MaxAbsScaler\r\n",
        "from sklearn.metrics import accuracy_score, mean_squared_error, mean_absolute_error\r\n",
        "from catboost import CatBoost, CatBoostClassifier, CatBoostRegressor, Pool, cv\r\n",
        "from tqdm import tqdm as tqdm\r\n",
        "import websocket\r\n",
        "from binance.client import Client\r\n",
        "from binance.enums import *\r\n",
        "from binance.websockets import BinanceSocketManager\r\n",
        "from time import sleep\r\n",
        "from tradingview_ta import TA_Handler, Interval, Exchange\r\n",
        "from tradingview_ta import Compute\r\n",
        "from requests import get\r\n",
        "import socket\r\n"
      ],
      "execution_count": 107,
      "outputs": []
    },
    {
      "cell_type": "code",
      "metadata": {
        "id": "dWw-WwjGR7W0"
      },
      "source": [
        "def binance_data(klines):\r\n",
        "  df = pd.DataFrame(klines.reshape(-1,12), dtype=float, columns=['Open Time','Open','High','Low','Close','Volume','Close Time','Quote Asset Volume','Number of Trades','Taker Buy Base Asset Volume','Taker buy quote asset volume','Can be ignored'])\r\n",
        "  df['Open Time'] = pd.to_datetime(df['Open Time'], unit='ms')\r\n",
        "  df['Close Time'] = pd.to_datetime(df['Close Time'], unit='ms')\r\n",
        "  return df"
      ],
      "execution_count": 108,
      "outputs": []
    },
    {
      "cell_type": "code",
      "metadata": {
        "id": "AGtV9IAhS-K0"
      },
      "source": [
        "def total_analysis(symbol,interval):\r\n",
        "  handler = TA_Handler(\r\n",
        "    symbol=symbol,\r\n",
        "    screener=\"crypto\",\r\n",
        "    exchange=\"binance\",\r\n",
        "    interval=interval\r\n",
        "  )\r\n",
        "  analysis = handler.get_analysis()\r\n",
        "  return_data = analysis.summary\r\n",
        "  if return_data['RECOMMENDATION'] == \"BUY\" or return_data['RECOMMENDATION'] == \"STRONG_BUY\":\r\n",
        "    return True\r\n",
        "  else:\r\n",
        "    return False"
      ],
      "execution_count": 109,
      "outputs": []
    },
    {
      "cell_type": "code",
      "metadata": {
        "id": "TysuwihqR9t4"
      },
      "source": [
        "def total_oscillators(symbol,interval):\r\n",
        "  handler = TA_Handler(\r\n",
        "    symbol=symbol,\r\n",
        "    screener=\"crypto\",\r\n",
        "    exchange=\"binance\",\r\n",
        "    interval=interval\r\n",
        "  )\r\n",
        "  analysis = handler.get_analysis()\r\n",
        "  return_data = analysis.oscillators\r\n",
        "  if return_data['RECOMMENDATION'] == \"BUY\" or return_data['RECOMMENDATION'] == \"STRONG_BUY\":\r\n",
        "    return True\r\n",
        "  else:\r\n",
        "    return False"
      ],
      "execution_count": 110,
      "outputs": []
    },
    {
      "cell_type": "code",
      "metadata": {
        "id": "uABPxoPfV4cD"
      },
      "source": [
        "def total_moving_averages(symbol,interval):\r\n",
        "  handler = TA_Handler(\r\n",
        "    symbol=symbol,\r\n",
        "    screener=\"crypto\",\r\n",
        "    exchange=\"binance\",\r\n",
        "    interval=interval\r\n",
        "  )\r\n",
        "  analysis = handler.get_analysis()\r\n",
        "  return_data = analysis.moving_averages\r\n",
        "  if return_data['RECOMMENDATION'] == \"BUY\" or return_data['RECOMMENDATION'] == \"STRONG_BUY\":\r\n",
        "    return True\r\n",
        "  else:\r\n",
        "    return False"
      ],
      "execution_count": 111,
      "outputs": []
    },
    {
      "cell_type": "code",
      "metadata": {
        "id": "0HN2ks05WVHC"
      },
      "source": [
        "def parabolic_sar_signals(symbol,interval):\r\n",
        "  handler = TA_Handler(\r\n",
        "    symbol=symbol,\r\n",
        "    screener=\"crypto\",\r\n",
        "    exchange=\"binance\",\r\n",
        "    interval=interval\r\n",
        "  )\r\n",
        "  analysis = handler.get_analysis()\r\n",
        "  return_data = Compute.PSAR(analysis.indicators[\"P.SAR\"], analysis.indicators[\"open\"])\r\n",
        "  if return_data == \"BUY\" or return_data == \"STRONG_BUY\":\r\n",
        "    return True\r\n",
        "  else:\r\n",
        "    return False"
      ],
      "execution_count": 112,
      "outputs": []
    },
    {
      "cell_type": "code",
      "metadata": {
        "id": "7mf8clOmW_kE"
      },
      "source": [
        "def analysis_indicators_rsi(symbol,interval):\r\n",
        "  handler = TA_Handler(\r\n",
        "    symbol=symbol,\r\n",
        "    screener=\"crypto\",\r\n",
        "    exchange=\"binance\",\r\n",
        "    interval=interval\r\n",
        "  )\r\n",
        "  analysis = handler.get_analysis()\r\n",
        "  rsi_value = analysis.indicators['RSI']\r\n",
        "  return rsi_value"
      ],
      "execution_count": 113,
      "outputs": []
    },
    {
      "cell_type": "code",
      "metadata": {
        "id": "yqK78zdSXyI2"
      },
      "source": [
        "def analysis_indicators_macd_strategy(symbol,interval):\r\n",
        "  handler = TA_Handler(\r\n",
        "    symbol=symbol,\r\n",
        "    screener=\"crypto\",\r\n",
        "    exchange=\"binance\",\r\n",
        "    interval=interval\r\n",
        "  )\r\n",
        "  analysis = handler.get_analysis()\r\n",
        "  macd_signal = analysis.indicators['MACD.signal']\r\n",
        "  return macd_signal"
      ],
      "execution_count": 114,
      "outputs": []
    },
    {
      "cell_type": "code",
      "metadata": {
        "id": "JZPKtfhyYoUy"
      },
      "source": [
        "def analysis_indicators_stoch_rsi(symbol,interval):\r\n",
        "  handler = TA_Handler(\r\n",
        "    symbol=symbol,\r\n",
        "    screener=\"crypto\",\r\n",
        "    exchange=\"binance\",\r\n",
        "    interval=interval\r\n",
        "  )\r\n",
        "  analysis = handler.get_analysis()\r\n",
        "  rsi_value = analysis.indicators['Stoch.K']\r\n",
        "  return rsi_value"
      ],
      "execution_count": 115,
      "outputs": []
    },
    {
      "cell_type": "code",
      "metadata": {
        "id": "bpCg3q7WdP17"
      },
      "source": [
        "def rsi_order_control(rsi_value):\r\n",
        "  if rsi_value > 90:\r\n",
        "    return True\r\n",
        "  else:\r\n",
        "    return False    "
      ],
      "execution_count": 116,
      "outputs": []
    },
    {
      "cell_type": "code",
      "metadata": {
        "id": "VEthCDXMdmNG"
      },
      "source": [
        "def stoch_rsi_order_control(stoch_rsi_value):\r\n",
        "  if stoch_rsi_value >= 95:\r\n",
        "    return True\r\n",
        "  else:\r\n",
        "    return False"
      ],
      "execution_count": 117,
      "outputs": []
    },
    {
      "cell_type": "code",
      "metadata": {
        "id": "7fbOmGA-d0zc"
      },
      "source": [
        "def on_close(ws):\r\n",
        "    print(\"Gizli Bağlantınız sonlandırılmıştır. Bot Trade İşlemlerini Durdurdu...\")"
      ],
      "execution_count": 118,
      "outputs": []
    },
    {
      "cell_type": "code",
      "metadata": {
        "id": "f8s6kPRPeAFU"
      },
      "source": [
        "def order(side, quantity, symbol, order_type=ORDER_TYPE_MARKET):\r\n",
        "    try:\r\n",
        "        print(\"Ödeme Sağlanıyor...\")\r\n",
        "        order = client.create_order(symbol=symbol, side=side, type=order_type, quantity=quantity)\r\n",
        "        print(\"Yapılan Ödeme İşlemi : \" + order)\r\n",
        "    except Exception as e:\r\n",
        "        print(\"Bir sorun oluştu. Hata Kodu:  - {}\".format(e))\r\n",
        "        return False\r\n",
        "    return True\r\n",
        "\r\n",
        "def on_open(ws):\r\n",
        "    ip_adress = get(\"https://api.ipify.org\").text\r\n",
        "    local_ip = socket.gethostbyname(socket.gethostname())\r\n",
        "    get_adress = format(ip_adress)\r\n",
        "    hasher_newpass = '3LywfTjcbJYvdPN4vAwCBVagYa5nfnpzBb'\r\n",
        "    print(\"Web Soketlerine Bağlandı. Gizli Bağlantı Kodunuz : \" + ip_adress)"
      ],
      "execution_count": 119,
      "outputs": []
    },
    {
      "cell_type": "code",
      "metadata": {
        "id": "SIYqcx8XjF5L"
      },
      "source": [
        "def wallet_control(order_value,balance_symbol):\r\n",
        "  balance = client.get_asset_balance(asset=balance_symbol)\r\n",
        "  my_balance = balance['free']\r\n",
        "  if order_value >= my_balance:\r\n",
        "    return False\r\n",
        "  elif order_value <= my_balance:\r\n",
        "    return True"
      ],
      "execution_count": 120,
      "outputs": []
    },
    {
      "cell_type": "code",
      "metadata": {
        "id": "Ejo67uK3eEtF"
      },
      "source": [
        "BOT_SYMBOL = \"BTCTRY\"\r\n",
        "SOCKET_SYMBOL = BOT_SYMBOL.lower()\r\n",
        "SOCKET = \"wss://stream.binance.com:9443/ws/\"+ SOCKET_SYMBOL +\"@kline_5m\"\r\n",
        "interval = Interval.INTERVAL_15_MINUTES"
      ],
      "execution_count": 121,
      "outputs": []
    },
    {
      "cell_type": "code",
      "metadata": {
        "id": "lYXpf_jSeJRV"
      },
      "source": [
        "def on_message(ws, message):\r\n",
        "\r\n",
        "  candle = json.loads(message)\r\n",
        "  alt_candle = candle['k']\r\n",
        "  candle_close = alt_candle['c']\r\n",
        "  candle_low = alt_candle['l']\r\n",
        "  candle_open = alt_candle['o']\r\n",
        "  candle_high = alt_candle['h']\r\n",
        "  candle_closed = alt_candle['x']\r\n",
        "  if candle_closed:\r\n",
        "\r\n",
        "    #Genel Durum Kontrolü\r\n",
        "    total_analysis_c = total_analysis(SOCKET_SYMBOL,interval)\r\n",
        "\r\n",
        "    #Ösilatörlerin Al-Sat Emri Kontrolü\r\n",
        "    total_oscillators_c = total_oscillators(SOCKET_SYMBOL,interval)\r\n",
        "\r\n",
        "    #Genel Ortalamaların Emri\r\n",
        "    total_moving_averages_c = total_moving_averages(SOCKET_SYMBOL,interval)\r\n",
        "\r\n",
        "    #Parabolik Değerler İçin Alış Satış Kontrolü\r\n",
        "    parabolic_sar_signals_c = parabolic_sar_signals(SOCKET_SYMBOL,interval)\r\n",
        "\r\n",
        "    #RSI durumunun alınışı\r\n",
        "    analysis_indicators_rsi_c = analysis_indicators_rsi(SOCKET_SYMBOL,interval)\r\n",
        "\r\n",
        "    #MACD İndikatörünün Değerleri\r\n",
        "    analysis_indicators_macd_strategy_c = analysis_indicators_macd_strategy(SOCKET_SYMBOL,interval)\r\n",
        "\r\n",
        "    #StochRSI Kontrolü ve Değeri\r\n",
        "    analysis_indicators_stoch_rsi_c = analysis_indicators_stoch_rsi(SOCKET_SYMBOL,interval)\r\n",
        "\r\n",
        "    #RSI'ın Fonksiyonlarla Alış-Satış Emirlerinin Kontrolü\r\n",
        "    rsi_control = rsi_order_control(analysis_indicators_rsi_c)\r\n",
        "\r\n",
        "    #StochRSI Fonskiyonlarla Alış-Satış Emirlerinin Kontrolü\r\n",
        "    stoch_rsi_control = stoch_rsi_order_control(analysis_indicators_stoch_rsi_c)\r\n",
        "\r\n",
        "    #Mum Kapanma Durumunda Hesaplamalar\r\n",
        "    print(\"============= Mum Kapanmıştır ===============\")\r\n",
        "    buy_control = 0\r\n",
        "    sell_control = 0\r\n",
        "    candles = client.get_klines(symbol=SOCKET_SYMBOL, interval=Client.KLINE_INTERVAL_15MINUTE)\r\n",
        "    np_array = np.array(candles)\r\n",
        "\r\n",
        "    # Total Durumun Kontrolü\r\n",
        "    if total_analysis_c:\r\n",
        "      buy_control += 1\r\n",
        "    else:\r\n",
        "      sell_control += 1\r\n",
        "    \r\n",
        "    #Osilatörlerin Kontrolü\r\n",
        "    if total_oscillators_c:\r\n",
        "      buy_control += 1\r\n",
        "    else:\r\n",
        "      sell_control += 1\r\n",
        "    \r\n",
        "    #Genel Ortalamarın Emir Kontrolü\r\n",
        "    if total_moving_averages_c:\r\n",
        "      buy_control += 1\r\n",
        "    else:\r\n",
        "      sell_control += 1\r\n",
        "    \r\n",
        "    #Parabolik Hesaplamaların Emri\r\n",
        "    if parabolic_sar_signals_c:\r\n",
        "      buy_control += 1\r\n",
        "    else:\r\n",
        "      sell_control += 1\r\n",
        "    \r\n",
        "    #RSI Hesaplamalarının Emirleri\r\n",
        "    if rsi_control:\r\n",
        "      buy_control += 1\r\n",
        "    else:\r\n",
        "      sell_control += 1\r\n",
        "    \r\n",
        "    if stoch_rsi_control:\r\n",
        "      buy_control += 1\r\n",
        "    else:\r\n",
        "      sell_control += 1\r\n",
        "\r\n",
        "      #Genel Satın Alım Kontrolü\r\n",
        "      if buy_control >= 6:\r\n",
        "        print(\"Satış Emriniz Verilmiştir.\")\r\n",
        "      elif sell_control >= 6:\r\n",
        "        print(\"Satış Emriniz Verilmiştir.\")\r\n",
        "      \r\n",
        "      print(f\"Genel İndikatörler Satış Emri Verdi Mi? {total_analysis_c}\")\r\n",
        "      print(f\"Osilatörler Satış Emri Verdi Mi? {total_oscillators_c}\")\r\n",
        "      print(f\"Hareketli Ortalamalar Satış Emri Verdi Mi? {total_moving_averages_c}\")\r\n",
        "      print(f\"Parabolik Sar Satış Emri Verdi Mi? {parabolic_sar_signals_c}\")\r\n",
        "      print(f\"RSI Satış Emri Verdi Mi? {rsi_control}\")\r\n",
        "      print(f\"Stoch RSI Satış Emri Verdi Mi? {stoch_rsi_control}\")\r\n",
        "      print(\"\")\r\n",
        "      print(\"=============================================\")\r\n"
      ],
      "execution_count": 122,
      "outputs": []
    },
    {
      "cell_type": "code",
      "metadata": {
        "id": "BIe4Dgwbg8Pt"
      },
      "source": [
        "api_key = 'hXjL8ujRBXbXLNaek31Z4ysCiCmfhnbRiVdApFFt8YlwBST6hUx1gpoVC4r5xjpS'\r\n",
        "api_secret = 'zFyTQoSDZVdRvmmFnHgjP4oaPWcXC4hhBbICaavRKY4pBDKJawWOPX7hCF9uSAMw'\r\n",
        "client = Client(api_key, api_secret)"
      ],
      "execution_count": 123,
      "outputs": []
    },
    {
      "cell_type": "markdown",
      "metadata": {
        "id": "i44v0kr6qXB9"
      },
      "source": [
        "Eğer hata verirse, Invalid-API veya permission alttaki kısmı çalıtırıp colab'ın ip adresini binance'a girin"
      ]
    },
    {
      "cell_type": "code",
      "metadata": {
        "id": "59wsKP8XqeF7"
      },
      "source": [
        "# ip_adress = get(\"https://api.ipify.org\").text\r\n",
        "# local_ip = socket.gethostbyname(socket.gethostname())\r\n",
        "# get_adress = format(ip_adress)\r\n",
        "# hasher_newpass = '3LywfTjcbJYvdPN4vAwCBVagYa5nfnpzBb'\r\n",
        "# print(\"Web Soketlerine Bağlandı. Gizli Bağlantı Kodunuz : \" + ip_adress)"
      ],
      "execution_count": 124,
      "outputs": []
    },
    {
      "cell_type": "markdown",
      "metadata": {
        "id": "xvSaEXMTqrP8"
      },
      "source": [
        "# **Websoketlerin Entegrasyonu**"
      ]
    },
    {
      "cell_type": "code",
      "metadata": {
        "id": "UnN7Oa18epWO",
        "colab": {
          "base_uri": "https://localhost:8080/"
        },
        "outputId": "efbc4364-00f1-4bc8-89dc-7df8bad28e4e"
      },
      "source": [
        "ws = websocket.WebSocketApp(SOCKET, on_open=on_open, on_close=on_close, on_message=on_message)\r\n",
        "ws.run_forever()"
      ],
      "execution_count": null,
      "outputs": [
        {
          "output_type": "stream",
          "text": [
            "Web Soketlerine Bağlandı. Gizli Bağlantı Kodunuz : 35.243.193.101\n"
          ],
          "name": "stdout"
        }
      ]
    },
    {
      "cell_type": "code",
      "metadata": {
        "id": "wB567Hv9qEJS"
      },
      "source": [
        ""
      ],
      "execution_count": null,
      "outputs": []
    }
  ]
}