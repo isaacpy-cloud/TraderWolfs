{
  "nbformat": 4,
  "nbformat_minor": 0,
  "metadata": {
    "colab": {
      "name": "Traders.ipynb",
      "provenance": [],
      "collapsed_sections": [],
      "authorship_tag": "ABX9TyOWlihx8iZ9yZPg4sS5gVbE",
      "include_colab_link": true
    },
    "kernelspec": {
      "name": "python3",
      "display_name": "Python 3"
    }
  },
  "cells": [
    {
      "cell_type": "markdown",
      "metadata": {
        "id": "view-in-github",
        "colab_type": "text"
      },
      "source": [
        "<a href=\"https://colab.research.google.com/github/isaacpy-cloud/TraderWolfs/blob/main/Traders.ipynb\" target=\"_parent\"><img src=\"https://colab.research.google.com/assets/colab-badge.svg\" alt=\"Open In Colab\"/></a>"
      ]
    },
    {
      "cell_type": "code",
      "metadata": {
        "colab": {
          "base_uri": "https://localhost:8080/",
          "height": 1000
        },
        "id": "P95YsLZkQ-LL",
        "outputId": "4733a3f8-9b76-43de-9118-937516acc83b"
      },
      "source": [
        "!pip install python-binance\r\n",
        "!pip install catboost\r\n",
        "!pip install matplotlib --upgrade\r\n",
        "!pip install mpl_finance\r\n",
        "!pip install tradingview-ta"
      ],
      "execution_count": null,
      "outputs": [
        {
          "output_type": "stream",
          "text": [
            "Collecting python-binance\n",
            "  Downloading https://files.pythonhosted.org/packages/79/8c/d41c21d4815627b12e6afbaddfe0b87f34a4c5a835af17c535ed680828e8/python_binance-0.7.9-py2.py3-none-any.whl\n",
            "Collecting ujson\n",
            "\u001b[?25l  Downloading https://files.pythonhosted.org/packages/17/4e/50e8e4cf5f00b537095711c2c86ac4d7191aed2b4fffd5a19f06898f6929/ujson-4.0.2-cp37-cp37m-manylinux1_x86_64.whl (179kB)\n",
            "\u001b[K     |████████████████████████████████| 184kB 7.2MB/s \n",
            "\u001b[?25hCollecting pyOpenSSL\n",
            "\u001b[?25l  Downloading https://files.pythonhosted.org/packages/b2/5e/06351ede29fd4899782ad335c2e02f1f862a887c20a3541f17c3fa1a3525/pyOpenSSL-20.0.1-py2.py3-none-any.whl (54kB)\n",
            "\u001b[K     |████████████████████████████████| 61kB 6.7MB/s \n",
            "\u001b[?25hCollecting service-identity\n",
            "  Downloading https://files.pythonhosted.org/packages/e9/7c/2195b890023e098f9618d43ebc337d83c8b38d414326685339eb024db2f6/service_identity-18.1.0-py2.py3-none-any.whl\n",
            "Collecting dateparser\n",
            "\u001b[?25l  Downloading https://files.pythonhosted.org/packages/78/c4/b5ddc3eeac974d85055d88c1e6b62cc492fc1a93dbe3b66a45a756a7b807/dateparser-1.0.0-py2.py3-none-any.whl (279kB)\n",
            "\u001b[K     |████████████████████████████████| 286kB 10.2MB/s \n",
            "\u001b[?25hRequirement already satisfied: six in /usr/local/lib/python3.7/dist-packages (from python-binance) (1.15.0)\n",
            "Requirement already satisfied: certifi in /usr/local/lib/python3.7/dist-packages (from python-binance) (2020.12.5)\n",
            "Requirement already satisfied: requests in /usr/local/lib/python3.7/dist-packages (from python-binance) (2.23.0)\n",
            "Collecting Twisted\n",
            "\u001b[?25l  Downloading https://files.pythonhosted.org/packages/f2/16/3eb9c66a7bfb5220c7bcbaaac33d359fe8a157b028959cd210983749b2e0/Twisted-21.2.0-py3-none-any.whl (3.1MB)\n",
            "\u001b[K     |████████████████████████████████| 3.1MB 14.5MB/s \n",
            "\u001b[?25hRequirement already satisfied: urllib3 in /usr/local/lib/python3.7/dist-packages (from python-binance) (1.24.3)\n",
            "Collecting cryptography\n",
            "\u001b[?25l  Downloading https://files.pythonhosted.org/packages/f8/1f/acde6ff69864c5e78b56488e3afd93c1ccc8c2651186e2a5f93d93f64859/cryptography-3.4.6-cp36-abi3-manylinux2014_x86_64.whl (3.2MB)\n",
            "\u001b[K     |████████████████████████████████| 3.2MB 27.4MB/s \n",
            "\u001b[?25hCollecting autobahn\n",
            "\u001b[?25l  Downloading https://files.pythonhosted.org/packages/f0/8b/816e29fdcb249c3ce8e7e4c16f0547b0255c5f4c9a6cb88c2c91b7d8b202/autobahn-21.3.1-py2.py3-none-any.whl (495kB)\n",
            "\u001b[K     |████████████████████████████████| 501kB 32.9MB/s \n",
            "\u001b[?25hRequirement already satisfied: pyasn1-modules in /usr/local/lib/python3.7/dist-packages (from service-identity->python-binance) (0.2.8)\n",
            "Requirement already satisfied: pyasn1 in /usr/local/lib/python3.7/dist-packages (from service-identity->python-binance) (0.4.8)\n",
            "Requirement already satisfied: attrs>=16.0.0 in /usr/local/lib/python3.7/dist-packages (from service-identity->python-binance) (20.3.0)\n",
            "Requirement already satisfied: python-dateutil in /usr/local/lib/python3.7/dist-packages (from dateparser->python-binance) (2.8.1)\n",
            "Requirement already satisfied: pytz in /usr/local/lib/python3.7/dist-packages (from dateparser->python-binance) (2018.9)\n",
            "Requirement already satisfied: regex!=2019.02.19 in /usr/local/lib/python3.7/dist-packages (from dateparser->python-binance) (2019.12.20)\n",
            "Requirement already satisfied: tzlocal in /usr/local/lib/python3.7/dist-packages (from dateparser->python-binance) (1.5.1)\n",
            "Requirement already satisfied: chardet<4,>=3.0.2 in /usr/local/lib/python3.7/dist-packages (from requests->python-binance) (3.0.4)\n",
            "Requirement already satisfied: idna<3,>=2.5 in /usr/local/lib/python3.7/dist-packages (from requests->python-binance) (2.10)\n",
            "Collecting incremental>=16.10.1\n",
            "  Downloading https://files.pythonhosted.org/packages/99/3b/4f80dd10cb716f3a9e22ae88f026d25c47cc3fdf82c2747f3d59c98e4ff1/incremental-21.3.0-py2.py3-none-any.whl\n",
            "Collecting Automat>=0.8.0\n",
            "  Downloading https://files.pythonhosted.org/packages/dd/83/5f6f3c1a562674d65efc320257bdc0873ec53147835aeef7762fe7585273/Automat-20.2.0-py2.py3-none-any.whl\n",
            "Collecting constantly>=15.1\n",
            "  Downloading https://files.pythonhosted.org/packages/b9/65/48c1909d0c0aeae6c10213340ce682db01b48ea900a7d9fce7a7910ff318/constantly-15.1.0-py2.py3-none-any.whl\n",
            "Collecting hyperlink>=17.1.1\n",
            "\u001b[?25l  Downloading https://files.pythonhosted.org/packages/6e/aa/8caf6a0a3e62863cbb9dab27135660acba46903b703e224f14f447e57934/hyperlink-21.0.0-py2.py3-none-any.whl (74kB)\n",
            "\u001b[K     |████████████████████████████████| 81kB 7.7MB/s \n",
            "\u001b[?25hCollecting zope.interface>=4.4.2\n",
            "\u001b[?25l  Downloading https://files.pythonhosted.org/packages/f8/42/d8f11eaef844bee267821281fffe445e49cf31b486d72a81821a9d45cd0a/zope.interface-5.2.0-cp37-cp37m-manylinux2010_x86_64.whl (237kB)\n",
            "\u001b[K     |████████████████████████████████| 245kB 37.6MB/s \n",
            "\u001b[?25hRequirement already satisfied: cffi>=1.12 in /usr/local/lib/python3.7/dist-packages (from cryptography->python-binance) (1.14.5)\n",
            "Collecting txaio>=21.2.1\n",
            "  Downloading https://files.pythonhosted.org/packages/55/53/c9b89497ba46395bbf84a8c511550626cc5c507c0b76680df54435553e53/txaio-21.2.1-py2.py3-none-any.whl\n",
            "Requirement already satisfied: setuptools in /usr/local/lib/python3.7/dist-packages (from zope.interface>=4.4.2->Twisted->python-binance) (54.0.0)\n",
            "Requirement already satisfied: pycparser in /usr/local/lib/python3.7/dist-packages (from cffi>=1.12->cryptography->python-binance) (2.20)\n",
            "Installing collected packages: ujson, cryptography, pyOpenSSL, service-identity, dateparser, incremental, Automat, constantly, hyperlink, zope.interface, Twisted, txaio, autobahn, python-binance\n",
            "Successfully installed Automat-20.2.0 Twisted-21.2.0 autobahn-21.3.1 constantly-15.1.0 cryptography-3.4.6 dateparser-1.0.0 hyperlink-21.0.0 incremental-21.3.0 pyOpenSSL-20.0.1 python-binance-0.7.9 service-identity-18.1.0 txaio-21.2.1 ujson-4.0.2 zope.interface-5.2.0\n",
            "Collecting catboost\n",
            "\u001b[?25l  Downloading https://files.pythonhosted.org/packages/96/3b/bb419654adcf7efff42ed8a3f84e50c8f236424b7ed1cc8ccd290852e003/catboost-0.24.4-cp37-none-manylinux1_x86_64.whl (65.7MB)\n",
            "\u001b[K     |████████████████████████████████| 65.7MB 114kB/s \n",
            "\u001b[?25hRequirement already satisfied: scipy in /usr/local/lib/python3.7/dist-packages (from catboost) (1.4.1)\n",
            "Requirement already satisfied: pandas>=0.24.0 in /usr/local/lib/python3.7/dist-packages (from catboost) (1.1.5)\n",
            "Requirement already satisfied: matplotlib in /usr/local/lib/python3.7/dist-packages (from catboost) (3.2.2)\n",
            "Requirement already satisfied: plotly in /usr/local/lib/python3.7/dist-packages (from catboost) (4.4.1)\n",
            "Requirement already satisfied: numpy>=1.16.0 in /usr/local/lib/python3.7/dist-packages (from catboost) (1.19.5)\n",
            "Requirement already satisfied: six in /usr/local/lib/python3.7/dist-packages (from catboost) (1.15.0)\n",
            "Requirement already satisfied: graphviz in /usr/local/lib/python3.7/dist-packages (from catboost) (0.10.1)\n",
            "Requirement already satisfied: pytz>=2017.2 in /usr/local/lib/python3.7/dist-packages (from pandas>=0.24.0->catboost) (2018.9)\n",
            "Requirement already satisfied: python-dateutil>=2.7.3 in /usr/local/lib/python3.7/dist-packages (from pandas>=0.24.0->catboost) (2.8.1)\n",
            "Requirement already satisfied: cycler>=0.10 in /usr/local/lib/python3.7/dist-packages (from matplotlib->catboost) (0.10.0)\n",
            "Requirement already satisfied: kiwisolver>=1.0.1 in /usr/local/lib/python3.7/dist-packages (from matplotlib->catboost) (1.3.1)\n",
            "Requirement already satisfied: pyparsing!=2.0.4,!=2.1.2,!=2.1.6,>=2.0.1 in /usr/local/lib/python3.7/dist-packages (from matplotlib->catboost) (2.4.7)\n",
            "Requirement already satisfied: retrying>=1.3.3 in /usr/local/lib/python3.7/dist-packages (from plotly->catboost) (1.3.3)\n",
            "Installing collected packages: catboost\n",
            "Successfully installed catboost-0.24.4\n",
            "Collecting matplotlib\n",
            "\u001b[?25l  Downloading https://files.pythonhosted.org/packages/23/3d/db9a6b3c83c9511301152dbb64a029c3a4313c86eaef12c237b13ecf91d6/matplotlib-3.3.4-cp37-cp37m-manylinux1_x86_64.whl (11.5MB)\n",
            "\u001b[K     |████████████████████████████████| 11.6MB 380kB/s \n",
            "\u001b[?25hRequirement already satisfied, skipping upgrade: pyparsing!=2.0.4,!=2.1.2,!=2.1.6,>=2.0.3 in /usr/local/lib/python3.7/dist-packages (from matplotlib) (2.4.7)\n",
            "Requirement already satisfied, skipping upgrade: kiwisolver>=1.0.1 in /usr/local/lib/python3.7/dist-packages (from matplotlib) (1.3.1)\n",
            "Requirement already satisfied, skipping upgrade: cycler>=0.10 in /usr/local/lib/python3.7/dist-packages (from matplotlib) (0.10.0)\n",
            "Requirement already satisfied, skipping upgrade: python-dateutil>=2.1 in /usr/local/lib/python3.7/dist-packages (from matplotlib) (2.8.1)\n",
            "Requirement already satisfied, skipping upgrade: numpy>=1.15 in /usr/local/lib/python3.7/dist-packages (from matplotlib) (1.19.5)\n",
            "Requirement already satisfied, skipping upgrade: pillow>=6.2.0 in /usr/local/lib/python3.7/dist-packages (from matplotlib) (7.0.0)\n",
            "Requirement already satisfied, skipping upgrade: six in /usr/local/lib/python3.7/dist-packages (from cycler>=0.10->matplotlib) (1.15.0)\n",
            "\u001b[31mERROR: albumentations 0.1.12 has requirement imgaug<0.2.7,>=0.2.5, but you'll have imgaug 0.2.9 which is incompatible.\u001b[0m\n",
            "Installing collected packages: matplotlib\n",
            "  Found existing installation: matplotlib 3.2.2\n",
            "    Uninstalling matplotlib-3.2.2:\n",
            "      Successfully uninstalled matplotlib-3.2.2\n",
            "Successfully installed matplotlib-3.3.4\n"
          ],
          "name": "stdout"
        },
        {
          "output_type": "display_data",
          "data": {
            "application/vnd.colab-display-data+json": {
              "pip_warning": {
                "packages": [
                  "matplotlib",
                  "mpl_toolkits"
                ]
              }
            }
          },
          "metadata": {
            "tags": []
          }
        },
        {
          "output_type": "stream",
          "text": [
            "Collecting mpl_finance\n",
            "  Downloading https://files.pythonhosted.org/packages/9d/de/8169ea4403d6cb8322e74cc48b6834d1dfbed81931d17f1f26b2140160d8/mpl_finance-0.10.1-py3-none-any.whl\n",
            "Requirement already satisfied: matplotlib in /usr/local/lib/python3.7/dist-packages (from mpl_finance) (3.3.4)\n",
            "Requirement already satisfied: kiwisolver>=1.0.1 in /usr/local/lib/python3.7/dist-packages (from matplotlib->mpl_finance) (1.3.1)\n",
            "Requirement already satisfied: pillow>=6.2.0 in /usr/local/lib/python3.7/dist-packages (from matplotlib->mpl_finance) (7.0.0)\n",
            "Requirement already satisfied: pyparsing!=2.0.4,!=2.1.2,!=2.1.6,>=2.0.3 in /usr/local/lib/python3.7/dist-packages (from matplotlib->mpl_finance) (2.4.7)\n",
            "Requirement already satisfied: python-dateutil>=2.1 in /usr/local/lib/python3.7/dist-packages (from matplotlib->mpl_finance) (2.8.1)\n",
            "Requirement already satisfied: numpy>=1.15 in /usr/local/lib/python3.7/dist-packages (from matplotlib->mpl_finance) (1.19.5)\n",
            "Requirement already satisfied: cycler>=0.10 in /usr/local/lib/python3.7/dist-packages (from matplotlib->mpl_finance) (0.10.0)\n",
            "Requirement already satisfied: six>=1.5 in /usr/local/lib/python3.7/dist-packages (from python-dateutil>=2.1->matplotlib->mpl_finance) (1.15.0)\n",
            "Installing collected packages: mpl-finance\n",
            "Successfully installed mpl-finance-0.10.1\n",
            "Collecting tradingview-ta\n",
            "  Downloading https://files.pythonhosted.org/packages/d2/ca/bff3ce0e6a37025f6ec233e2147751162e81fa63259d49aedee8ea408664/tradingview_ta-3.2.2-py3-none-any.whl\n",
            "Requirement already satisfied: requests in /usr/local/lib/python3.7/dist-packages (from tradingview-ta) (2.23.0)\n",
            "Requirement already satisfied: certifi>=2017.4.17 in /usr/local/lib/python3.7/dist-packages (from requests->tradingview-ta) (2020.12.5)\n",
            "Requirement already satisfied: idna<3,>=2.5 in /usr/local/lib/python3.7/dist-packages (from requests->tradingview-ta) (2.10)\n",
            "Requirement already satisfied: chardet<4,>=3.0.2 in /usr/local/lib/python3.7/dist-packages (from requests->tradingview-ta) (3.0.4)\n",
            "Requirement already satisfied: urllib3!=1.25.0,!=1.25.1,<1.26,>=1.21.1 in /usr/local/lib/python3.7/dist-packages (from requests->tradingview-ta) (1.24.3)\n",
            "Installing collected packages: tradingview-ta\n",
            "Successfully installed tradingview-ta-3.2.2\n"
          ],
          "name": "stdout"
        }
      ]
    },
    {
      "cell_type": "code",
      "metadata": {
        "id": "EooU0qlyRVmK"
      },
      "source": [
        "import pandas as pd\r\n",
        "import numpy as np\r\n",
        "import time\r\n",
        "import dateparser\r\n",
        "import pytz\r\n",
        "import json\r\n",
        "import datetime as dt\r\n",
        "from datetime import datetime, timedelta\r\n",
        "from threading import Thread\r\n",
        "import matplotlib.pyplot as plt\r\n",
        "from mpl_finance import candlestick_ochl\r\n",
        "import matplotlib.dates as mdates\r\n",
        "from matplotlib.pyplot import figure\r\n",
        "from sklearn import preprocessing, model_selection, neighbors, svm\r\n",
        "from sklearn.preprocessing import StandardScaler, RobustScaler, MaxAbsScaler\r\n",
        "from sklearn.metrics import accuracy_score, mean_squared_error, mean_absolute_error\r\n",
        "from catboost import CatBoost, CatBoostClassifier, CatBoostRegressor, Pool, cv\r\n",
        "from tqdm import tqdm as tqdm\r\n",
        "from binance.client import Client\r\n",
        "from binance.enums import *\r\n",
        "from binance.websockets import BinanceSocketManager\r\n",
        "from time import sleep\r\n",
        "from tradingview_ta import TA_Handler, Interval, Exchange\r\n",
        "from tradingview_ta import Compute"
      ],
      "execution_count": null,
      "outputs": []
    },
    {
      "cell_type": "code",
      "metadata": {
        "id": "dWw-WwjGR7W0"
      },
      "source": [
        "def binance_data(klines):\r\n",
        "  df = pd.DataFrame(klines.reshape(-1,12), dtype=float, columns=['Open Time','Open','High','Low','Close','Volume','Close Time','Quote Asset Volume','Number of Trades','Taker Buy Base Asset Volume','Taker buy quote asset volume','Can be ignored'])\r\n",
        "  df['Open Time'] = pd.to_datetime(df['Open Time'], unit='ms')\r\n",
        "  df['Close Time'] = pd.to_datetime(df['Close Time'], unit='ms')\r\n",
        "  return df"
      ],
      "execution_count": null,
      "outputs": []
    },
    {
      "cell_type": "code",
      "metadata": {
        "id": "AGtV9IAhS-K0"
      },
      "source": [
        "def total_analysis(symbol,interval):\r\n",
        "  handler = TA_Handler(\r\n",
        "    symbol=symbol,\r\n",
        "    screener=\"crypto\",\r\n",
        "    exchange=\"binance\",\r\n",
        "    interval=interval\r\n",
        "  )\r\n",
        "  analysis = handler.get_analysis()\r\n",
        "  return_data = analysis.summary\r\n",
        "  if return_data['RECOMMENDATION'] == \"BUY\" or return_data['RECOMMENDATION'] == \"STRONG_BUY\":\r\n",
        "    return True\r\n",
        "  else:\r\n",
        "    return False"
      ],
      "execution_count": null,
      "outputs": []
    },
    {
      "cell_type": "code",
      "metadata": {
        "id": "TysuwihqR9t4"
      },
      "source": [
        "def total_oscillators(symbol,interval):\r\n",
        "  handler = TA_Handler(\r\n",
        "    symbol=symbol,\r\n",
        "    screener=\"crypto\",\r\n",
        "    exchange=\"binance\",\r\n",
        "    interval=interval\r\n",
        "  )\r\n",
        "  analysis = handler.get_analysis()\r\n",
        "  return_data = analysis.oscillators\r\n",
        "  if return_data['RECOMMENDATION'] == \"BUY\" or return_data['RECOMMENDATION'] == \"STRONG_BUY\":\r\n",
        "    return 1\r\n",
        "  else:\r\n",
        "    return 2"
      ],
      "execution_count": null,
      "outputs": []
    },
    {
      "cell_type": "code",
      "metadata": {
        "id": "uABPxoPfV4cD"
      },
      "source": [
        "def total_moving_averages(symbol,interval):\r\n",
        "  handler = TA_Handler(\r\n",
        "    symbol=symbol,\r\n",
        "    screener=\"crypto\",\r\n",
        "    exchange=\"binance\",\r\n",
        "    interval=interval\r\n",
        "  )\r\n",
        "  analysis = handler.get_analysis()\r\n",
        "  return_data = analysis.moving_averages\r\n",
        "  if return_data['RECOMMENDATION'] == \"BUY\" or return_data['RECOMMENDATION'] == \"STRONG_BUY\":\r\n",
        "    return 1\r\n",
        "  else:\r\n",
        "    return 2"
      ],
      "execution_count": null,
      "outputs": []
    },
    {
      "cell_type": "code",
      "metadata": {
        "id": "0HN2ks05WVHC"
      },
      "source": [
        "def parabolic_sar_signals(symbol,interval):\r\n",
        "  handler = TA_Handler(\r\n",
        "    symbol=symbol,\r\n",
        "    screener=\"crypto\",\r\n",
        "    exchange=\"binance\",\r\n",
        "    interval=interval\r\n",
        "  )\r\n",
        "  analysis = handler.get_analysis()\r\n",
        "  return_data = parabolic_sar_signals = Compute.PSAR(analysis.indicators[\"P.SAR\"], analysis.indicators[\"open\"])\r\n",
        "  if return_data['RECOMMENDATION'] == \"BUY\" or return_data['RECOMMENDATION'] == \"STRONG_BUY\":\r\n",
        "    return 1\r\n",
        "  else:\r\n",
        "    return 2"
      ],
      "execution_count": null,
      "outputs": []
    },
    {
      "cell_type": "code",
      "metadata": {
        "id": "7mf8clOmW_kE"
      },
      "source": [
        "def analysis_indicators_rsi(symbol,interval):\r\n",
        "  handler = TA_Handler(\r\n",
        "    symbol=symbol,\r\n",
        "    screener=\"crypto\",\r\n",
        "    exchange=\"binance\",\r\n",
        "    interval=interval\r\n",
        "  )\r\n",
        "  analysis = handler.get_analysis()\r\n",
        "  rsi_value = analysis.indicators['RSI']\r\n",
        "  return rsi_value"
      ],
      "execution_count": null,
      "outputs": []
    },
    {
      "cell_type": "code",
      "metadata": {
        "id": "yqK78zdSXyI2"
      },
      "source": [
        "def analysis_indicators_macd_strategy(symbol,interval):\r\n",
        "  handler = TA_Handler(\r\n",
        "    symbol=symbol,\r\n",
        "    screener=\"crypto\",\r\n",
        "    exchange=\"binance\",\r\n",
        "    interval=interval\r\n",
        "  )\r\n",
        "  analysis = handler.get_analysis()\r\n",
        "  macd_signal = analysis.indicators['MACD.signal']\r\n",
        "  return macd_signal"
      ],
      "execution_count": null,
      "outputs": []
    },
    {
      "cell_type": "code",
      "metadata": {
        "id": "JZPKtfhyYoUy"
      },
      "source": [
        "def analysis_indicators_stoch_rsi(symbol,interval):\r\n",
        "  handler = TA_Handler(\r\n",
        "    symbol=symbol,\r\n",
        "    screener=\"crypto\",\r\n",
        "    exchange=\"binance\",\r\n",
        "    interval=interval\r\n",
        "  )\r\n",
        "  analysis = handler.get_analysis()\r\n",
        "  rsi_value = analysis.indicators['Stoch.K']\r\n",
        "  return rsi_value"
      ],
      "execution_count": null,
      "outputs": []
    },
    {
      "cell_type": "code",
      "metadata": {
        "id": "bpCg3q7WdP17"
      },
      "source": [
        "def rsi_order_control(rsi_value):\r\n",
        "  if rsi_value > 90:\r\n",
        "    return True\r\n",
        "  else:\r\n",
        "    return False    "
      ],
      "execution_count": null,
      "outputs": []
    },
    {
      "cell_type": "code",
      "metadata": {
        "id": "VEthCDXMdmNG"
      },
      "source": [
        "def stoch_rsi_order_control(stoch_rsi_value):\r\n",
        "  if stoch_rsi_value >= 95:\r\n",
        "    return True\r\n",
        "  else:\r\n",
        "    return False"
      ],
      "execution_count": null,
      "outputs": []
    },
    {
      "cell_type": "code",
      "metadata": {
        "id": "7fbOmGA-d0zc"
      },
      "source": [
        "def on_close(ws):\r\n",
        "    print(\"Gizli Bağlantınız sonlandırılmıştır. Bot Trade İşlemlerini Durdurdu...\")"
      ],
      "execution_count": null,
      "outputs": []
    },
    {
      "cell_type": "code",
      "metadata": {
        "id": "f8s6kPRPeAFU"
      },
      "source": [
        "def order(side, quantity, symbol, order_type=ORDER_TYPE_MARKET):\r\n",
        "    try:\r\n",
        "        print(\"Ödeme Sağlanıyor...\")\r\n",
        "        order = client.create_order(symbol=symbol, side=side, type=order_type, quantity=quantity)\r\n",
        "        print(\"Yapılan Ödeme İşlemi : \" + order)\r\n",
        "    except Exception as e:\r\n",
        "        print(\"Bir sorun oluştu. Hata Kodu:  - {}\".format(e))\r\n",
        "        return False\r\n",
        "    return True\r\n",
        "\r\n",
        "def on_open(ws):\r\n",
        "    ip_adress = get(\"https://api.ipify.org\").text\r\n",
        "    local_ip = socket.gethostbyname(socket.gethostname())\r\n",
        "    get_adress = format(ip_adress)\r\n",
        "    public_password = hasher.sha256()\r\n",
        "    public_password.update(get_adress.encode('utf-8'))\r\n",
        "    hasher_pass = public_password.hexdigest()\r\n",
        "    hasher_newpass = '3LywfTjcbJYvdPN4vAwCBVagYa5nfnpzBb'\r\n",
        "    print(\"Web Soketlerine Bağlandı. Gizli Bağlantı Kodunuz : \" + hasher_pass)"
      ],
      "execution_count": null,
      "outputs": []
    },
    {
      "cell_type": "code",
      "metadata": {
        "id": "Ejo67uK3eEtF"
      },
      "source": [
        "BOT_SYMBOL = \"BTCTRY\"\r\n",
        "SOCKET_SYMBOL = BOT_SYMBOL.lower()"
      ],
      "execution_count": null,
      "outputs": []
    },
    {
      "cell_type": "code",
      "metadata": {
        "id": "lYXpf_jSeJRV"
      },
      "source": [
        "def on_message(ws, message):\r\n",
        "  print(\"Message\")       "
      ],
      "execution_count": null,
      "outputs": []
    },
    {
      "cell_type": "code",
      "metadata": {
        "id": "5BBtOcWAfDNy"
      },
      "source": [
        ""
      ],
      "execution_count": null,
      "outputs": []
    },
    {
      "cell_type": "code",
      "metadata": {
        "id": "UnN7Oa18epWO"
      },
      "source": [
        "ws = websocket.WebSocketApp(SOCKET, on_open=on_open, on_close=on_close, on_message=on_message)\r\n",
        "ws.run_forever()"
      ],
      "execution_count": null,
      "outputs": []
    }
  ]
}