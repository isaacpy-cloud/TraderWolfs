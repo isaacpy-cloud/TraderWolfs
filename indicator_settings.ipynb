{
  "nbformat": 4,
  "nbformat_minor": 0,
  "metadata": {
    "colab": {
      "name": "indicator_settings.ipynb",
      "provenance": [],
      "collapsed_sections": [],
      "authorship_tag": "ABX9TyN/x0Qh6NieaKRybXVyV5EG",
      "include_colab_link": true
    },
    "kernelspec": {
      "name": "python3",
      "display_name": "Python 3"
    }
  },
  "cells": [
    {
      "cell_type": "markdown",
      "metadata": {
        "id": "view-in-github",
        "colab_type": "text"
      },
      "source": [
        "<a href=\"https://colab.research.google.com/github/isaacpy-cloud/TraderWolfs/blob/main/indicator_settings.ipynb\" target=\"_parent\"><img src=\"https://colab.research.google.com/assets/colab-badge.svg\" alt=\"Open In Colab\"/></a>"
      ]
    },
    {
      "cell_type": "markdown",
      "metadata": {
        "id": "WnTRkV79rQyr"
      },
      "source": [
        "# **Google Colab Destekli, İndikatör ve Hesaplama Botu**"
      ]
    },
    {
      "cell_type": "code",
      "metadata": {
        "colab": {
          "base_uri": "https://localhost:8080/",
          "height": 1000
        },
        "id": "RWkbvwJPrBi_",
        "outputId": "e477ce0b-cdd8-418d-f16f-8dcc0157098a"
      },
      "source": [
        "!pip install python-binance\r\n",
        "!pip install catboost\r\n",
        "!pip install matplotlib --upgrade\r\n",
        "!pip install mpl_finance"
      ],
      "execution_count": 3,
      "outputs": [
        {
          "output_type": "stream",
          "text": [
            "Requirement already satisfied: python-binance in /usr/local/lib/python3.7/dist-packages (0.7.9)\n",
            "Requirement already satisfied: autobahn in /usr/local/lib/python3.7/dist-packages (from python-binance) (21.3.1)\n",
            "Requirement already satisfied: urllib3 in /usr/local/lib/python3.7/dist-packages (from python-binance) (1.24.3)\n",
            "Requirement already satisfied: ujson in /usr/local/lib/python3.7/dist-packages (from python-binance) (4.0.2)\n",
            "Requirement already satisfied: certifi in /usr/local/lib/python3.7/dist-packages (from python-binance) (2020.12.5)\n",
            "Requirement already satisfied: service-identity in /usr/local/lib/python3.7/dist-packages (from python-binance) (18.1.0)\n",
            "Requirement already satisfied: pyOpenSSL in /usr/local/lib/python3.7/dist-packages (from python-binance) (20.0.1)\n",
            "Requirement already satisfied: six in /usr/local/lib/python3.7/dist-packages (from python-binance) (1.15.0)\n",
            "Requirement already satisfied: dateparser in /usr/local/lib/python3.7/dist-packages (from python-binance) (1.0.0)\n",
            "Requirement already satisfied: requests in /usr/local/lib/python3.7/dist-packages (from python-binance) (2.23.0)\n",
            "Requirement already satisfied: cryptography in /usr/local/lib/python3.7/dist-packages (from python-binance) (3.4.6)\n",
            "Requirement already satisfied: Twisted in /usr/local/lib/python3.7/dist-packages (from python-binance) (21.2.0)\n",
            "Requirement already satisfied: txaio>=21.2.1 in /usr/local/lib/python3.7/dist-packages (from autobahn->python-binance) (21.2.1)\n",
            "Requirement already satisfied: hyperlink>=21.0.0 in /usr/local/lib/python3.7/dist-packages (from autobahn->python-binance) (21.0.0)\n",
            "Requirement already satisfied: pyasn1-modules in /usr/local/lib/python3.7/dist-packages (from service-identity->python-binance) (0.2.8)\n",
            "Requirement already satisfied: pyasn1 in /usr/local/lib/python3.7/dist-packages (from service-identity->python-binance) (0.4.8)\n",
            "Requirement already satisfied: attrs>=16.0.0 in /usr/local/lib/python3.7/dist-packages (from service-identity->python-binance) (20.3.0)\n",
            "Requirement already satisfied: python-dateutil in /usr/local/lib/python3.7/dist-packages (from dateparser->python-binance) (2.8.1)\n",
            "Requirement already satisfied: pytz in /usr/local/lib/python3.7/dist-packages (from dateparser->python-binance) (2018.9)\n",
            "Requirement already satisfied: regex!=2019.02.19 in /usr/local/lib/python3.7/dist-packages (from dateparser->python-binance) (2019.12.20)\n",
            "Requirement already satisfied: tzlocal in /usr/local/lib/python3.7/dist-packages (from dateparser->python-binance) (1.5.1)\n",
            "Requirement already satisfied: chardet<4,>=3.0.2 in /usr/local/lib/python3.7/dist-packages (from requests->python-binance) (3.0.4)\n",
            "Requirement already satisfied: idna<3,>=2.5 in /usr/local/lib/python3.7/dist-packages (from requests->python-binance) (2.10)\n",
            "Requirement already satisfied: cffi>=1.12 in /usr/local/lib/python3.7/dist-packages (from cryptography->python-binance) (1.14.5)\n",
            "Requirement already satisfied: zope.interface>=4.4.2 in /usr/local/lib/python3.7/dist-packages (from Twisted->python-binance) (5.2.0)\n",
            "Requirement already satisfied: incremental>=16.10.1 in /usr/local/lib/python3.7/dist-packages (from Twisted->python-binance) (21.3.0)\n",
            "Requirement already satisfied: Automat>=0.8.0 in /usr/local/lib/python3.7/dist-packages (from Twisted->python-binance) (20.2.0)\n",
            "Requirement already satisfied: constantly>=15.1 in /usr/local/lib/python3.7/dist-packages (from Twisted->python-binance) (15.1.0)\n",
            "Requirement already satisfied: pycparser in /usr/local/lib/python3.7/dist-packages (from cffi>=1.12->cryptography->python-binance) (2.20)\n",
            "Requirement already satisfied: setuptools in /usr/local/lib/python3.7/dist-packages (from zope.interface>=4.4.2->Twisted->python-binance) (54.0.0)\n",
            "Collecting catboost\n",
            "\u001b[?25l  Downloading https://files.pythonhosted.org/packages/96/3b/bb419654adcf7efff42ed8a3f84e50c8f236424b7ed1cc8ccd290852e003/catboost-0.24.4-cp37-none-manylinux1_x86_64.whl (65.7MB)\n",
            "\u001b[K     |████████████████████████████████| 65.7MB 64kB/s \n",
            "\u001b[?25hRequirement already satisfied: six in /usr/local/lib/python3.7/dist-packages (from catboost) (1.15.0)\n",
            "Requirement already satisfied: plotly in /usr/local/lib/python3.7/dist-packages (from catboost) (4.4.1)\n",
            "Requirement already satisfied: numpy>=1.16.0 in /usr/local/lib/python3.7/dist-packages (from catboost) (1.19.5)\n",
            "Requirement already satisfied: graphviz in /usr/local/lib/python3.7/dist-packages (from catboost) (0.10.1)\n",
            "Requirement already satisfied: scipy in /usr/local/lib/python3.7/dist-packages (from catboost) (1.4.1)\n",
            "Requirement already satisfied: matplotlib in /usr/local/lib/python3.7/dist-packages (from catboost) (3.2.2)\n",
            "Requirement already satisfied: pandas>=0.24.0 in /usr/local/lib/python3.7/dist-packages (from catboost) (1.1.5)\n",
            "Requirement already satisfied: retrying>=1.3.3 in /usr/local/lib/python3.7/dist-packages (from plotly->catboost) (1.3.3)\n",
            "Requirement already satisfied: kiwisolver>=1.0.1 in /usr/local/lib/python3.7/dist-packages (from matplotlib->catboost) (1.3.1)\n",
            "Requirement already satisfied: cycler>=0.10 in /usr/local/lib/python3.7/dist-packages (from matplotlib->catboost) (0.10.0)\n",
            "Requirement already satisfied: pyparsing!=2.0.4,!=2.1.2,!=2.1.6,>=2.0.1 in /usr/local/lib/python3.7/dist-packages (from matplotlib->catboost) (2.4.7)\n",
            "Requirement already satisfied: python-dateutil>=2.1 in /usr/local/lib/python3.7/dist-packages (from matplotlib->catboost) (2.8.1)\n",
            "Requirement already satisfied: pytz>=2017.2 in /usr/local/lib/python3.7/dist-packages (from pandas>=0.24.0->catboost) (2018.9)\n",
            "Installing collected packages: catboost\n",
            "Successfully installed catboost-0.24.4\n",
            "Collecting matplotlib\n",
            "\u001b[?25l  Downloading https://files.pythonhosted.org/packages/23/3d/db9a6b3c83c9511301152dbb64a029c3a4313c86eaef12c237b13ecf91d6/matplotlib-3.3.4-cp37-cp37m-manylinux1_x86_64.whl (11.5MB)\n",
            "\u001b[K     |████████████████████████████████| 11.6MB 4.2MB/s \n",
            "\u001b[?25hRequirement already satisfied, skipping upgrade: kiwisolver>=1.0.1 in /usr/local/lib/python3.7/dist-packages (from matplotlib) (1.3.1)\n",
            "Requirement already satisfied, skipping upgrade: numpy>=1.15 in /usr/local/lib/python3.7/dist-packages (from matplotlib) (1.19.5)\n",
            "Requirement already satisfied, skipping upgrade: pillow>=6.2.0 in /usr/local/lib/python3.7/dist-packages (from matplotlib) (7.0.0)\n",
            "Requirement already satisfied, skipping upgrade: python-dateutil>=2.1 in /usr/local/lib/python3.7/dist-packages (from matplotlib) (2.8.1)\n",
            "Requirement already satisfied, skipping upgrade: pyparsing!=2.0.4,!=2.1.2,!=2.1.6,>=2.0.3 in /usr/local/lib/python3.7/dist-packages (from matplotlib) (2.4.7)\n",
            "Requirement already satisfied, skipping upgrade: cycler>=0.10 in /usr/local/lib/python3.7/dist-packages (from matplotlib) (0.10.0)\n",
            "Requirement already satisfied, skipping upgrade: six>=1.5 in /usr/local/lib/python3.7/dist-packages (from python-dateutil>=2.1->matplotlib) (1.15.0)\n",
            "\u001b[31mERROR: albumentations 0.1.12 has requirement imgaug<0.2.7,>=0.2.5, but you'll have imgaug 0.2.9 which is incompatible.\u001b[0m\n",
            "Installing collected packages: matplotlib\n",
            "  Found existing installation: matplotlib 3.2.2\n",
            "    Uninstalling matplotlib-3.2.2:\n",
            "      Successfully uninstalled matplotlib-3.2.2\n",
            "Successfully installed matplotlib-3.3.4\n"
          ],
          "name": "stdout"
        },
        {
          "output_type": "display_data",
          "data": {
            "application/vnd.colab-display-data+json": {
              "pip_warning": {
                "packages": [
                  "matplotlib",
                  "mpl_toolkits"
                ]
              }
            }
          },
          "metadata": {
            "tags": []
          }
        },
        {
          "output_type": "stream",
          "text": [
            "Collecting mpl_finance\n",
            "  Downloading https://files.pythonhosted.org/packages/9d/de/8169ea4403d6cb8322e74cc48b6834d1dfbed81931d17f1f26b2140160d8/mpl_finance-0.10.1-py3-none-any.whl\n",
            "Requirement already satisfied: matplotlib in /usr/local/lib/python3.7/dist-packages (from mpl_finance) (3.3.4)\n",
            "Requirement already satisfied: cycler>=0.10 in /usr/local/lib/python3.7/dist-packages (from matplotlib->mpl_finance) (0.10.0)\n",
            "Requirement already satisfied: kiwisolver>=1.0.1 in /usr/local/lib/python3.7/dist-packages (from matplotlib->mpl_finance) (1.3.1)\n",
            "Requirement already satisfied: pyparsing!=2.0.4,!=2.1.2,!=2.1.6,>=2.0.3 in /usr/local/lib/python3.7/dist-packages (from matplotlib->mpl_finance) (2.4.7)\n",
            "Requirement already satisfied: python-dateutil>=2.1 in /usr/local/lib/python3.7/dist-packages (from matplotlib->mpl_finance) (2.8.1)\n",
            "Requirement already satisfied: pillow>=6.2.0 in /usr/local/lib/python3.7/dist-packages (from matplotlib->mpl_finance) (7.0.0)\n",
            "Requirement already satisfied: numpy>=1.15 in /usr/local/lib/python3.7/dist-packages (from matplotlib->mpl_finance) (1.19.5)\n",
            "Requirement already satisfied: six in /usr/local/lib/python3.7/dist-packages (from cycler>=0.10->matplotlib->mpl_finance) (1.15.0)\n",
            "Installing collected packages: mpl-finance\n",
            "Successfully installed mpl-finance-0.10.1\n"
          ],
          "name": "stdout"
        }
      ]
    },
    {
      "cell_type": "code",
      "metadata": {
        "id": "VblakPKFr7Gu"
      },
      "source": [
        "import pandas as pd\r\n",
        "import numpy as np\r\n",
        "import time\r\n",
        "import dateparser\r\n",
        "import pytz\r\n",
        "import json\r\n",
        "import datetime as dt\r\n",
        "from datetime import datetime, timedelta\r\n",
        "from threading import Thread\r\n",
        "import matplotlib.pyplot as plt\r\n",
        "from mpl_finance import candlestick_ochl\r\n",
        "import matplotlib.dates as mdates\r\n",
        "from matplotlib.pyplot import figure\r\n",
        "from sklearn import preprocessing, model_selection, neighbors, svm\r\n",
        "from sklearn.preprocessing import StandardScaler, RobustScaler, MaxAbsScaler\r\n",
        "from sklearn.metrics import accuracy_score, mean_squared_error, mean_absolute_error\r\n",
        "from catboost import CatBoost, CatBoostClassifier, CatBoostRegressor, Pool, cv\r\n",
        "from tqdm import tqdm as tqdm\r\n",
        "from binance.client import Client"
      ],
      "execution_count": 16,
      "outputs": []
    },
    {
      "cell_type": "code",
      "metadata": {
        "id": "tT5efnufuUdi"
      },
      "source": [
        "def moving_avarage(df, n):\r\n",
        "  MA = pd.Series(df['Close'].rolling(n, min_periods=n).mean(), name='MA_' + str(n))\r\n",
        "  df = df.join(MA)\r\n",
        "  return df"
      ],
      "execution_count": 17,
      "outputs": []
    },
    {
      "cell_type": "code",
      "metadata": {
        "id": "3SydRieV17nn"
      },
      "source": [
        "def exponantial_moving_average(df,n):\r\n",
        "  EMA = pd.Series(df['Close'],ewm(span=n, min_periods=n).mean(), name='EMA_' + str(n))\r\n",
        "  df = df.join(EMA)\r\n",
        "  return df"
      ],
      "execution_count": 18,
      "outputs": []
    },
    {
      "cell_type": "markdown",
      "metadata": {
        "id": "E3c6Lqbb6viQ"
      },
      "source": [
        "pd.to_datetime = Evrensel saniyelikten normal zamana çevirme"
      ]
    },
    {
      "cell_type": "code",
      "metadata": {
        "id": "y7O8J8EY29v3"
      },
      "source": [
        "def binance_data(klines):\r\n",
        "  df = pd.DataFrame(klines.reshape(-1,12), dtype=float, columns=['Open Time','Open','High','Low','Close','Volume','Close Time','Quote Asset Volume','Number of Trades','Taker Buy Base Asset Volume','Taker buy quote asset volume','Can be ignored'])\r\n",
        "  df['Open Time'] = pd.to_datetime(df['Open Time'], unit='ms')\r\n",
        "  df['Close Time'] = pd.to_datetime(df['Close Time'], unit='ms')\r\n",
        "  return df"
      ],
      "execution_count": 35,
      "outputs": []
    },
    {
      "cell_type": "code",
      "metadata": {
        "id": "KVjQEHYz64-h"
      },
      "source": [
        "def date_to_millisecond(date_Str):\r\n",
        "  epoch = datetime.utcfromtimestamp(0).replace(tzinfo=pytz.utc)\r\n",
        "  d = dateparser.parse(date_Str)\r\n",
        "  if d.tzinfo is None or d.tzinfo.utcoffset(d) is None:\r\n",
        "    d = d.replace(tzinfo=pytz.utc)\r\n",
        "  return int((d- epoch).total_seconds()*1000.0)"
      ],
      "execution_count": 36,
      "outputs": []
    },
    {
      "cell_type": "code",
      "metadata": {
        "id": "l-3hFD5G78bc"
      },
      "source": [
        "def interval_to_milliseconds(interval):\r\n",
        "  ms = None\r\n",
        "  seconds_per_unit = {\r\n",
        "      \"m\": 60,\r\n",
        "      \"h\": 60 * 60,\r\n",
        "      \"d\": 24 * 60 * 60,\r\n",
        "      \"w\": 7 * 24 * 60 * 60\r\n",
        "  }\r\n",
        "  unit = interval[-1]\r\n",
        "  if unit in seconds_per_unit:\r\n",
        "    try:\r\n",
        "      ms = int(interval[:-1]) * seconds_per_unit[unit] * 1000\r\n",
        "    except:\r\n",
        "      pass\r\n",
        "  return ms"
      ],
      "execution_count": 37,
      "outputs": []
    },
    {
      "cell_type": "code",
      "metadata": {
        "id": "TXUmdQK48xN9"
      },
      "source": [
        "def binance_historical_klines(symbol, interval, start_str, end_str=None):\r\n",
        "  output_data = []\r\n",
        "  limit = 500\r\n",
        "  timeFrame = interval_to_milliseconds(interval)\r\n",
        "  start_ts = date_to_millisecond(start_str)\r\n",
        "  end_ts = None\r\n",
        "  if end_str:\r\n",
        "    end_ts = date_to_millisecond(end_str)\r\n",
        "  idx = 0\r\n",
        "  symbol_existed = True\r\n",
        "  while True:\r\n",
        "    temp_data = client.get_klines(symbol=symbol,interval=interval,limit=limit,startTime=start_ts,endTime = end_ts)\r\n",
        "    if not symbol_existed and len(temp_data):\r\n",
        "      symbol_existed = True\r\n",
        "    \r\n",
        "    if symbol_existed:\r\n",
        "      output_data += temp_data\r\n",
        "      start_ts = temp_data[len(temp_data) - 1][0] + timeFrame\r\n",
        "    \r\n",
        "    idx += 1\r\n",
        "    if len(temp_data) < limit:\r\n",
        "      break\r\n",
        "    if idx % 3 == 0:\r\n",
        "      time.sleep(1)\r\n",
        "  return output_data"
      ],
      "execution_count": 38,
      "outputs": []
    },
    {
      "cell_type": "markdown",
      "metadata": {
        "id": "8THrSwQgACgP"
      },
      "source": [
        "## **Binans Api Bağlantıları**"
      ]
    },
    {
      "cell_type": "code",
      "metadata": {
        "id": "Wqpki3kzAFUQ"
      },
      "source": [
        "api_key = 'hXjL8ujRBXbXLNaek31Z4ysCiCmfhnbRiVdApFFt8YlwBST6hUx1gpoVC4r5xjpS'\r\n",
        "api_secret = 'zFyTQoSDZVdRvmmFnHgjP4oaPWcXC4hhBbICaavRKY4pBDKJawWOPX7hCF9uSAMw'\r\n",
        "\r\n",
        "client = Client(api_key, api_secret)"
      ],
      "execution_count": 39,
      "outputs": []
    },
    {
      "cell_type": "code",
      "metadata": {
        "id": "14zZQFNQB8yi"
      },
      "source": [
        "symbol = \"BTCTRY\"\r\n",
        "start = \"1 Jan, 2017\"\r\n",
        "interval = Client.KLINE_INTERVAL_1DAY\r\n",
        "klines = binance_historical_klines(symbol,interval,start)\r\n",
        "klines = np.array(klines)\r\n",
        "df = binance_data(klines)"
      ],
      "execution_count": 40,
      "outputs": []
    },
    {
      "cell_type": "code",
      "metadata": {
        "colab": {
          "base_uri": "https://localhost:8080/",
          "height": 419
        },
        "id": "MHCzgJS0Co6F",
        "outputId": "3ed0291f-663d-47d3-c432-650fc9fd4c35"
      },
      "source": [
        "df"
      ],
      "execution_count": 41,
      "outputs": [
        {
          "output_type": "execute_result",
          "data": {
            "text/html": [
              "<div>\n",
              "<style scoped>\n",
              "    .dataframe tbody tr th:only-of-type {\n",
              "        vertical-align: middle;\n",
              "    }\n",
              "\n",
              "    .dataframe tbody tr th {\n",
              "        vertical-align: top;\n",
              "    }\n",
              "\n",
              "    .dataframe thead th {\n",
              "        text-align: right;\n",
              "    }\n",
              "</style>\n",
              "<table border=\"1\" class=\"dataframe\">\n",
              "  <thead>\n",
              "    <tr style=\"text-align: right;\">\n",
              "      <th></th>\n",
              "      <th>Open Time</th>\n",
              "      <th>Open</th>\n",
              "      <th>High</th>\n",
              "      <th>Low</th>\n",
              "      <th>Close</th>\n",
              "      <th>Volume</th>\n",
              "      <th>Close Time</th>\n",
              "      <th>Quote Asset Volume</th>\n",
              "      <th>Number of Trades</th>\n",
              "      <th>Taker Buy Base Asset Volume</th>\n",
              "      <th>Taker buy quote asset volume</th>\n",
              "      <th>Can be ignored</th>\n",
              "    </tr>\n",
              "  </thead>\n",
              "  <tbody>\n",
              "    <tr>\n",
              "      <th>0</th>\n",
              "      <td>2019-12-20</td>\n",
              "      <td>42330.0</td>\n",
              "      <td>42800.0</td>\n",
              "      <td>42066.0</td>\n",
              "      <td>42210.0</td>\n",
              "      <td>1.092721</td>\n",
              "      <td>2019-12-20 23:59:59.999</td>\n",
              "      <td>4.629721e+04</td>\n",
              "      <td>70.0</td>\n",
              "      <td>0.346199</td>\n",
              "      <td>1.469715e+04</td>\n",
              "      <td>0.0</td>\n",
              "    </tr>\n",
              "    <tr>\n",
              "      <th>1</th>\n",
              "      <td>2019-12-21</td>\n",
              "      <td>42490.0</td>\n",
              "      <td>42547.0</td>\n",
              "      <td>42203.0</td>\n",
              "      <td>42539.0</td>\n",
              "      <td>0.975067</td>\n",
              "      <td>2019-12-21 23:59:59.999</td>\n",
              "      <td>4.131325e+04</td>\n",
              "      <td>28.0</td>\n",
              "      <td>0.236337</td>\n",
              "      <td>1.003039e+04</td>\n",
              "      <td>0.0</td>\n",
              "    </tr>\n",
              "    <tr>\n",
              "      <th>2</th>\n",
              "      <td>2019-12-22</td>\n",
              "      <td>42415.0</td>\n",
              "      <td>44650.0</td>\n",
              "      <td>42400.0</td>\n",
              "      <td>44416.0</td>\n",
              "      <td>1.264342</td>\n",
              "      <td>2019-12-22 23:59:59.999</td>\n",
              "      <td>5.574385e+04</td>\n",
              "      <td>56.0</td>\n",
              "      <td>0.421050</td>\n",
              "      <td>1.842735e+04</td>\n",
              "      <td>0.0</td>\n",
              "    </tr>\n",
              "    <tr>\n",
              "      <th>3</th>\n",
              "      <td>2019-12-23</td>\n",
              "      <td>44579.0</td>\n",
              "      <td>45349.0</td>\n",
              "      <td>42581.0</td>\n",
              "      <td>43500.0</td>\n",
              "      <td>2.524750</td>\n",
              "      <td>2019-12-23 23:59:59.999</td>\n",
              "      <td>1.117467e+05</td>\n",
              "      <td>150.0</td>\n",
              "      <td>0.652482</td>\n",
              "      <td>2.926497e+04</td>\n",
              "      <td>0.0</td>\n",
              "    </tr>\n",
              "    <tr>\n",
              "      <th>4</th>\n",
              "      <td>2019-12-24</td>\n",
              "      <td>43596.0</td>\n",
              "      <td>44000.0</td>\n",
              "      <td>42103.0</td>\n",
              "      <td>43126.0</td>\n",
              "      <td>2.191588</td>\n",
              "      <td>2019-12-24 23:59:59.999</td>\n",
              "      <td>9.568290e+04</td>\n",
              "      <td>50.0</td>\n",
              "      <td>0.797389</td>\n",
              "      <td>3.456564e+04</td>\n",
              "      <td>0.0</td>\n",
              "    </tr>\n",
              "    <tr>\n",
              "      <th>...</th>\n",
              "      <td>...</td>\n",
              "      <td>...</td>\n",
              "      <td>...</td>\n",
              "      <td>...</td>\n",
              "      <td>...</td>\n",
              "      <td>...</td>\n",
              "      <td>...</td>\n",
              "      <td>...</td>\n",
              "      <td>...</td>\n",
              "      <td>...</td>\n",
              "      <td>...</td>\n",
              "      <td>...</td>\n",
              "    </tr>\n",
              "    <tr>\n",
              "      <th>435</th>\n",
              "      <td>2021-02-27</td>\n",
              "      <td>346403.0</td>\n",
              "      <td>359429.0</td>\n",
              "      <td>338500.0</td>\n",
              "      <td>346010.0</td>\n",
              "      <td>392.438623</td>\n",
              "      <td>2021-02-27 23:59:59.999</td>\n",
              "      <td>1.378716e+08</td>\n",
              "      <td>77342.0</td>\n",
              "      <td>189.060194</td>\n",
              "      <td>6.640985e+07</td>\n",
              "      <td>0.0</td>\n",
              "    </tr>\n",
              "    <tr>\n",
              "      <th>436</th>\n",
              "      <td>2021-02-28</td>\n",
              "      <td>346119.0</td>\n",
              "      <td>350100.0</td>\n",
              "      <td>328000.0</td>\n",
              "      <td>338979.0</td>\n",
              "      <td>384.642484</td>\n",
              "      <td>2021-02-28 23:59:59.999</td>\n",
              "      <td>1.305639e+08</td>\n",
              "      <td>46027.0</td>\n",
              "      <td>206.965053</td>\n",
              "      <td>7.029638e+07</td>\n",
              "      <td>0.0</td>\n",
              "    </tr>\n",
              "    <tr>\n",
              "      <th>437</th>\n",
              "      <td>2021-03-01</td>\n",
              "      <td>339000.0</td>\n",
              "      <td>362340.0</td>\n",
              "      <td>338373.0</td>\n",
              "      <td>360446.0</td>\n",
              "      <td>313.973966</td>\n",
              "      <td>2021-03-01 23:59:59.999</td>\n",
              "      <td>1.107305e+08</td>\n",
              "      <td>31968.0</td>\n",
              "      <td>148.789219</td>\n",
              "      <td>5.247698e+07</td>\n",
              "      <td>0.0</td>\n",
              "    </tr>\n",
              "    <tr>\n",
              "      <th>438</th>\n",
              "      <td>2021-03-02</td>\n",
              "      <td>360799.0</td>\n",
              "      <td>362497.0</td>\n",
              "      <td>349407.0</td>\n",
              "      <td>357704.0</td>\n",
              "      <td>298.782540</td>\n",
              "      <td>2021-03-02 23:59:59.999</td>\n",
              "      <td>1.064373e+08</td>\n",
              "      <td>28614.0</td>\n",
              "      <td>147.608663</td>\n",
              "      <td>5.259769e+07</td>\n",
              "      <td>0.0</td>\n",
              "    </tr>\n",
              "    <tr>\n",
              "      <th>439</th>\n",
              "      <td>2021-03-03</td>\n",
              "      <td>357702.0</td>\n",
              "      <td>383346.0</td>\n",
              "      <td>355887.0</td>\n",
              "      <td>376628.0</td>\n",
              "      <td>257.942731</td>\n",
              "      <td>2021-03-03 23:59:59.999</td>\n",
              "      <td>9.590663e+07</td>\n",
              "      <td>23475.0</td>\n",
              "      <td>131.685937</td>\n",
              "      <td>4.894010e+07</td>\n",
              "      <td>0.0</td>\n",
              "    </tr>\n",
              "  </tbody>\n",
              "</table>\n",
              "<p>440 rows × 12 columns</p>\n",
              "</div>"
            ],
            "text/plain": [
              "     Open Time      Open  ...  Taker buy quote asset volume  Can be ignored\n",
              "0   2019-12-20   42330.0  ...                  1.469715e+04             0.0\n",
              "1   2019-12-21   42490.0  ...                  1.003039e+04             0.0\n",
              "2   2019-12-22   42415.0  ...                  1.842735e+04             0.0\n",
              "3   2019-12-23   44579.0  ...                  2.926497e+04             0.0\n",
              "4   2019-12-24   43596.0  ...                  3.456564e+04             0.0\n",
              "..         ...       ...  ...                           ...             ...\n",
              "435 2021-02-27  346403.0  ...                  6.640985e+07             0.0\n",
              "436 2021-02-28  346119.0  ...                  7.029638e+07             0.0\n",
              "437 2021-03-01  339000.0  ...                  5.247698e+07             0.0\n",
              "438 2021-03-02  360799.0  ...                  5.259769e+07             0.0\n",
              "439 2021-03-03  357702.0  ...                  4.894010e+07             0.0\n",
              "\n",
              "[440 rows x 12 columns]"
            ]
          },
          "metadata": {
            "tags": []
          },
          "execution_count": 41
        }
      ]
    },
    {
      "cell_type": "code",
      "metadata": {
        "colab": {
          "base_uri": "https://localhost:8080/",
          "height": 419
        },
        "id": "ojy7O5rkDWTM",
        "outputId": "5dac2a62-976d-4080-fd14-66758069eff7"
      },
      "source": [
        "remove_cols = [c for c in df.columns if c not in ['Open','Close','High','Low','Volume']]\r\n",
        "df.drop(remove_cols, axis=1, inplace=True)\r\n",
        "df"
      ],
      "execution_count": 42,
      "outputs": [
        {
          "output_type": "execute_result",
          "data": {
            "text/html": [
              "<div>\n",
              "<style scoped>\n",
              "    .dataframe tbody tr th:only-of-type {\n",
              "        vertical-align: middle;\n",
              "    }\n",
              "\n",
              "    .dataframe tbody tr th {\n",
              "        vertical-align: top;\n",
              "    }\n",
              "\n",
              "    .dataframe thead th {\n",
              "        text-align: right;\n",
              "    }\n",
              "</style>\n",
              "<table border=\"1\" class=\"dataframe\">\n",
              "  <thead>\n",
              "    <tr style=\"text-align: right;\">\n",
              "      <th></th>\n",
              "      <th>Open</th>\n",
              "      <th>High</th>\n",
              "      <th>Low</th>\n",
              "      <th>Close</th>\n",
              "      <th>Volume</th>\n",
              "    </tr>\n",
              "  </thead>\n",
              "  <tbody>\n",
              "    <tr>\n",
              "      <th>0</th>\n",
              "      <td>42330.0</td>\n",
              "      <td>42800.0</td>\n",
              "      <td>42066.0</td>\n",
              "      <td>42210.0</td>\n",
              "      <td>1.092721</td>\n",
              "    </tr>\n",
              "    <tr>\n",
              "      <th>1</th>\n",
              "      <td>42490.0</td>\n",
              "      <td>42547.0</td>\n",
              "      <td>42203.0</td>\n",
              "      <td>42539.0</td>\n",
              "      <td>0.975067</td>\n",
              "    </tr>\n",
              "    <tr>\n",
              "      <th>2</th>\n",
              "      <td>42415.0</td>\n",
              "      <td>44650.0</td>\n",
              "      <td>42400.0</td>\n",
              "      <td>44416.0</td>\n",
              "      <td>1.264342</td>\n",
              "    </tr>\n",
              "    <tr>\n",
              "      <th>3</th>\n",
              "      <td>44579.0</td>\n",
              "      <td>45349.0</td>\n",
              "      <td>42581.0</td>\n",
              "      <td>43500.0</td>\n",
              "      <td>2.524750</td>\n",
              "    </tr>\n",
              "    <tr>\n",
              "      <th>4</th>\n",
              "      <td>43596.0</td>\n",
              "      <td>44000.0</td>\n",
              "      <td>42103.0</td>\n",
              "      <td>43126.0</td>\n",
              "      <td>2.191588</td>\n",
              "    </tr>\n",
              "    <tr>\n",
              "      <th>...</th>\n",
              "      <td>...</td>\n",
              "      <td>...</td>\n",
              "      <td>...</td>\n",
              "      <td>...</td>\n",
              "      <td>...</td>\n",
              "    </tr>\n",
              "    <tr>\n",
              "      <th>435</th>\n",
              "      <td>346403.0</td>\n",
              "      <td>359429.0</td>\n",
              "      <td>338500.0</td>\n",
              "      <td>346010.0</td>\n",
              "      <td>392.438623</td>\n",
              "    </tr>\n",
              "    <tr>\n",
              "      <th>436</th>\n",
              "      <td>346119.0</td>\n",
              "      <td>350100.0</td>\n",
              "      <td>328000.0</td>\n",
              "      <td>338979.0</td>\n",
              "      <td>384.642484</td>\n",
              "    </tr>\n",
              "    <tr>\n",
              "      <th>437</th>\n",
              "      <td>339000.0</td>\n",
              "      <td>362340.0</td>\n",
              "      <td>338373.0</td>\n",
              "      <td>360446.0</td>\n",
              "      <td>313.973966</td>\n",
              "    </tr>\n",
              "    <tr>\n",
              "      <th>438</th>\n",
              "      <td>360799.0</td>\n",
              "      <td>362497.0</td>\n",
              "      <td>349407.0</td>\n",
              "      <td>357704.0</td>\n",
              "      <td>298.782540</td>\n",
              "    </tr>\n",
              "    <tr>\n",
              "      <th>439</th>\n",
              "      <td>357702.0</td>\n",
              "      <td>383346.0</td>\n",
              "      <td>355887.0</td>\n",
              "      <td>376628.0</td>\n",
              "      <td>257.942731</td>\n",
              "    </tr>\n",
              "  </tbody>\n",
              "</table>\n",
              "<p>440 rows × 5 columns</p>\n",
              "</div>"
            ],
            "text/plain": [
              "         Open      High       Low     Close      Volume\n",
              "0     42330.0   42800.0   42066.0   42210.0    1.092721\n",
              "1     42490.0   42547.0   42203.0   42539.0    0.975067\n",
              "2     42415.0   44650.0   42400.0   44416.0    1.264342\n",
              "3     44579.0   45349.0   42581.0   43500.0    2.524750\n",
              "4     43596.0   44000.0   42103.0   43126.0    2.191588\n",
              "..        ...       ...       ...       ...         ...\n",
              "435  346403.0  359429.0  338500.0  346010.0  392.438623\n",
              "436  346119.0  350100.0  328000.0  338979.0  384.642484\n",
              "437  339000.0  362340.0  338373.0  360446.0  313.973966\n",
              "438  360799.0  362497.0  349407.0  357704.0  298.782540\n",
              "439  357702.0  383346.0  355887.0  376628.0  257.942731\n",
              "\n",
              "[440 rows x 5 columns]"
            ]
          },
          "metadata": {
            "tags": []
          },
          "execution_count": 42
        }
      ]
    },
    {
      "cell_type": "code",
      "metadata": {
        "id": "cpFHHIl-PQ5j"
      },
      "source": [
        ""
      ],
      "execution_count": null,
      "outputs": []
    }
  ]
}