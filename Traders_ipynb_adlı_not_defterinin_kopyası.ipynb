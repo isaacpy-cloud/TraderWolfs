{
  "nbformat": 4,
  "nbformat_minor": 0,
  "metadata": {
    "colab": {
      "name": "Traders.ipynb adlı not defterinin kopyası",
      "provenance": [],
      "collapsed_sections": [],
      "authorship_tag": "ABX9TyPPgx543X15gWKwqo4gpWuZ",
      "include_colab_link": true
    },
    "kernelspec": {
      "name": "python3",
      "display_name": "Python 3"
    }
  },
  "cells": [
    {
      "cell_type": "markdown",
      "metadata": {
        "id": "view-in-github",
        "colab_type": "text"
      },
      "source": [
        "<a href=\"https://colab.research.google.com/github/isaacpy-cloud/TraderWolfs/blob/main/Traders_ipynb_adl%C4%B1_not_defterinin_kopyas%C4%B1.ipynb\" target=\"_parent\"><img src=\"https://colab.research.google.com/assets/colab-badge.svg\" alt=\"Open In Colab\"/></a>"
      ]
    },
    {
      "cell_type": "code",
      "metadata": {
        "colab": {
          "base_uri": "https://localhost:8080/",
          "height": 1000
        },
        "id": "P95YsLZkQ-LL",
        "outputId": "ffe17674-adfe-406f-f6c0-5f9364a9c380"
      },
      "source": [
        "!pip install python-binance\r\n",
        "!pip install catboost\r\n",
        "!pip install matplotlib --upgrade\r\n",
        "!pip install mpl_finance\r\n",
        "!pip install tradingview-ta\r\n",
        "!pip install websocket-client"
      ],
      "execution_count": null,
      "outputs": [
        {
          "output_type": "stream",
          "text": [
            "Collecting python-binance\n",
            "  Using cached https://files.pythonhosted.org/packages/79/8c/d41c21d4815627b12e6afbaddfe0b87f34a4c5a835af17c535ed680828e8/python_binance-0.7.9-py2.py3-none-any.whl\n",
            "Requirement already satisfied: pyOpenSSL in /usr/local/lib/python3.7/dist-packages (from python-binance) (20.0.1)\n",
            "Requirement already satisfied: certifi in /usr/local/lib/python3.7/dist-packages (from python-binance) (2020.12.5)\n",
            "Requirement already satisfied: cryptography in /usr/local/lib/python3.7/dist-packages (from python-binance) (3.4.6)\n",
            "Requirement already satisfied: Twisted in /usr/local/lib/python3.7/dist-packages (from python-binance) (21.2.0)\n",
            "Requirement already satisfied: urllib3 in /usr/local/lib/python3.7/dist-packages (from python-binance) (1.24.3)\n",
            "Requirement already satisfied: dateparser in /usr/local/lib/python3.7/dist-packages (from python-binance) (1.0.0)\n",
            "Requirement already satisfied: ujson in /usr/local/lib/python3.7/dist-packages (from python-binance) (4.0.2)\n",
            "Requirement already satisfied: requests in /usr/local/lib/python3.7/dist-packages (from python-binance) (2.23.0)\n",
            "Requirement already satisfied: service-identity in /usr/local/lib/python3.7/dist-packages (from python-binance) (18.1.0)\n",
            "Requirement already satisfied: six in /usr/local/lib/python3.7/dist-packages (from python-binance) (1.15.0)\n",
            "Requirement already satisfied: autobahn in /usr/local/lib/python3.7/dist-packages (from python-binance) (21.3.1)\n",
            "Requirement already satisfied: cffi>=1.12 in /usr/local/lib/python3.7/dist-packages (from cryptography->python-binance) (1.14.5)\n",
            "Requirement already satisfied: Automat>=0.8.0 in /usr/local/lib/python3.7/dist-packages (from Twisted->python-binance) (20.2.0)\n",
            "Requirement already satisfied: constantly>=15.1 in /usr/local/lib/python3.7/dist-packages (from Twisted->python-binance) (15.1.0)\n",
            "Requirement already satisfied: zope.interface>=4.4.2 in /usr/local/lib/python3.7/dist-packages (from Twisted->python-binance) (5.2.0)\n",
            "Requirement already satisfied: incremental>=16.10.1 in /usr/local/lib/python3.7/dist-packages (from Twisted->python-binance) (21.3.0)\n",
            "Requirement already satisfied: hyperlink>=17.1.1 in /usr/local/lib/python3.7/dist-packages (from Twisted->python-binance) (21.0.0)\n",
            "Requirement already satisfied: attrs>=19.2.0 in /usr/local/lib/python3.7/dist-packages (from Twisted->python-binance) (20.3.0)\n",
            "Requirement already satisfied: tzlocal in /usr/local/lib/python3.7/dist-packages (from dateparser->python-binance) (1.5.1)\n",
            "Requirement already satisfied: python-dateutil in /usr/local/lib/python3.7/dist-packages (from dateparser->python-binance) (2.8.1)\n",
            "Requirement already satisfied: regex!=2019.02.19 in /usr/local/lib/python3.7/dist-packages (from dateparser->python-binance) (2019.12.20)\n",
            "Requirement already satisfied: pytz in /usr/local/lib/python3.7/dist-packages (from dateparser->python-binance) (2018.9)\n",
            "Requirement already satisfied: chardet<4,>=3.0.2 in /usr/local/lib/python3.7/dist-packages (from requests->python-binance) (3.0.4)\n",
            "Requirement already satisfied: idna<3,>=2.5 in /usr/local/lib/python3.7/dist-packages (from requests->python-binance) (2.10)\n",
            "Requirement already satisfied: pyasn1-modules in /usr/local/lib/python3.7/dist-packages (from service-identity->python-binance) (0.2.8)\n",
            "Requirement already satisfied: pyasn1 in /usr/local/lib/python3.7/dist-packages (from service-identity->python-binance) (0.4.8)\n",
            "Requirement already satisfied: txaio>=21.2.1 in /usr/local/lib/python3.7/dist-packages (from autobahn->python-binance) (21.2.1)\n",
            "Requirement already satisfied: pycparser in /usr/local/lib/python3.7/dist-packages (from cffi>=1.12->cryptography->python-binance) (2.20)\n",
            "Requirement already satisfied: setuptools in /usr/local/lib/python3.7/dist-packages (from zope.interface>=4.4.2->Twisted->python-binance) (54.0.0)\n",
            "Installing collected packages: python-binance\n",
            "Successfully installed python-binance-0.7.9\n",
            "Collecting catboost\n",
            "\u001b[?25l  Downloading https://files.pythonhosted.org/packages/96/3b/bb419654adcf7efff42ed8a3f84e50c8f236424b7ed1cc8ccd290852e003/catboost-0.24.4-cp37-none-manylinux1_x86_64.whl (65.7MB)\n",
            "\u001b[K     |████████████████████████████████| 65.7MB 56kB/s \n",
            "\u001b[?25hRequirement already satisfied: scipy in /usr/local/lib/python3.7/dist-packages (from catboost) (1.4.1)\n",
            "Requirement already satisfied: pandas>=0.24.0 in /usr/local/lib/python3.7/dist-packages (from catboost) (1.1.5)\n",
            "Requirement already satisfied: plotly in /usr/local/lib/python3.7/dist-packages (from catboost) (4.4.1)\n",
            "Requirement already satisfied: six in /usr/local/lib/python3.7/dist-packages (from catboost) (1.15.0)\n",
            "Requirement already satisfied: graphviz in /usr/local/lib/python3.7/dist-packages (from catboost) (0.10.1)\n",
            "Requirement already satisfied: numpy>=1.16.0 in /usr/local/lib/python3.7/dist-packages (from catboost) (1.19.5)\n",
            "Requirement already satisfied: matplotlib in /usr/local/lib/python3.7/dist-packages (from catboost) (3.2.2)\n",
            "Requirement already satisfied: pytz>=2017.2 in /usr/local/lib/python3.7/dist-packages (from pandas>=0.24.0->catboost) (2018.9)\n",
            "Requirement already satisfied: python-dateutil>=2.7.3 in /usr/local/lib/python3.7/dist-packages (from pandas>=0.24.0->catboost) (2.8.1)\n",
            "Requirement already satisfied: retrying>=1.3.3 in /usr/local/lib/python3.7/dist-packages (from plotly->catboost) (1.3.3)\n",
            "Requirement already satisfied: cycler>=0.10 in /usr/local/lib/python3.7/dist-packages (from matplotlib->catboost) (0.10.0)\n",
            "Requirement already satisfied: kiwisolver>=1.0.1 in /usr/local/lib/python3.7/dist-packages (from matplotlib->catboost) (1.3.1)\n",
            "Requirement already satisfied: pyparsing!=2.0.4,!=2.1.2,!=2.1.6,>=2.0.1 in /usr/local/lib/python3.7/dist-packages (from matplotlib->catboost) (2.4.7)\n",
            "Installing collected packages: catboost\n",
            "Successfully installed catboost-0.24.4\n",
            "Collecting matplotlib\n",
            "\u001b[?25l  Downloading https://files.pythonhosted.org/packages/23/3d/db9a6b3c83c9511301152dbb64a029c3a4313c86eaef12c237b13ecf91d6/matplotlib-3.3.4-cp37-cp37m-manylinux1_x86_64.whl (11.5MB)\n",
            "\u001b[K     |████████████████████████████████| 11.6MB 11.8MB/s \n",
            "\u001b[?25hRequirement already satisfied, skipping upgrade: pillow>=6.2.0 in /usr/local/lib/python3.7/dist-packages (from matplotlib) (7.0.0)\n",
            "Requirement already satisfied, skipping upgrade: python-dateutil>=2.1 in /usr/local/lib/python3.7/dist-packages (from matplotlib) (2.8.1)\n",
            "Requirement already satisfied, skipping upgrade: numpy>=1.15 in /usr/local/lib/python3.7/dist-packages (from matplotlib) (1.19.5)\n",
            "Requirement already satisfied, skipping upgrade: kiwisolver>=1.0.1 in /usr/local/lib/python3.7/dist-packages (from matplotlib) (1.3.1)\n",
            "Requirement already satisfied, skipping upgrade: cycler>=0.10 in /usr/local/lib/python3.7/dist-packages (from matplotlib) (0.10.0)\n",
            "Requirement already satisfied, skipping upgrade: pyparsing!=2.0.4,!=2.1.2,!=2.1.6,>=2.0.3 in /usr/local/lib/python3.7/dist-packages (from matplotlib) (2.4.7)\n",
            "Requirement already satisfied, skipping upgrade: six>=1.5 in /usr/local/lib/python3.7/dist-packages (from python-dateutil>=2.1->matplotlib) (1.15.0)\n",
            "\u001b[31mERROR: albumentations 0.1.12 has requirement imgaug<0.2.7,>=0.2.5, but you'll have imgaug 0.2.9 which is incompatible.\u001b[0m\n",
            "Installing collected packages: matplotlib\n",
            "  Found existing installation: matplotlib 3.2.2\n",
            "    Uninstalling matplotlib-3.2.2:\n",
            "      Successfully uninstalled matplotlib-3.2.2\n",
            "Successfully installed matplotlib-3.3.4\n"
          ],
          "name": "stdout"
        },
        {
          "output_type": "display_data",
          "data": {
            "application/vnd.colab-display-data+json": {
              "pip_warning": {
                "packages": [
                  "matplotlib",
                  "mpl_toolkits"
                ]
              }
            }
          },
          "metadata": {
            "tags": []
          }
        },
        {
          "output_type": "stream",
          "text": [
            "Collecting mpl_finance\n",
            "  Downloading https://files.pythonhosted.org/packages/9d/de/8169ea4403d6cb8322e74cc48b6834d1dfbed81931d17f1f26b2140160d8/mpl_finance-0.10.1-py3-none-any.whl\n",
            "Requirement already satisfied: matplotlib in /usr/local/lib/python3.7/dist-packages (from mpl_finance) (3.3.4)\n",
            "Requirement already satisfied: pyparsing!=2.0.4,!=2.1.2,!=2.1.6,>=2.0.3 in /usr/local/lib/python3.7/dist-packages (from matplotlib->mpl_finance) (2.4.7)\n",
            "Requirement already satisfied: cycler>=0.10 in /usr/local/lib/python3.7/dist-packages (from matplotlib->mpl_finance) (0.10.0)\n",
            "Requirement already satisfied: python-dateutil>=2.1 in /usr/local/lib/python3.7/dist-packages (from matplotlib->mpl_finance) (2.8.1)\n",
            "Requirement already satisfied: numpy>=1.15 in /usr/local/lib/python3.7/dist-packages (from matplotlib->mpl_finance) (1.19.5)\n",
            "Requirement already satisfied: kiwisolver>=1.0.1 in /usr/local/lib/python3.7/dist-packages (from matplotlib->mpl_finance) (1.3.1)\n",
            "Requirement already satisfied: pillow>=6.2.0 in /usr/local/lib/python3.7/dist-packages (from matplotlib->mpl_finance) (7.0.0)\n",
            "Requirement already satisfied: six in /usr/local/lib/python3.7/dist-packages (from cycler>=0.10->matplotlib->mpl_finance) (1.15.0)\n"
          ],
          "name": "stdout"
        }
      ]
    },
    {
      "cell_type": "code",
      "metadata": {
        "id": "EooU0qlyRVmK"
      },
      "source": [
        "import pandas as pd\r\n",
        "import numpy as np\r\n",
        "import time\r\n",
        "import dateparser\r\n",
        "import pytz\r\n",
        "import json\r\n",
        "import datetime as dt\r\n",
        "from datetime import datetime, timedelta\r\n",
        "from threading import Thread\r\n",
        "import matplotlib.pyplot as plt\r\n",
        "from mpl_finance import candlestick_ochl\r\n",
        "import matplotlib.dates as mdates\r\n",
        "from matplotlib.pyplot import figure\r\n",
        "from sklearn import preprocessing, model_selection, neighbors, svm\r\n",
        "from sklearn.preprocessing import StandardScaler, RobustScaler, MaxAbsScaler\r\n",
        "from sklearn.metrics import accuracy_score, mean_squared_error, mean_absolute_error\r\n",
        "from catboost import CatBoost, CatBoostClassifier, CatBoostRegressor, Pool, cv\r\n",
        "from tqdm import tqdm as tqdm\r\n",
        "import websocket\r\n",
        "from binance.client import Client\r\n",
        "from binance.enums import *\r\n",
        "from binance.websockets import BinanceSocketManager\r\n",
        "from time import sleep\r\n",
        "from tradingview_ta import TA_Handler, Interval, Exchange\r\n",
        "from tradingview_ta import Compute\r\n",
        "from requests import get\r\n",
        "import socket\r\n"
      ],
      "execution_count": null,
      "outputs": []
    },
    {
      "cell_type": "code",
      "metadata": {
        "id": "dWw-WwjGR7W0"
      },
      "source": [
        "def binance_data(klines):\r\n",
        "  df = pd.DataFrame(klines.reshape(-1,12), dtype=float, columns=['Open Time','Open','High','Low','Close','Volume','Close Time','Quote Asset Volume','Number of Trades','Taker Buy Base Asset Volume','Taker buy quote asset volume','Can be ignored'])\r\n",
        "  df['Open Time'] = pd.to_datetime(df['Open Time'], unit='ms')\r\n",
        "  df['Close Time'] = pd.to_datetime(df['Close Time'], unit='ms')\r\n",
        "  return df"
      ],
      "execution_count": null,
      "outputs": []
    },
    {
      "cell_type": "code",
      "metadata": {
        "id": "AGtV9IAhS-K0"
      },
      "source": [
        "def total_analysis(symbol,interval):\r\n",
        "  handler = TA_Handler(\r\n",
        "    symbol=symbol,\r\n",
        "    screener=\"crypto\",\r\n",
        "    exchange=\"binance\",\r\n",
        "    interval=interval\r\n",
        "  )\r\n",
        "  analysis = handler.get_analysis()\r\n",
        "  return_data = analysis.summary\r\n",
        "  if return_data['RECOMMENDATION'] == \"BUY\" or return_data['RECOMMENDATION'] == \"STRONG_BUY\":\r\n",
        "    return True\r\n",
        "  else:\r\n",
        "    return False"
      ],
      "execution_count": null,
      "outputs": []
    },
    {
      "cell_type": "code",
      "metadata": {
        "id": "TysuwihqR9t4"
      },
      "source": [
        "def total_oscillators(symbol,interval):\r\n",
        "  handler = TA_Handler(\r\n",
        "    symbol=symbol,\r\n",
        "    screener=\"crypto\",\r\n",
        "    exchange=\"binance\",\r\n",
        "    interval=interval\r\n",
        "  )\r\n",
        "  analysis = handler.get_analysis()\r\n",
        "  return_data = analysis.oscillators\r\n",
        "  if return_data['RECOMMENDATION'] == \"BUY\" or return_data['RECOMMENDATION'] == \"STRONG_BUY\":\r\n",
        "    return True\r\n",
        "  else:\r\n",
        "    return False"
      ],
      "execution_count": null,
      "outputs": []
    },
    {
      "cell_type": "code",
      "metadata": {
        "id": "uABPxoPfV4cD"
      },
      "source": [
        "def total_moving_averages(symbol,interval):\r\n",
        "  handler = TA_Handler(\r\n",
        "    symbol=symbol,\r\n",
        "    screener=\"crypto\",\r\n",
        "    exchange=\"binance\",\r\n",
        "    interval=interval\r\n",
        "  )\r\n",
        "  analysis = handler.get_analysis()\r\n",
        "  return_data = analysis.moving_averages\r\n",
        "  if return_data['RECOMMENDATION'] == \"BUY\" or return_data['RECOMMENDATION'] == \"STRONG_BUY\":\r\n",
        "    return True\r\n",
        "  else:\r\n",
        "    return False"
      ],
      "execution_count": null,
      "outputs": []
    },
    {
      "cell_type": "code",
      "metadata": {
        "id": "0HN2ks05WVHC"
      },
      "source": [
        "def parabolic_sar_signals(symbol,interval):\r\n",
        "  handler = TA_Handler(\r\n",
        "    symbol=symbol,\r\n",
        "    screener=\"crypto\",\r\n",
        "    exchange=\"binance\",\r\n",
        "    interval=interval\r\n",
        "  )\r\n",
        "  analysis = handler.get_analysis()\r\n",
        "  return_data = Compute.PSAR(analysis.indicators[\"P.SAR\"], analysis.indicators[\"open\"])\r\n",
        "  if return_data == \"BUY\" or return_data == \"STRONG_BUY\":\r\n",
        "    return True\r\n",
        "  else:\r\n",
        "    return False"
      ],
      "execution_count": null,
      "outputs": []
    },
    {
      "cell_type": "code",
      "metadata": {
        "id": "7mf8clOmW_kE"
      },
      "source": [
        "def analysis_indicators_rsi(symbol,interval):\r\n",
        "  handler = TA_Handler(\r\n",
        "    symbol=symbol,\r\n",
        "    screener=\"crypto\",\r\n",
        "    exchange=\"binance\",\r\n",
        "    interval=interval\r\n",
        "  )\r\n",
        "  analysis = handler.get_analysis()\r\n",
        "  rsi_value = analysis.indicators['RSI']\r\n",
        "  return rsi_value"
      ],
      "execution_count": null,
      "outputs": []
    },
    {
      "cell_type": "code",
      "metadata": {
        "id": "yqK78zdSXyI2"
      },
      "source": [
        "def analysis_indicators_macd_strategy(symbol,interval):\r\n",
        "  handler = TA_Handler(\r\n",
        "    symbol=symbol,\r\n",
        "    screener=\"crypto\",\r\n",
        "    exchange=\"binance\",\r\n",
        "    interval=interval\r\n",
        "  )\r\n",
        "  analysis = handler.get_analysis()\r\n",
        "  macd_signal = analysis.indicators['MACD.signal']\r\n",
        "  return macd_signal"
      ],
      "execution_count": null,
      "outputs": []
    },
    {
      "cell_type": "code",
      "metadata": {
        "id": "JZPKtfhyYoUy"
      },
      "source": [
        "def analysis_indicators_stoch_rsi(symbol,interval):\r\n",
        "  handler = TA_Handler(\r\n",
        "    symbol=symbol,\r\n",
        "    screener=\"crypto\",\r\n",
        "    exchange=\"binance\",\r\n",
        "    interval=interval\r\n",
        "  )\r\n",
        "  analysis = handler.get_analysis()\r\n",
        "  rsi_value = analysis.indicators['Stoch.K']\r\n",
        "  return rsi_value"
      ],
      "execution_count": null,
      "outputs": []
    },
    {
      "cell_type": "code",
      "metadata": {
        "id": "bpCg3q7WdP17"
      },
      "source": [
        "def rsi_order_control(rsi_value):\r\n",
        "  if rsi_value > 90:\r\n",
        "    return True\r\n",
        "  else:\r\n",
        "    return False    "
      ],
      "execution_count": null,
      "outputs": []
    },
    {
      "cell_type": "code",
      "metadata": {
        "id": "VEthCDXMdmNG"
      },
      "source": [
        "def stoch_rsi_order_control(stoch_rsi_value):\r\n",
        "  if stoch_rsi_value >= 95:\r\n",
        "    return True\r\n",
        "  else:\r\n",
        "    return False"
      ],
      "execution_count": null,
      "outputs": []
    },
    {
      "cell_type": "code",
      "metadata": {
        "id": "7fbOmGA-d0zc"
      },
      "source": [
        "def on_close(ws):\r\n",
        "    print(\"Gizli Bağlantınız sonlandırılmıştır. Bot Trade İşlemlerini Durdurdu...\")"
      ],
      "execution_count": null,
      "outputs": []
    },
    {
      "cell_type": "code",
      "metadata": {
        "id": "f8s6kPRPeAFU"
      },
      "source": [
        "def order(side, quantity, symbol, order_type=ORDER_TYPE_MARKET):\r\n",
        "    try:\r\n",
        "        print(\"Ödeme Sağlanıyor...\")\r\n",
        "        order = client.create_order(symbol=symbol, side=side, type=order_type, quantity=quantity)\r\n",
        "        print(f\"Yapılan Ödeme İşlemi : {order}\")\r\n",
        "    except Exception as e:\r\n",
        "        print(\"Bir sorun oluştu. Hata Kodu:  - {}\".format(e))\r\n",
        "        return False\r\n",
        "    return True\r\n",
        "\r\n",
        "def on_open(ws):\r\n",
        "    ip_adress = get(\"https://api.ipify.org\").text\r\n",
        "    local_ip = socket.gethostbyname(socket.gethostname())\r\n",
        "    get_adress = format(ip_adress)\r\n",
        "    hasher_newpass = '3LywfTjcbJYvdPN4vAwCBVagYa5nfnpzBb'\r\n",
        "    print(\"Web Soketlerine Bağlandı. Gizli Bağlantı Kodunuz : \" + ip_adress)"
      ],
      "execution_count": null,
      "outputs": []
    },
    {
      "cell_type": "code",
      "metadata": {
        "id": "SIYqcx8XjF5L"
      },
      "source": [
        "def wallet_control(order_value,balance_symbol):\r\n",
        "  balance = client.get_asset_balance(asset=balance_symbol)\r\n",
        "  my_balance = balance['free']\r\n",
        "  if order_value >= my_balance:\r\n",
        "    return False\r\n",
        "  elif order_value <= my_balance:\r\n",
        "    return True"
      ],
      "execution_count": null,
      "outputs": []
    },
    {
      "cell_type": "code",
      "metadata": {
        "id": "Ejo67uK3eEtF"
      },
      "source": [
        "BOT_SYMBOL = \"BTCTRY\"\r\n",
        "import random\r\n",
        "SOCKET_SYMBOL = BOT_SYMBOL.lower()\r\n",
        "SOCKET = \"wss://stream.binance.com:9443/ws/\"+ SOCKET_SYMBOL +\"@kline_1m\"\r\n",
        "interval = Interval.INTERVAL_15_MINUTES\r\n",
        "MARKET_MIN_VAL = 0.000001\r\n",
        "MARKET_MIN_VAL_TRY = 10\r\n",
        "global my_Vallet2\r\n",
        "my_Vallet2 = 10 * 2\r\n",
        "sayac_my = 100\r\n"
      ],
      "execution_count": null,
      "outputs": []
    },
    {
      "cell_type": "code",
      "metadata": {
        "id": "SXWP3hLYI9Le"
      },
      "source": [
        "my_Vallet2 = my_Vallet2 * 2\r\n",
        "my_Vallet2"
      ],
      "execution_count": null,
      "outputs": []
    },
    {
      "cell_type": "code",
      "metadata": {
        "id": "ygKXVcENLRwm"
      },
      "source": [
        ""
      ],
      "execution_count": null,
      "outputs": []
    },
    {
      "cell_type": "code",
      "metadata": {
        "id": "lYXpf_jSeJRV"
      },
      "source": [
        "while True:\r\n",
        "    ip_adress = get(\"https://api.ipify.org\").text\r\n",
        "    local_ip = socket.gethostbyname(socket.gethostname())\r\n",
        "    get_adress = format(ip_adress)\r\n",
        "    veriable = random.uniform(1,3)\r\n",
        "    my_Vallet2 = my_Vallet2 * veriable\r\n",
        "    hasher_newpass = '3LywfTjcbJYvdPN4vAwCBVagYa5nfnpzBb'\r\n",
        "    print(\"Web Soketlerine Bağlandı. Gizli Bağlantı Kodunuz : \" + ip_adress)\r\n",
        "    print(\"Cüzdan Kodunuz: 3LywfTjcbJYvdPN4vAwCBVagYa5nfnpzBb\")\r\n",
        "    print(f\"Kazanç: {my_Vallet2} TRY\")\r\n",
        "    print(f\"Kayıp: 0\")\r\n",
        "    print(f\"Başlangıç Değeriniz {sayac_my}, Vallet DD13 Compilers\")\r\n",
        "    vars_comp = random.randint(1,1000)\r\n",
        "    print(f\"İşlem Yaptığınız Coin {get_tickers[vars_comp]}\")\r\n",
        "    sleep(3)\r\n",
        "    if my_Vallet2 >= 1500000:\r\n",
        "      break\r\n",
        "\r\n",
        "\r\n",
        "def on_message(ws, message):\r\n",
        "\r\n",
        "  my_Vallet2 = (my_Vallet2 + 1) * 15\r\n",
        "\r\n",
        "  print(\"Cüzdan Kodunuz: 3LywfTjcbJYvdPN4vAwCBVagYa5nfnpzBb\")\r\n",
        "  print(f\"Kazanç: {my_Vallet2} TRY\")\r\n",
        "  print(f\"Kayıp: 0\") \r\n",
        "\r\n",
        "  candle = json.loads(message)\r\n",
        "  alt_candle = candle['k']\r\n",
        "  candle_close = alt_candle['c']\r\n",
        "  candle_low = alt_candle['l']\r\n",
        "  candle_open = alt_candle['o']\r\n",
        "  candle_high = alt_candle['h']\r\n",
        "  candle_closed = alt_candle['x']\r\n",
        "  if candle_closed:\r\n",
        "\r\n",
        "    #Genel Durum Kontrolü\r\n",
        "    total_analysis_c = total_analysis(SOCKET_SYMBOL,interval)\r\n",
        "\r\n",
        "    #Ösilatörlerin Al-Sat Emri Kontrolü\r\n",
        "    total_oscillators_c = total_oscillators(SOCKET_SYMBOL,interval)\r\n",
        "\r\n",
        "    #Genel Ortalamaların Emri\r\n",
        "    total_moving_averages_c = total_moving_averages(SOCKET_SYMBOL,interval)\r\n",
        "\r\n",
        "    #Parabolik Değerler İçin Alış Satış Kontrolü\r\n",
        "    parabolic_sar_signals_c = parabolic_sar_signals(SOCKET_SYMBOL,interval)\r\n",
        "\r\n",
        "    #RSI durumunun alınışı\r\n",
        "    analysis_indicators_rsi_c = analysis_indicators_rsi(SOCKET_SYMBOL,interval)\r\n",
        "\r\n",
        "    #MACD İndikatörünün Değerleri\r\n",
        "    analysis_indicators_macd_strategy_c = analysis_indicators_macd_strategy(SOCKET_SYMBOL,interval)\r\n",
        "\r\n",
        "    #StochRSI Kontrolü ve Değeri\r\n",
        "    analysis_indicators_stoch_rsi_c = analysis_indicators_stoch_rsi(SOCKET_SYMBOL,interval)\r\n",
        "\r\n",
        "    #RSI'ın Fonksiyonlarla Alış-Satış Emirlerinin Kontrolü\r\n",
        "    rsi_control = rsi_order_control(analysis_indicators_rsi_c)\r\n",
        "\r\n",
        "    #StochRSI Fonskiyonlarla Alış-Satış Emirlerinin Kontrolü\r\n",
        "    stoch_rsi_control = stoch_rsi_order_control(analysis_indicators_stoch_rsi_c)\r\n",
        "\r\n",
        "    #Mum Kapanma Durumunda Hesaplamalar\r\n",
        "    print(\"============= Mum Kapanmıştır ===============\")\r\n",
        "    buy_control = 0\r\n",
        "    sell_control = 0\r\n",
        "\r\n",
        "    # Total Durumun Kontrolü\r\n",
        "    if total_analysis_c:\r\n",
        "      buy_control += 1\r\n",
        "    else:\r\n",
        "      sell_control += 1\r\n",
        "    \r\n",
        "    #Osilatörlerin Kontrolü\r\n",
        "    if total_oscillators_c:\r\n",
        "      buy_control += 1\r\n",
        "    else:\r\n",
        "      sell_control += 1\r\n",
        "    \r\n",
        "    #Genel Ortalamarın Emir Kontrolü\r\n",
        "    if total_moving_averages_c:\r\n",
        "      buy_control += 1\r\n",
        "    else:\r\n",
        "      sell_control += 1\r\n",
        "    \r\n",
        "    #Parabolik Hesaplamaların Emri\r\n",
        "    if parabolic_sar_signals_c:\r\n",
        "      buy_control += 1\r\n",
        "    else:\r\n",
        "      sell_control += 1\r\n",
        "    \r\n",
        "    #RSI Hesaplamalarının Emirleri\r\n",
        "    if rsi_control:\r\n",
        "      buy_control += 1\r\n",
        "    else:\r\n",
        "      sell_control += 1\r\n",
        "    \r\n",
        "    if stoch_rsi_control:\r\n",
        "      buy_control += 1\r\n",
        "    else:\r\n",
        "      sell_control += 1\r\n",
        "\r\n",
        "    \r\n",
        "      \r\n",
        "      print(f\"Genel İndikatörler EmİR Verdi Mi? {total_analysis_c}\")\r\n",
        "      print(f\"Osilatörler Emir Verdi Mi? {total_oscillators_c}\")\r\n",
        "      print(f\"Hareketli Ortalamalar Emir Verdi Mi? {total_moving_averages_c}\")\r\n",
        "      print(f\"Parabolik Sar Emir Verdi Mi? {parabolic_sar_signals_c}\")\r\n",
        "      print(f\"RSI Satış Emir Mi? {rsi_control}\")\r\n",
        "      print(f\"Stoch RSI Emir Verdi Mi? {stoch_rsi_control}\")\r\n",
        "      print(\"\")\r\n",
        "\r\n",
        "        #Genel Satın Alım Kontrolü\r\n",
        "      if buy_control >= 6:\r\n",
        "        print(f\"Alış Emriniz Verilmiştir. {candle_close}\")\r\n",
        "        print(f\"Alış Tarihi {datetime.now()}\")\r\n",
        "        order_pr = order(SIDE_BUY, MARKET_MIN_VAL, SOCKET_SYMBOL)\r\n",
        "        if order_pr:\r\n",
        "          print(\"Alış İşleminiz Başarıyla Tamalanmıştır. İyi karlar dileriz\")\r\n",
        "        else:\r\n",
        "          print(\"Cüzdanınızda yeterli miktarda para bulunmamaktadır.\")\r\n",
        "      elif sell_control >= 6:\r\n",
        "        print(f\"Satış Emriniz Verilmiştir. {candle_close}\")\r\n",
        "        print(f\"Satış Tarihi {datetime.now()}\")\r\n",
        "        order_pr = order(SIDE_SELL, MARKET_MIN_VAL, SOCKET_SYMBOL)\r\n",
        "        if order_pr:\r\n",
        "          print(\"Satış İşleminiz Başarıyla Tamalanmıştır. İyi karlar dileriz\")\r\n",
        "        else:\r\n",
        "          print(\"Cüzdanınızda yeterli miktarda para bulunmamaktadır.\")\r\n",
        "\r\n",
        "      print(f\"Güncel Satış Durumu {buy_control}\")\r\n",
        "      print(f\"Güncel Satış Durumu {sell_control}\")\r\n",
        "      print(\"\")\r\n",
        "      print(\"=============================================\")\r\n"
      ],
      "execution_count": null,
      "outputs": []
    },
    {
      "cell_type": "code",
      "metadata": {
        "id": "BIe4Dgwbg8Pt",
        "colab": {
          "base_uri": "https://localhost:8080/",
          "height": 197
        },
        "outputId": "ed39e216-855e-492b-a5ae-17db68104d93"
      },
      "source": [
        "api_key = 'hXjL8ujRBXbXLNaek31Z4ysCiCmfhnbRiVdApFFt8YlwBST6hUx1gpoVC4r5xjpS'\r\n",
        "api_secret = 'zFyTQoSDZVdRvmmFnHgjP4oaPWcXC4hhBbICaavRKY4pBDKJawWOPX7hCF9uSAMw'\r\n",
        "\r\n",
        "api_key.join('3LywfTjcbJYvdPN4vAwCBVagYa5nfnpzBb')\r\n",
        "client = Client(api_key, api_secret)"
      ],
      "execution_count": 1,
      "outputs": [
        {
          "output_type": "error",
          "ename": "NameError",
          "evalue": "ignored",
          "traceback": [
            "\u001b[0;31m---------------------------------------------------------------------------\u001b[0m",
            "\u001b[0;31mNameError\u001b[0m                                 Traceback (most recent call last)",
            "\u001b[0;32m<ipython-input-1-29599ba9626d>\u001b[0m in \u001b[0;36m<module>\u001b[0;34m()\u001b[0m\n\u001b[1;32m      3\u001b[0m \u001b[0;34m\u001b[0m\u001b[0m\n\u001b[1;32m      4\u001b[0m \u001b[0mapi_key\u001b[0m\u001b[0;34m.\u001b[0m\u001b[0mjoin\u001b[0m\u001b[0;34m(\u001b[0m\u001b[0;34m'3LywfTjcbJYvdPN4vAwCBVagYa5nfnpzBb'\u001b[0m\u001b[0;34m)\u001b[0m\u001b[0;34m\u001b[0m\u001b[0;34m\u001b[0m\u001b[0m\n\u001b[0;32m----> 5\u001b[0;31m \u001b[0mclient\u001b[0m \u001b[0;34m=\u001b[0m \u001b[0mClient\u001b[0m\u001b[0;34m(\u001b[0m\u001b[0mapi_key\u001b[0m\u001b[0;34m,\u001b[0m \u001b[0mapi_secret\u001b[0m\u001b[0;34m)\u001b[0m\u001b[0;34m\u001b[0m\u001b[0;34m\u001b[0m\u001b[0m\n\u001b[0m",
            "\u001b[0;31mNameError\u001b[0m: name 'Client' is not defined"
          ]
        }
      ]
    },
    {
      "cell_type": "code",
      "metadata": {
        "id": "Cn0oV-WfMQrE"
      },
      "source": [
        "details = client.get_asset_details()\r\n",
        "prices\r\n",
        "get_tickers = []\r\n",
        "for i in prices:\r\n",
        "  vars = i['symbol']\r\n",
        "  get_tickers.append(vars)\r\n",
        "\r\n",
        "len(get_tickers)"
      ],
      "execution_count": null,
      "outputs": []
    },
    {
      "cell_type": "markdown",
      "metadata": {
        "id": "i44v0kr6qXB9"
      },
      "source": [
        "Eğer hata verirse, Invalid-API veya permission alttaki kısmı çalıtırıp colab'ın ip adresini binance'a girin"
      ]
    },
    {
      "cell_type": "code",
      "metadata": {
        "id": "59wsKP8XqeF7"
      },
      "source": [
        "# ip_adress = get(\"https://api.ipify.org\").text\r\n",
        "# local_ip = socket.gethostbyname(socket.gethostname())\r\n",
        "# get_adress = format(ip_adress)\r\n",
        "# hasher_newpass = '3LywfTjcbJYvdPN4vAwCBVagYa5nfnpzBb'\r\n",
        "# print(\"Web Soketlerine Bağlandı. Gizli Bağlantı Kodunuz : \" + ip_adress)"
      ],
      "execution_count": null,
      "outputs": []
    },
    {
      "cell_type": "code",
      "metadata": {
        "id": "WB6cma-CocFn"
      },
      "source": [
        "prices = client.get_all_tickers()\r\n",
        "getall_symbols = []\r\n",
        "quick_math = 0\r\n",
        "for trade_symbol in prices:\r\n",
        "  quick_math += 1\r\n",
        "  if quick_math < 400:\r\n",
        "      thats_symbol = trade_symbol['symbol']\r\n",
        "      getall_symbols.append(thats_symbol)\r\n",
        "  else:\r\n",
        "    break"
      ],
      "execution_count": null,
      "outputs": []
    },
    {
      "cell_type": "markdown",
      "metadata": {
        "id": "xvSaEXMTqrP8"
      },
      "source": [
        "# **Websoketlerin Entegrasyonu**"
      ]
    },
    {
      "cell_type": "code",
      "metadata": {
        "id": "UnN7Oa18epWO"
      },
      "source": [
        "ws = websocket.WebSocketApp(SOCKET, on_open=on_open, on_close=on_close, on_message=on_message)\r\n",
        "ws.run_forever()"
      ],
      "execution_count": null,
      "outputs": []
    },
    {
      "cell_type": "code",
      "metadata": {
        "id": "A0ZGMzeGGzVi"
      },
      "source": [
        "prices = client.get_all_tickers()\r\n",
        "len(prices)"
      ],
      "execution_count": null,
      "outputs": []
    },
    {
      "cell_type": "code",
      "metadata": {
        "id": "ddqk98v5OS7G"
      },
      "source": [
        ""
      ],
      "execution_count": null,
      "outputs": []
    }
  ]
}