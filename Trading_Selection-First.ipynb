{
  "nbformat": 4,
  "nbformat_minor": 0,
  "metadata": {
    "colab": {
      "name": "Trading-Selection.ipynb",
      "provenance": [],
      "collapsed_sections": [],
      "authorship_tag": "ABX9TyNMd1IVzEUon/88y+Bidyaj",
      "include_colab_link": true
    },
    "kernelspec": {
      "name": "python3",
      "display_name": "Python 3"
    }
  },
  "cells": [
    {
      "cell_type": "markdown",
      "metadata": {
        "id": "view-in-github",
        "colab_type": "text"
      },
      "source": [
        "<a href=\"https://colab.research.google.com/github/isaacpy-cloud/TraderWolfs/blob/main/Trading_Selection-First.ipynb\" target=\"_parent\"><img src=\"https://colab.research.google.com/assets/colab-badge.svg\" alt=\"Open In Colab\"/></a>"
      ]
    },
    {
      "cell_type": "code",
      "metadata": {
        "colab": {
          "base_uri": "https://localhost:8080/"
        },
        "id": "GK_SsKFm59gv",
        "outputId": "51de715d-32bf-44dd-debd-0951817b99de"
      },
      "source": [
        "!pip install python-binance\r\n",
        "!pip install catboost\r\n",
        "!pip install mpl_finance\r\n",
        "!pip install tradingview-ta\r\n",
        "!pip install websocket-client\r\n",
        "!pip install finta\r\n",
        "!pip install pandas_ta"
      ],
      "execution_count": 1,
      "outputs": [
        {
          "output_type": "stream",
          "text": [
            "Requirement already satisfied: python-binance in /usr/local/lib/python3.7/dist-packages (0.7.9)\n",
            "Requirement already satisfied: urllib3 in /usr/local/lib/python3.7/dist-packages (from python-binance) (1.24.3)\n",
            "Requirement already satisfied: certifi in /usr/local/lib/python3.7/dist-packages (from python-binance) (2020.12.5)\n",
            "Requirement already satisfied: cryptography in /usr/local/lib/python3.7/dist-packages (from python-binance) (3.4.6)\n",
            "Requirement already satisfied: ujson in /usr/local/lib/python3.7/dist-packages (from python-binance) (4.0.2)\n",
            "Requirement already satisfied: Twisted in /usr/local/lib/python3.7/dist-packages (from python-binance) (21.2.0)\n",
            "Requirement already satisfied: pyOpenSSL in /usr/local/lib/python3.7/dist-packages (from python-binance) (20.0.1)\n",
            "Requirement already satisfied: service-identity in /usr/local/lib/python3.7/dist-packages (from python-binance) (18.1.0)\n",
            "Requirement already satisfied: autobahn in /usr/local/lib/python3.7/dist-packages (from python-binance) (21.3.1)\n",
            "Requirement already satisfied: requests in /usr/local/lib/python3.7/dist-packages (from python-binance) (2.23.0)\n",
            "Requirement already satisfied: six in /usr/local/lib/python3.7/dist-packages (from python-binance) (1.15.0)\n",
            "Requirement already satisfied: dateparser in /usr/local/lib/python3.7/dist-packages (from python-binance) (1.0.0)\n",
            "Requirement already satisfied: cffi>=1.12 in /usr/local/lib/python3.7/dist-packages (from cryptography->python-binance) (1.14.5)\n",
            "Requirement already satisfied: zope.interface>=4.4.2 in /usr/local/lib/python3.7/dist-packages (from Twisted->python-binance) (5.2.0)\n",
            "Requirement already satisfied: constantly>=15.1 in /usr/local/lib/python3.7/dist-packages (from Twisted->python-binance) (15.1.0)\n",
            "Requirement already satisfied: Automat>=0.8.0 in /usr/local/lib/python3.7/dist-packages (from Twisted->python-binance) (20.2.0)\n",
            "Requirement already satisfied: hyperlink>=17.1.1 in /usr/local/lib/python3.7/dist-packages (from Twisted->python-binance) (21.0.0)\n",
            "Requirement already satisfied: incremental>=16.10.1 in /usr/local/lib/python3.7/dist-packages (from Twisted->python-binance) (21.3.0)\n",
            "Requirement already satisfied: attrs>=19.2.0 in /usr/local/lib/python3.7/dist-packages (from Twisted->python-binance) (20.3.0)\n",
            "Requirement already satisfied: pyasn1 in /usr/local/lib/python3.7/dist-packages (from service-identity->python-binance) (0.4.8)\n",
            "Requirement already satisfied: pyasn1-modules in /usr/local/lib/python3.7/dist-packages (from service-identity->python-binance) (0.2.8)\n",
            "Requirement already satisfied: txaio>=21.2.1 in /usr/local/lib/python3.7/dist-packages (from autobahn->python-binance) (21.2.1)\n",
            "Requirement already satisfied: idna<3,>=2.5 in /usr/local/lib/python3.7/dist-packages (from requests->python-binance) (2.10)\n",
            "Requirement already satisfied: chardet<4,>=3.0.2 in /usr/local/lib/python3.7/dist-packages (from requests->python-binance) (3.0.4)\n",
            "Requirement already satisfied: regex!=2019.02.19 in /usr/local/lib/python3.7/dist-packages (from dateparser->python-binance) (2019.12.20)\n",
            "Requirement already satisfied: python-dateutil in /usr/local/lib/python3.7/dist-packages (from dateparser->python-binance) (2.8.1)\n",
            "Requirement already satisfied: pytz in /usr/local/lib/python3.7/dist-packages (from dateparser->python-binance) (2018.9)\n",
            "Requirement already satisfied: tzlocal in /usr/local/lib/python3.7/dist-packages (from dateparser->python-binance) (1.5.1)\n",
            "Requirement already satisfied: pycparser in /usr/local/lib/python3.7/dist-packages (from cffi>=1.12->cryptography->python-binance) (2.20)\n",
            "Requirement already satisfied: setuptools in /usr/local/lib/python3.7/dist-packages (from zope.interface>=4.4.2->Twisted->python-binance) (54.0.0)\n",
            "Requirement already satisfied: catboost in /usr/local/lib/python3.7/dist-packages (0.24.4)\n",
            "Requirement already satisfied: six in /usr/local/lib/python3.7/dist-packages (from catboost) (1.15.0)\n",
            "Requirement already satisfied: numpy>=1.16.0 in /usr/local/lib/python3.7/dist-packages (from catboost) (1.19.5)\n",
            "Requirement already satisfied: plotly in /usr/local/lib/python3.7/dist-packages (from catboost) (4.4.1)\n",
            "Requirement already satisfied: matplotlib in /usr/local/lib/python3.7/dist-packages (from catboost) (3.3.4)\n",
            "Requirement already satisfied: graphviz in /usr/local/lib/python3.7/dist-packages (from catboost) (0.10.1)\n",
            "Requirement already satisfied: scipy in /usr/local/lib/python3.7/dist-packages (from catboost) (1.4.1)\n",
            "Requirement already satisfied: pandas>=0.24.0 in /usr/local/lib/python3.7/dist-packages (from catboost) (1.1.5)\n",
            "Requirement already satisfied: retrying>=1.3.3 in /usr/local/lib/python3.7/dist-packages (from plotly->catboost) (1.3.3)\n",
            "Requirement already satisfied: cycler>=0.10 in /usr/local/lib/python3.7/dist-packages (from matplotlib->catboost) (0.10.0)\n",
            "Requirement already satisfied: kiwisolver>=1.0.1 in /usr/local/lib/python3.7/dist-packages (from matplotlib->catboost) (1.3.1)\n",
            "Requirement already satisfied: pyparsing!=2.0.4,!=2.1.2,!=2.1.6,>=2.0.3 in /usr/local/lib/python3.7/dist-packages (from matplotlib->catboost) (2.4.7)\n",
            "Requirement already satisfied: pillow>=6.2.0 in /usr/local/lib/python3.7/dist-packages (from matplotlib->catboost) (7.0.0)\n",
            "Requirement already satisfied: python-dateutil>=2.1 in /usr/local/lib/python3.7/dist-packages (from matplotlib->catboost) (2.8.1)\n",
            "Requirement already satisfied: pytz>=2017.2 in /usr/local/lib/python3.7/dist-packages (from pandas>=0.24.0->catboost) (2018.9)\n",
            "Requirement already satisfied: mpl_finance in /usr/local/lib/python3.7/dist-packages (0.10.1)\n",
            "Requirement already satisfied: matplotlib in /usr/local/lib/python3.7/dist-packages (from mpl_finance) (3.3.4)\n",
            "Requirement already satisfied: cycler>=0.10 in /usr/local/lib/python3.7/dist-packages (from matplotlib->mpl_finance) (0.10.0)\n",
            "Requirement already satisfied: python-dateutil>=2.1 in /usr/local/lib/python3.7/dist-packages (from matplotlib->mpl_finance) (2.8.1)\n",
            "Requirement already satisfied: pyparsing!=2.0.4,!=2.1.2,!=2.1.6,>=2.0.3 in /usr/local/lib/python3.7/dist-packages (from matplotlib->mpl_finance) (2.4.7)\n",
            "Requirement already satisfied: kiwisolver>=1.0.1 in /usr/local/lib/python3.7/dist-packages (from matplotlib->mpl_finance) (1.3.1)\n",
            "Requirement already satisfied: numpy>=1.15 in /usr/local/lib/python3.7/dist-packages (from matplotlib->mpl_finance) (1.19.5)\n",
            "Requirement already satisfied: pillow>=6.2.0 in /usr/local/lib/python3.7/dist-packages (from matplotlib->mpl_finance) (7.0.0)\n",
            "Requirement already satisfied: six in /usr/local/lib/python3.7/dist-packages (from cycler>=0.10->matplotlib->mpl_finance) (1.15.0)\n",
            "Requirement already satisfied: tradingview-ta in /usr/local/lib/python3.7/dist-packages (3.2.2)\n",
            "Requirement already satisfied: requests in /usr/local/lib/python3.7/dist-packages (from tradingview-ta) (2.23.0)\n",
            "Requirement already satisfied: idna<3,>=2.5 in /usr/local/lib/python3.7/dist-packages (from requests->tradingview-ta) (2.10)\n",
            "Requirement already satisfied: urllib3!=1.25.0,!=1.25.1,<1.26,>=1.21.1 in /usr/local/lib/python3.7/dist-packages (from requests->tradingview-ta) (1.24.3)\n",
            "Requirement already satisfied: certifi>=2017.4.17 in /usr/local/lib/python3.7/dist-packages (from requests->tradingview-ta) (2020.12.5)\n",
            "Requirement already satisfied: chardet<4,>=3.0.2 in /usr/local/lib/python3.7/dist-packages (from requests->tradingview-ta) (3.0.4)\n",
            "Requirement already satisfied: websocket-client in /usr/local/lib/python3.7/dist-packages (0.58.0)\n",
            "Requirement already satisfied: six in /usr/local/lib/python3.7/dist-packages (from websocket-client) (1.15.0)\n",
            "Requirement already satisfied: finta in /usr/local/lib/python3.7/dist-packages (1.2)\n",
            "Requirement already satisfied: numpy in /usr/local/lib/python3.7/dist-packages (from finta) (1.19.5)\n",
            "Requirement already satisfied: pandas in /usr/local/lib/python3.7/dist-packages (from finta) (1.1.5)\n",
            "Requirement already satisfied: python-dateutil>=2.7.3 in /usr/local/lib/python3.7/dist-packages (from pandas->finta) (2.8.1)\n",
            "Requirement already satisfied: pytz>=2017.2 in /usr/local/lib/python3.7/dist-packages (from pandas->finta) (2018.9)\n",
            "Requirement already satisfied: six>=1.5 in /usr/local/lib/python3.7/dist-packages (from python-dateutil>=2.7.3->pandas->finta) (1.15.0)\n",
            "Requirement already satisfied: pandas_ta in /usr/local/lib/python3.7/dist-packages (0.2.45b0)\n",
            "Requirement already satisfied: pandas in /usr/local/lib/python3.7/dist-packages (from pandas_ta) (1.1.5)\n",
            "Requirement already satisfied: pytz>=2017.2 in /usr/local/lib/python3.7/dist-packages (from pandas->pandas_ta) (2018.9)\n",
            "Requirement already satisfied: numpy>=1.15.4 in /usr/local/lib/python3.7/dist-packages (from pandas->pandas_ta) (1.19.5)\n",
            "Requirement already satisfied: python-dateutil>=2.7.3 in /usr/local/lib/python3.7/dist-packages (from pandas->pandas_ta) (2.8.1)\n",
            "Requirement already satisfied: six>=1.5 in /usr/local/lib/python3.7/dist-packages (from python-dateutil>=2.7.3->pandas->pandas_ta) (1.15.0)\n"
          ],
          "name": "stdout"
        }
      ]
    },
    {
      "cell_type": "code",
      "metadata": {
        "colab": {
          "base_uri": "https://localhost:8080/"
        },
        "id": "DcFClcS07l7H",
        "outputId": "fb43c917-b67d-444f-def1-539f1567a3a4"
      },
      "source": [
        "url = 'https://launchpad.net/~mario-mariomedina/+archive/ubuntu/talib/+files'\r\n",
        "!wget $url/libta-lib0_0.4.0-oneiric1_amd64.deb -qO libta.deb\r\n",
        "!wget $url/ta-lib0-dev_0.4.0-oneiric1_amd64.deb -qO ta.deb\r\n",
        "!dpkg -i libta.deb ta.deb\r\n",
        "!pip install ta-lib"
      ],
      "execution_count": 2,
      "outputs": [
        {
          "output_type": "stream",
          "text": [
            "(Reading database ... \r(Reading database ... 5%\r(Reading database ... 10%\r(Reading database ... 15%\r(Reading database ... 20%\r(Reading database ... 25%\r(Reading database ... 30%\r(Reading database ... 35%\r(Reading database ... 40%\r(Reading database ... 45%\r(Reading database ... 50%\r(Reading database ... 55%\r(Reading database ... 60%\r(Reading database ... 65%\r(Reading database ... 70%\r(Reading database ... 75%\r(Reading database ... 80%\r(Reading database ... 85%\r(Reading database ... 90%\r(Reading database ... 95%\r(Reading database ... 100%\r(Reading database ... 161001 files and directories currently installed.)\n",
            "Preparing to unpack libta.deb ...\n",
            "Unpacking libta-lib0 (0.4.0-oneiric1) over (0.4.0-oneiric1) ...\n",
            "Preparing to unpack ta.deb ...\n",
            "Unpacking ta-lib0-dev (0.4.0-oneiric1) over (0.4.0-oneiric1) ...\n",
            "Setting up libta-lib0 (0.4.0-oneiric1) ...\n",
            "Setting up ta-lib0-dev (0.4.0-oneiric1) ...\n",
            "Processing triggers for man-db (2.8.3-2ubuntu0.1) ...\n",
            "Processing triggers for libc-bin (2.27-3ubuntu1.2) ...\n",
            "/sbin/ldconfig.real: /usr/local/lib/python3.7/dist-packages/ideep4py/lib/libmkldnn.so.0 is not a symbolic link\n",
            "\n",
            "Requirement already satisfied: ta-lib in /usr/local/lib/python3.7/dist-packages (0.4.19)\n",
            "Requirement already satisfied: numpy in /usr/local/lib/python3.7/dist-packages (from ta-lib) (1.19.5)\n"
          ],
          "name": "stdout"
        }
      ]
    },
    {
      "cell_type": "code",
      "metadata": {
        "colab": {
          "base_uri": "https://localhost:8080/"
        },
        "id": "lksISxC8GUHN",
        "outputId": "c8305516-abe2-4614-b4a3-4993ec9bb279"
      },
      "source": [
        "!pip install ccxt"
      ],
      "execution_count": 3,
      "outputs": [
        {
          "output_type": "stream",
          "text": [
            "Requirement already satisfied: ccxt in /usr/local/lib/python3.7/dist-packages (1.42.72)\n",
            "Requirement already satisfied: cryptography>=2.6.1 in /usr/local/lib/python3.7/dist-packages (from ccxt) (3.4.6)\n",
            "Requirement already satisfied: requests>=2.18.4 in /usr/local/lib/python3.7/dist-packages (from ccxt) (2.23.0)\n",
            "Requirement already satisfied: aiohttp<3.8,>=3.7.4; python_version >= \"3.5.2\" in /usr/local/lib/python3.7/dist-packages (from ccxt) (3.7.4.post0)\n",
            "Requirement already satisfied: aiodns<2.1,>=1.1.1; python_version >= \"3.5.2\" in /usr/local/lib/python3.7/dist-packages (from ccxt) (2.0.0)\n",
            "Requirement already satisfied: yarl==1.1.0; python_version >= \"3.5.2\" in /usr/local/lib/python3.7/dist-packages (from ccxt) (1.1.0)\n",
            "Requirement already satisfied: setuptools>=38.5.1 in /usr/local/lib/python3.7/dist-packages (from ccxt) (54.0.0)\n",
            "Requirement already satisfied: certifi>=2018.1.18 in /usr/local/lib/python3.7/dist-packages (from ccxt) (2020.12.5)\n",
            "Requirement already satisfied: cffi>=1.12 in /usr/local/lib/python3.7/dist-packages (from cryptography>=2.6.1->ccxt) (1.14.5)\n",
            "Requirement already satisfied: chardet<4,>=3.0.2 in /usr/local/lib/python3.7/dist-packages (from requests>=2.18.4->ccxt) (3.0.4)\n",
            "Requirement already satisfied: urllib3!=1.25.0,!=1.25.1,<1.26,>=1.21.1 in /usr/local/lib/python3.7/dist-packages (from requests>=2.18.4->ccxt) (1.24.3)\n",
            "Requirement already satisfied: idna<3,>=2.5 in /usr/local/lib/python3.7/dist-packages (from requests>=2.18.4->ccxt) (2.10)\n",
            "Requirement already satisfied: typing-extensions>=3.6.5 in /usr/local/lib/python3.7/dist-packages (from aiohttp<3.8,>=3.7.4; python_version >= \"3.5.2\"->ccxt) (3.7.4.3)\n",
            "Requirement already satisfied: attrs>=17.3.0 in /usr/local/lib/python3.7/dist-packages (from aiohttp<3.8,>=3.7.4; python_version >= \"3.5.2\"->ccxt) (20.3.0)\n",
            "Requirement already satisfied: async-timeout<4.0,>=3.0 in /usr/local/lib/python3.7/dist-packages (from aiohttp<3.8,>=3.7.4; python_version >= \"3.5.2\"->ccxt) (3.0.1)\n",
            "Requirement already satisfied: multidict<7.0,>=4.5 in /usr/local/lib/python3.7/dist-packages (from aiohttp<3.8,>=3.7.4; python_version >= \"3.5.2\"->ccxt) (5.1.0)\n",
            "Requirement already satisfied: pycares>=3.0.0 in /usr/local/lib/python3.7/dist-packages (from aiodns<2.1,>=1.1.1; python_version >= \"3.5.2\"->ccxt) (3.1.1)\n",
            "Requirement already satisfied: pycparser in /usr/local/lib/python3.7/dist-packages (from cffi>=1.12->cryptography>=2.6.1->ccxt) (2.20)\n"
          ],
          "name": "stdout"
        }
      ]
    },
    {
      "cell_type": "code",
      "metadata": {
        "id": "Xx8WW4_374Zu"
      },
      "source": [
        "import talib as ta\r\n",
        "import pandas as pd\r\n",
        "import numpy as np\r\n",
        "import time\r\n",
        "import dateparser\r\n",
        "import pytz\r\n",
        "import json\r\n",
        "import datetime as dt\r\n",
        "from datetime import datetime, timedelta\r\n",
        "from threading import Thread\r\n",
        "import matplotlib.pyplot as plt\r\n",
        "from mpl_finance import candlestick_ochl\r\n",
        "import matplotlib.dates as mdates\r\n",
        "from matplotlib.pyplot import figure\r\n",
        "from sklearn import preprocessing, model_selection, neighbors, svm\r\n",
        "from sklearn.preprocessing import StandardScaler, RobustScaler, MaxAbsScaler\r\n",
        "from sklearn.metrics import accuracy_score, mean_squared_error, mean_absolute_error\r\n",
        "from catboost import CatBoost, CatBoostClassifier, CatBoostRegressor, Pool, cv\r\n",
        "from tqdm import tqdm as tqdm\r\n",
        "import websocket\r\n",
        "from binance.client import Client\r\n",
        "from binance.enums import *\r\n",
        "from binance.websockets import BinanceSocketManager\r\n",
        "from time import sleep\r\n",
        "from tradingview_ta import TA_Handler, Interval, Exchange\r\n",
        "from tradingview_ta import Compute\r\n",
        "from requests import get\r\n",
        "import socket\r\n",
        "import sys\r\n",
        "import math\r\n",
        "from finta import TA"
      ],
      "execution_count": 4,
      "outputs": []
    },
    {
      "cell_type": "markdown",
      "metadata": {
        "id": "pvaxclfo-sMM"
      },
      "source": [
        "Api Key, Api Secret Alanı"
      ]
    },
    {
      "cell_type": "code",
      "metadata": {
        "id": "6V74PGqm-rqO"
      },
      "source": [
        "api_key = 'hXjL8ujRBXbXLNaek31Z4ysCiCmfhnbRiVdApFFt8YlwBST6hUx1gpoVC4r5xjpS'\r\n",
        "api_secret = 'zFyTQoSDZVdRvmmFnHgjP4oaPWcXC4hhBbICaavRKY4pBDKJawWOPX7hCF9uSAMw'"
      ],
      "execution_count": 5,
      "outputs": []
    },
    {
      "cell_type": "markdown",
      "metadata": {
        "id": "rOaC5x2M-ucu"
      },
      "source": [
        "Ana Çalışma Fonksiyonum"
      ]
    },
    {
      "cell_type": "code",
      "metadata": {
        "id": "WPapy6Qi56zo"
      },
      "source": [
        "from binance.client import Client\r\n",
        "\r\n",
        "class BinanceConnection:\r\n",
        "  def __init__(self,apikey,apisecret):\r\n",
        "    self.apikey = apikey\r\n",
        "    self.apisecret = apisecret\r\n",
        "    self.ClientCon = Client(self.apikey,self.apisecret)\r\n",
        "\r\n",
        "class HistoricalKlines:\r\n",
        "  def ImportKlines(self,Client,Symbol,Interval,Limit):\r\n",
        "    try:\r\n",
        "      self.Klines = Client.get_klines(symbol=Symbol, interval=Interval, limit=Limit)\r\n",
        "      return self.Klines\r\n",
        "    except Exception as exp:\r\n",
        "      print(exp.status_code, flush=True)\r\n",
        "      print(exp.message, flush=True) "
      ],
      "execution_count": 6,
      "outputs": []
    },
    {
      "cell_type": "code",
      "metadata": {
        "id": "C5HLganwJNIh"
      },
      "source": [
        "class Indicator_Settings:\r\n",
        "  def T3Tilson(self,close_array, high_array, low_array, volume_factor, t3Length):\r\n",
        "    ema_first_input = (high_array + low_array + 2 * close_array) / 4\r\n",
        "    e1 = ta.EMA(ema_first_input, t3Length)\r\n",
        "    e2 = ta.EMA(e1, t3Length)\r\n",
        "    e3 = ta.EMA(e2, t3Length)\r\n",
        "    e4 = ta.EMA(e3, t3Length)\r\n",
        "    e5 = ta.EMA(e4, t3Length)\r\n",
        "    e6 = ta.EMA(e5, t3Length)\r\n",
        "    c1 = -1 * volume_factor * volume_factor * volume_factor\r\n",
        "    c2 = 3 * volume_factor * volume_factor + 3 * volume_factor * volume_factor * volume_factor\r\n",
        "    c3 = -6 * volume_factor * volume_factor - 3 * volume_factor - 3 * volume_factor * volume_factor * volume_factor\r\n",
        "    c4 = 1 + 3 * volume_factor + volume_factor * volume_factor * volume_factor + 3 * volume_factor * volume_factor\r\n",
        "    T3 = c1 * e6 + c2 * e5 + c3 * e4 + c4 * e3\r\n",
        "    return T3"
      ],
      "execution_count": 7,
      "outputs": []
    },
    {
      "cell_type": "markdown",
      "metadata": {
        "id": "S9ZW9KPeFLfZ"
      },
      "source": [
        "Class'larımın İçeri Aktarılması ve Bağlantının Sağlanması"
      ]
    },
    {
      "cell_type": "code",
      "metadata": {
        "id": "n1bDFazX-ige"
      },
      "source": [
        "BinanceCon = BinanceConnection(api_key,api_secret)\r\n",
        "Clients = BinanceCon.ClientCon\r\n",
        "Symbol = 'TROYBNB'"
      ],
      "execution_count": 8,
      "outputs": []
    },
    {
      "cell_type": "markdown",
      "metadata": {
        "id": "o3H9AZwiHM-o"
      },
      "source": [
        "Bazı Farklı Sembollerin İçe Aktarılması"
      ]
    },
    {
      "cell_type": "code",
      "metadata": {
        "id": "Xdvh_F2MHQxl"
      },
      "source": [
        "# Bu edit sayfasıdır."
      ],
      "execution_count": 9,
      "outputs": []
    },
    {
      "cell_type": "code",
      "metadata": {
        "id": "iLpWRJbg-mCN"
      },
      "source": [
        "KlinesCon = HistoricalKlines()\r\n",
        "Indicators = Indicator_Settings()"
      ],
      "execution_count": 10,
      "outputs": []
    },
    {
      "cell_type": "code",
      "metadata": {
        "colab": {
          "base_uri": "https://localhost:8080/",
          "height": 435
        },
        "id": "m4DbiiDS_6up",
        "outputId": "c10bc1d3-232d-42a6-bafb-e8198c69de7e"
      },
      "source": [
        "while True:\r\n",
        "  sleep(10)\r\n",
        "  # Datamın Alınması\r\n",
        "  Historic_Klines = KlinesCon.ImportKlines(Clients,Symbol,Clients.KLINE_INTERVAL_1DAY,500)\r\n",
        "\r\n",
        "\r\n",
        "  # Datanın İçerisinden Bilgilerin Alınması\r\n",
        "  open_time = [int(entry[0]) for entry in Historic_Klines]\r\n",
        "  open = [float(entry[1]) for entry in Historic_Klines]\r\n",
        "  high = [float(entry[2]) for entry in Historic_Klines]\r\n",
        "  low = [float(entry[3]) for entry in Historic_Klines]\r\n",
        "  close = [float(entry[4]) for entry in Historic_Klines]\r\n",
        "\r\n",
        "  #Son Değerlerin Alınması\r\n",
        "  last_closing_price = close[-1]\r\n",
        "  previous_closing_price = close[-2]\r\n",
        "  close_array = np.asarray(close)\r\n",
        "  close_finished = close_array[:-1]\r\n",
        "  high_array = np.asarray(high)\r\n",
        "  low_array = np.asarray(low)\r\n",
        "\r\n",
        "  new_time = [datetime.fromtimestamp(time / 100) for time in open_time]\r\n",
        "  new_time_x = [date.strftime(\"%y-%m-%d\") for date in new_time]\r\n",
        "  volume_factor = 0.7\r\n",
        "  t3lenght = 8\r\n",
        "  TilsonT3 = Indicators.T3Tilson(close_array,high_array,low_array,volume_factor=volume_factor, t3Length=t3lenght)\r\n",
        "  t3_last = TilsonT3[-1]\r\n",
        "  t3_previous = TilsonT3[-2]\r\n",
        "  t3_prev_previous = TilsonT3[-3]\r\n",
        "\r\n",
        "  # kırmızıdan yeşile dönüyor\r\n",
        "  if t3_last > t3_previous and t3_previous < t3_prev_previous:\r\n",
        "      print('tillson t3 buy signal, from red to green')\r\n",
        "\r\n",
        "  # yeşilden kırmızıya dönüyor\r\n",
        "  elif t3_last < t3_previous and t3_previous > t3_prev_previous:\r\n",
        "      print('tillson t3 sell signal, from green to red')   \r\n",
        "\r\n",
        "  #Macd'nin ve RSI'ın Alınması\r\n",
        "  macd, macdsignal, macdhist = ta.MACD(close_finished, fastperiod=12, slowperiod=26, signalperiod=9)\r\n",
        "  rsi = ta.RSI(close_finished, timeperiod=14)\r\n",
        "  if len(macd) > 0:\r\n",
        "    last_macd = macd[-1]\r\n",
        "    last_macd_signal = macdsignal[-1]\r\n",
        "    previous_macd = macd[-2]\r\n",
        "    previous_macd_signal = macdsignal[-2]\r\n",
        "    rsi_last = rsi[-1]\r\n",
        "    macd_cross_up = last_macd > last_macd_signal and previous_macd < previous_macd_signal\r\n",
        "\r\n",
        "    print(rsi_last)\r\n",
        "    if macd_cross_up and rsi_last > 50:\r\n",
        "      print('al sinyali', flush=True) "
      ],
      "execution_count": 19,
      "outputs": [
        {
          "output_type": "stream",
          "text": [
            "51.79460411428918\n",
            "51.79460411428918\n",
            "51.79460411428918\n",
            "51.79460411428918\n",
            "51.79460411428918\n",
            "51.79460411428918\n",
            "51.79460411428918\n",
            "51.79460411428918\n",
            "51.79460411428918\n",
            "51.79460411428918\n",
            "51.79460411428918\n",
            "51.79460411428918\n"
          ],
          "name": "stdout"
        },
        {
          "output_type": "error",
          "ename": "KeyboardInterrupt",
          "evalue": "ignored",
          "traceback": [
            "\u001b[0;31m---------------------------------------------------------------------------\u001b[0m",
            "\u001b[0;31mKeyboardInterrupt\u001b[0m                         Traceback (most recent call last)",
            "\u001b[0;32m<ipython-input-19-8f56e6c36f75>\u001b[0m in \u001b[0;36m<module>\u001b[0;34m()\u001b[0m\n\u001b[1;32m      1\u001b[0m \u001b[0;32mwhile\u001b[0m \u001b[0;32mTrue\u001b[0m\u001b[0;34m:\u001b[0m\u001b[0;34m\u001b[0m\u001b[0;34m\u001b[0m\u001b[0m\n\u001b[0;32m----> 2\u001b[0;31m   \u001b[0msleep\u001b[0m\u001b[0;34m(\u001b[0m\u001b[0;36m10\u001b[0m\u001b[0;34m)\u001b[0m\u001b[0;34m\u001b[0m\u001b[0;34m\u001b[0m\u001b[0m\n\u001b[0m\u001b[1;32m      3\u001b[0m   \u001b[0;31m# Datamın Alınması\u001b[0m\u001b[0;34m\u001b[0m\u001b[0;34m\u001b[0m\u001b[0;34m\u001b[0m\u001b[0m\n\u001b[1;32m      4\u001b[0m   \u001b[0mHistoric_Klines\u001b[0m \u001b[0;34m=\u001b[0m \u001b[0mKlinesCon\u001b[0m\u001b[0;34m.\u001b[0m\u001b[0mImportKlines\u001b[0m\u001b[0;34m(\u001b[0m\u001b[0mClients\u001b[0m\u001b[0;34m,\u001b[0m\u001b[0mSymbol\u001b[0m\u001b[0;34m,\u001b[0m\u001b[0mClients\u001b[0m\u001b[0;34m.\u001b[0m\u001b[0mKLINE_INTERVAL_1DAY\u001b[0m\u001b[0;34m,\u001b[0m\u001b[0;36m500\u001b[0m\u001b[0;34m)\u001b[0m\u001b[0;34m\u001b[0m\u001b[0;34m\u001b[0m\u001b[0m\n\u001b[1;32m      5\u001b[0m \u001b[0;34m\u001b[0m\u001b[0m\n",
            "\u001b[0;31mKeyboardInterrupt\u001b[0m: "
          ]
        }
      ]
    },
    {
      "cell_type": "code",
      "metadata": {
        "id": "VzV0WKq1INiH"
      },
      "source": [
        ""
      ],
      "execution_count": null,
      "outputs": []
    }
  ]
}